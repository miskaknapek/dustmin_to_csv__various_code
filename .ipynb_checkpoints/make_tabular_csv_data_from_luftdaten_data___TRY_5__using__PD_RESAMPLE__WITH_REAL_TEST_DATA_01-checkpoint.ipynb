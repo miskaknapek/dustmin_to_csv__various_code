{
 "cells": [
  {
   "cell_type": "markdown",
   "metadata": {},
   "source": [
    "# Luftdaten data : data cleaning, resampling - mini version\n",
    "\n",
    "# - RETRYING THIS, just to makes sure we've got the hang of it! \n",
    "## Code builds a continuous time tabular version of the luftdaen data, such that the same time period is present for each sensor in the data, regardless of whether each sensor has data for all the time slots. \n",
    "\n",
    "## Testing :\n",
    "- using pd.resample\n",
    "- constructing a time shift using pandas own tools, rather than my own\n"
   ]
  },
  {
   "cell_type": "markdown",
   "metadata": {},
   "source": [
    "#### Reference documents\n",
    "\n",
    "Resampling time series data with Pandas ( Ben Alex Keen ) \n",
    "http://benalexkeen.com/resampling-time-series-data-with-pandas/\n",
    "\n",
    "Pandas reference manual : \n",
    "\n",
    ".at - access df values using nay kind of index, for SINGLE VALUES\n",
    "https://pandas.pydata.org/pandas-docs/stable/reference/api/pandas.DataFrame.loc.html#pandas.DataFrame.loc\n",
    "\n",
    ".iat - only integer index values for getting/setting SINGLE df values\n",
    "https://pandas.pydata.org/pandas-docs/stable/reference/api/pandas.DataFrame.iat.html\n",
    "\n",
    ".loc - \n",
    "https://pandas.pydata.org/pandas-docs/stable/reference/api/pandas.DataFrame.loc.html#pandas.DataFrame.loc\n",
    "\n",
    ".iloc - purely integer indexed access ( getting/setting ) values \n",
    "https://pandas.pydata.org/pandas-docs/stable/reference/api/pandas.DataFrame.iloc.html#pandas.DataFrame.iloc\n",
    "\n",
    "datetime - documentation - useful for time! \n",
    "https://pandas.pydata.org/pandas-docs/stable/user_guide/timeseries.html"
   ]
  },
  {
   "cell_type": "markdown",
   "metadata": {},
   "source": [
    "#### methods of filling … \n",
    "\n",
    "These are some of the common methods you might use for resampling:\n",
    "\n",
    "Method\tDescription\n",
    "\n",
    "bfill\tBackward fill\n",
    "\n",
    "count\tCount of values\n",
    "\n",
    "ffill\tForward fill\n",
    "\n",
    "first\tFirst valid data value\n",
    "\n",
    "last\tLast valid data value\n",
    "\n",
    "max\tMaximum data value\n",
    "\n",
    "mean\tMean of values in time range\n",
    "\n",
    "median\tMedian of values in time range\n",
    "\n",
    "min\tMinimum data value\n",
    "\n",
    "nunique\tNumber of unique values\n",
    "\n",
    "ohlc\tOpening value, highest value, lowest value, closing value\n",
    "\n",
    "pad\tSame as forward fill\n",
    "\n",
    "std\tStandard deviation of values\n",
    "\n",
    "sum\tSum of values\n",
    "\n",
    "var\tVariance of values\n",
    "\n",
    "#### time abbreviations \n",
    "\n",
    "Alias\tDescription\n",
    "\n",
    "B\tBusiness day\n",
    "\n",
    "D\tCalendar day\n",
    "\n",
    "W\tWeekly\n",
    "\n",
    "M\tMonth end\n",
    "\n",
    "Q\tQuarter end\n",
    "\n",
    "A\tYear end\n",
    "\n",
    "BA\tBusiness year end\n",
    "\n",
    "AS\tYear start\n",
    "\n",
    "H\tHourly frequency\n",
    "\n",
    "T, min\tMinutely frequency\n",
    "\n",
    "S\tSecondly frequency\n",
    "\n",
    "L, ms\tMillisecond frequency\n",
    "\n",
    "U, us\tMicrosecond frequency\n",
    "\n",
    "N, ns\tNanosecond frequency"
   ]
  },
  {
   "cell_type": "code",
   "execution_count": 101,
   "metadata": {},
   "outputs": [],
   "source": [
    "import pandas as pd\n",
    "import numpy as np\n",
    "import time"
   ]
  },
  {
   "cell_type": "code",
   "execution_count": 102,
   "metadata": {},
   "outputs": [],
   "source": [
    "# parameters\n",
    "\n",
    "# start_time = \"2018-12-31 21:58:42\"\n",
    "end_time = \"2019-01-01 11:58:42\"\n",
    "# generate this please\n",
    "start_time = \"?????\"\n",
    "\n",
    "time_frequency_for_periods__for_basic_data = \"5T\"\n",
    "num_of_time_periods___for_basic_data = 24*20 # 24 hrs * 12 x 5 mins in each hour\n",
    "\n",
    "# when generating time periods \n",
    "sampling_frequency = \"3T\"\n",
    "\n",
    "\n",
    "\n",
    "# --- data urls \n",
    "\n",
    "curr_url = \"????\"\n",
    "nordic_midnight_24_hrs_data__url = \"/Users/miska/Documents/open_something/luftdaten/luftdaten_code/luftdaten__make_tabular_data__from_db_data/ld_NYE_midnight_24hrs_nordics_all_data_01.csv\"\n",
    "# nordic_midnight_24_hrs_data__url = \"/home/miska/documents/opensomething/luftdaten/dustmin_to_csv__various_code/ld_NYE_midnight_24hrs_nordics_all_data_01.csv\"\n",
    "\n",
    "\n",
    "\n",
    "# set the current data source \n",
    "curr_url = nordic_midnight_24_hrs_data__url"
   ]
  },
  {
   "cell_type": "code",
   "execution_count": 103,
   "metadata": {},
   "outputs": [
    {
     "data": {
      "text/plain": [
       "(127109, 7)"
      ]
     },
     "execution_count": 103,
     "metadata": {},
     "output_type": "execute_result"
    }
   ],
   "source": [
    "# try convert the timestamp in the data, to epoch\n",
    "\n",
    "in_data = pd.read_csv( curr_url )\n",
    "in_data.shape"
   ]
  },
  {
   "cell_type": "markdown",
   "metadata": {},
   "source": [
    "#### basic data checking"
   ]
  },
  {
   "cell_type": "code",
   "execution_count": 104,
   "metadata": {},
   "outputs": [
    {
     "data": {
      "text/plain": [
       "sensor_id         int64\n",
       "sensor_namee     object\n",
       "lat             float64\n",
       "lon             float64\n",
       "timestamp        object\n",
       "p1              float64\n",
       "p2              float64\n",
       "dtype: object"
      ]
     },
     "execution_count": 104,
     "metadata": {},
     "output_type": "execute_result"
    }
   ],
   "source": [
    "in_data.dtypes"
   ]
  },
  {
   "cell_type": "code",
   "execution_count": 105,
   "metadata": {},
   "outputs": [
    {
     "data": {
      "text/plain": [
       "str"
      ]
     },
     "execution_count": 105,
     "metadata": {},
     "output_type": "execute_result"
    }
   ],
   "source": [
    "# is the timestamp column not an offical timestamp column?\n",
    "type( in_data['timestamp'][0] )"
   ]
  },
  {
   "cell_type": "code",
   "execution_count": 106,
   "metadata": {},
   "outputs": [],
   "source": [
    "# aha - timestamp column not a timestamp column?\n",
    "# - let's fix \n",
    "in_data['timestamp'] = pd.to_datetime( in_data['timestamp'] )"
   ]
  },
  {
   "cell_type": "code",
   "execution_count": 107,
   "metadata": {},
   "outputs": [
    {
     "data": {
      "text/plain": [
       "pandas._libs.tslibs.timestamps.Timestamp"
      ]
     },
     "execution_count": 107,
     "metadata": {},
     "output_type": "execute_result"
    }
   ],
   "source": [
    "# check the timestamps column type again\n",
    "type( in_data['timestamp'][0] )"
   ]
  },
  {
   "cell_type": "code",
   "execution_count": 108,
   "metadata": {},
   "outputs": [],
   "source": [
    "# set the timestamp column as the index \n",
    "in_data = in_data.set_index( 'timestamp' )"
   ]
  },
  {
   "cell_type": "code",
   "execution_count": 109,
   "metadata": {},
   "outputs": [
    {
     "data": {
      "text/plain": [
       "DatetimeIndex(['2018-12-31 11:57:22', '2018-12-31 11:58:44',\n",
       "               '2018-12-31 11:58:47', '2018-12-31 11:56:41',\n",
       "               '2018-12-31 11:57:42', '2018-12-31 11:57:52',\n",
       "               '2018-12-31 11:58:51', '2018-12-31 11:58:28',\n",
       "               '2018-12-31 11:57:18', '2018-12-31 11:57:22',\n",
       "               ...\n",
       "               '2019-01-01 11:59:41', '2019-01-01 11:59:46',\n",
       "               '2019-01-01 11:57:19', '2019-01-01 11:59:59',\n",
       "               '2019-01-01 11:56:55', '2019-01-01 11:58:57',\n",
       "               '2019-01-01 11:59:36', '2019-01-01 11:59:41',\n",
       "               '2019-01-01 11:57:12', '2019-01-01 11:58:42'],\n",
       "              dtype='datetime64[ns]', name='timestamp', length=127109, freq=None)"
      ]
     },
     "execution_count": 109,
     "metadata": {},
     "output_type": "execute_result"
    }
   ],
   "source": [
    "# check\n",
    "in_data.index"
   ]
  },
  {
   "cell_type": "code",
   "execution_count": 110,
   "metadata": {},
   "outputs": [
    {
     "data": {
      "text/html": [
       "<div>\n",
       "<style scoped>\n",
       "    .dataframe tbody tr th:only-of-type {\n",
       "        vertical-align: middle;\n",
       "    }\n",
       "\n",
       "    .dataframe tbody tr th {\n",
       "        vertical-align: top;\n",
       "    }\n",
       "\n",
       "    .dataframe thead th {\n",
       "        text-align: right;\n",
       "    }\n",
       "</style>\n",
       "<table border=\"1\" class=\"dataframe\">\n",
       "  <thead>\n",
       "    <tr style=\"text-align: right;\">\n",
       "      <th></th>\n",
       "      <th>sensor_id</th>\n",
       "      <th>sensor_namee</th>\n",
       "      <th>lat</th>\n",
       "      <th>lon</th>\n",
       "      <th>p1</th>\n",
       "      <th>p2</th>\n",
       "    </tr>\n",
       "    <tr>\n",
       "      <th>timestamp</th>\n",
       "      <th></th>\n",
       "      <th></th>\n",
       "      <th></th>\n",
       "      <th></th>\n",
       "      <th></th>\n",
       "      <th></th>\n",
       "    </tr>\n",
       "  </thead>\n",
       "  <tbody>\n",
       "    <tr>\n",
       "      <th>2018-12-31 11:57:22</th>\n",
       "      <td>7273</td>\n",
       "      <td>SDS011</td>\n",
       "      <td>60.002</td>\n",
       "      <td>17.846</td>\n",
       "      <td>3.43</td>\n",
       "      <td>1.56</td>\n",
       "    </tr>\n",
       "    <tr>\n",
       "      <th>2018-12-31 11:58:44</th>\n",
       "      <td>7275</td>\n",
       "      <td>SDS011</td>\n",
       "      <td>57.720</td>\n",
       "      <td>11.888</td>\n",
       "      <td>482.77</td>\n",
       "      <td>33.82</td>\n",
       "    </tr>\n",
       "    <tr>\n",
       "      <th>2018-12-31 11:58:47</th>\n",
       "      <td>7277</td>\n",
       "      <td>SDS011</td>\n",
       "      <td>59.266</td>\n",
       "      <td>15.230</td>\n",
       "      <td>5.48</td>\n",
       "      <td>2.47</td>\n",
       "    </tr>\n",
       "    <tr>\n",
       "      <th>2018-12-31 11:56:41</th>\n",
       "      <td>7406</td>\n",
       "      <td>SDS011</td>\n",
       "      <td>56.964</td>\n",
       "      <td>24.128</td>\n",
       "      <td>11.05</td>\n",
       "      <td>6.62</td>\n",
       "    </tr>\n",
       "    <tr>\n",
       "      <th>2018-12-31 11:57:42</th>\n",
       "      <td>7428</td>\n",
       "      <td>SDS011</td>\n",
       "      <td>59.868</td>\n",
       "      <td>17.624</td>\n",
       "      <td>1.78</td>\n",
       "      <td>1.02</td>\n",
       "    </tr>\n",
       "    <tr>\n",
       "      <th>2018-12-31 11:57:52</th>\n",
       "      <td>7469</td>\n",
       "      <td>SDS011</td>\n",
       "      <td>56.944</td>\n",
       "      <td>24.142</td>\n",
       "      <td>8.40</td>\n",
       "      <td>5.54</td>\n",
       "    </tr>\n",
       "    <tr>\n",
       "      <th>2018-12-31 11:58:51</th>\n",
       "      <td>7597</td>\n",
       "      <td>SDS011</td>\n",
       "      <td>59.320</td>\n",
       "      <td>18.064</td>\n",
       "      <td>3.68</td>\n",
       "      <td>2.00</td>\n",
       "    </tr>\n",
       "    <tr>\n",
       "      <th>2018-12-31 11:58:28</th>\n",
       "      <td>8683</td>\n",
       "      <td>SDS011</td>\n",
       "      <td>59.744</td>\n",
       "      <td>18.206</td>\n",
       "      <td>3.01</td>\n",
       "      <td>2.80</td>\n",
       "    </tr>\n",
       "    <tr>\n",
       "      <th>2018-12-31 11:57:18</th>\n",
       "      <td>9411</td>\n",
       "      <td>SDS011</td>\n",
       "      <td>59.266</td>\n",
       "      <td>15.230</td>\n",
       "      <td>3.44</td>\n",
       "      <td>2.18</td>\n",
       "    </tr>\n",
       "    <tr>\n",
       "      <th>2018-12-31 11:57:22</th>\n",
       "      <td>9436</td>\n",
       "      <td>SDS011</td>\n",
       "      <td>59.334</td>\n",
       "      <td>18.034</td>\n",
       "      <td>2.12</td>\n",
       "      <td>1.90</td>\n",
       "    </tr>\n",
       "    <tr>\n",
       "      <th>2018-12-31 11:57:15</th>\n",
       "      <td>9743</td>\n",
       "      <td>SDS011</td>\n",
       "      <td>57.664</td>\n",
       "      <td>12.054</td>\n",
       "      <td>268.58</td>\n",
       "      <td>29.05</td>\n",
       "    </tr>\n",
       "    <tr>\n",
       "      <th>2018-12-31 11:58:52</th>\n",
       "      <td>9797</td>\n",
       "      <td>SDS011</td>\n",
       "      <td>57.492</td>\n",
       "      <td>12.652</td>\n",
       "      <td>10.13</td>\n",
       "      <td>7.05</td>\n",
       "    </tr>\n",
       "    <tr>\n",
       "      <th>2018-12-31 11:57:28</th>\n",
       "      <td>10216</td>\n",
       "      <td>SDS011</td>\n",
       "      <td>59.674</td>\n",
       "      <td>16.838</td>\n",
       "      <td>3.94</td>\n",
       "      <td>2.75</td>\n",
       "    </tr>\n",
       "    <tr>\n",
       "      <th>2018-12-31 11:58:38</th>\n",
       "      <td>10250</td>\n",
       "      <td>SDS011</td>\n",
       "      <td>58.692</td>\n",
       "      <td>12.478</td>\n",
       "      <td>11.55</td>\n",
       "      <td>5.88</td>\n",
       "    </tr>\n",
       "    <tr>\n",
       "      <th>2018-12-31 11:58:42</th>\n",
       "      <td>10281</td>\n",
       "      <td>SDS011</td>\n",
       "      <td>59.472</td>\n",
       "      <td>18.048</td>\n",
       "      <td>5.18</td>\n",
       "      <td>3.12</td>\n",
       "    </tr>\n",
       "    <tr>\n",
       "      <th>2018-12-31 11:57:35</th>\n",
       "      <td>10430</td>\n",
       "      <td>SDS011</td>\n",
       "      <td>59.958</td>\n",
       "      <td>17.726</td>\n",
       "      <td>2.42</td>\n",
       "      <td>1.58</td>\n",
       "    </tr>\n",
       "    <tr>\n",
       "      <th>2018-12-31 11:58:28</th>\n",
       "      <td>10647</td>\n",
       "      <td>SDS011</td>\n",
       "      <td>55.608</td>\n",
       "      <td>13.036</td>\n",
       "      <td>14.65</td>\n",
       "      <td>5.10</td>\n",
       "    </tr>\n",
       "    <tr>\n",
       "      <th>2018-12-31 11:57:54</th>\n",
       "      <td>10721</td>\n",
       "      <td>SDS011</td>\n",
       "      <td>59.450</td>\n",
       "      <td>18.124</td>\n",
       "      <td>2.28</td>\n",
       "      <td>1.45</td>\n",
       "    </tr>\n",
       "    <tr>\n",
       "      <th>2018-12-31 11:56:45</th>\n",
       "      <td>10723</td>\n",
       "      <td>SDS011</td>\n",
       "      <td>59.298</td>\n",
       "      <td>18.052</td>\n",
       "      <td>4.90</td>\n",
       "      <td>2.76</td>\n",
       "    </tr>\n",
       "    <tr>\n",
       "      <th>2018-12-31 11:58:07</th>\n",
       "      <td>10803</td>\n",
       "      <td>SDS011</td>\n",
       "      <td>57.690</td>\n",
       "      <td>11.954</td>\n",
       "      <td>31.01</td>\n",
       "      <td>6.02</td>\n",
       "    </tr>\n",
       "  </tbody>\n",
       "</table>\n",
       "</div>"
      ],
      "text/plain": [
       "                     sensor_id sensor_namee     lat     lon      p1     p2\n",
       "timestamp                                                                 \n",
       "2018-12-31 11:57:22       7273       SDS011  60.002  17.846    3.43   1.56\n",
       "2018-12-31 11:58:44       7275       SDS011  57.720  11.888  482.77  33.82\n",
       "2018-12-31 11:58:47       7277       SDS011  59.266  15.230    5.48   2.47\n",
       "2018-12-31 11:56:41       7406       SDS011  56.964  24.128   11.05   6.62\n",
       "2018-12-31 11:57:42       7428       SDS011  59.868  17.624    1.78   1.02\n",
       "2018-12-31 11:57:52       7469       SDS011  56.944  24.142    8.40   5.54\n",
       "2018-12-31 11:58:51       7597       SDS011  59.320  18.064    3.68   2.00\n",
       "2018-12-31 11:58:28       8683       SDS011  59.744  18.206    3.01   2.80\n",
       "2018-12-31 11:57:18       9411       SDS011  59.266  15.230    3.44   2.18\n",
       "2018-12-31 11:57:22       9436       SDS011  59.334  18.034    2.12   1.90\n",
       "2018-12-31 11:57:15       9743       SDS011  57.664  12.054  268.58  29.05\n",
       "2018-12-31 11:58:52       9797       SDS011  57.492  12.652   10.13   7.05\n",
       "2018-12-31 11:57:28      10216       SDS011  59.674  16.838    3.94   2.75\n",
       "2018-12-31 11:58:38      10250       SDS011  58.692  12.478   11.55   5.88\n",
       "2018-12-31 11:58:42      10281       SDS011  59.472  18.048    5.18   3.12\n",
       "2018-12-31 11:57:35      10430       SDS011  59.958  17.726    2.42   1.58\n",
       "2018-12-31 11:58:28      10647       SDS011  55.608  13.036   14.65   5.10\n",
       "2018-12-31 11:57:54      10721       SDS011  59.450  18.124    2.28   1.45\n",
       "2018-12-31 11:56:45      10723       SDS011  59.298  18.052    4.90   2.76\n",
       "2018-12-31 11:58:07      10803       SDS011  57.690  11.954   31.01   6.02"
      ]
     },
     "execution_count": 110,
     "metadata": {},
     "output_type": "execute_result"
    }
   ],
   "source": [
    "# order by time? \n",
    "in_data[:20]"
   ]
  },
  {
   "cell_type": "code",
   "execution_count": 111,
   "metadata": {},
   "outputs": [],
   "source": [
    "# this works :) \n",
    "# in_data = in_data.sort_index()"
   ]
  },
  {
   "cell_type": "code",
   "execution_count": 112,
   "metadata": {},
   "outputs": [],
   "source": [
    "# let's try sorting the index in a different way … just for the sake of trying\n",
    "in_data = in_data.sort_values( by='timestamp' )"
   ]
  },
  {
   "cell_type": "markdown",
   "metadata": {},
   "source": [
    "#### quick data printout"
   ]
  },
  {
   "cell_type": "code",
   "execution_count": 113,
   "metadata": {},
   "outputs": [
    {
     "data": {
      "text/html": [
       "<div>\n",
       "<style scoped>\n",
       "    .dataframe tbody tr th:only-of-type {\n",
       "        vertical-align: middle;\n",
       "    }\n",
       "\n",
       "    .dataframe tbody tr th {\n",
       "        vertical-align: top;\n",
       "    }\n",
       "\n",
       "    .dataframe thead th {\n",
       "        text-align: right;\n",
       "    }\n",
       "</style>\n",
       "<table border=\"1\" class=\"dataframe\">\n",
       "  <thead>\n",
       "    <tr style=\"text-align: right;\">\n",
       "      <th></th>\n",
       "      <th>sensor_id</th>\n",
       "      <th>sensor_namee</th>\n",
       "      <th>lat</th>\n",
       "      <th>lon</th>\n",
       "      <th>p1</th>\n",
       "      <th>p2</th>\n",
       "    </tr>\n",
       "    <tr>\n",
       "      <th>timestamp</th>\n",
       "      <th></th>\n",
       "      <th></th>\n",
       "      <th></th>\n",
       "      <th></th>\n",
       "      <th></th>\n",
       "      <th></th>\n",
       "    </tr>\n",
       "  </thead>\n",
       "  <tbody>\n",
       "    <tr>\n",
       "      <th>2018-12-31 11:55:19</th>\n",
       "      <td>13012</td>\n",
       "      <td>SDS011</td>\n",
       "      <td>57.662</td>\n",
       "      <td>12.006</td>\n",
       "      <td>6.30</td>\n",
       "      <td>2.60</td>\n",
       "    </tr>\n",
       "    <tr>\n",
       "      <th>2018-12-31 11:56:37</th>\n",
       "      <td>18112</td>\n",
       "      <td>SDS011</td>\n",
       "      <td>57.478</td>\n",
       "      <td>11.978</td>\n",
       "      <td>174.80</td>\n",
       "      <td>15.13</td>\n",
       "    </tr>\n",
       "    <tr>\n",
       "      <th>2018-12-31 11:56:38</th>\n",
       "      <td>15067</td>\n",
       "      <td>SDS011</td>\n",
       "      <td>60.024</td>\n",
       "      <td>18.770</td>\n",
       "      <td>1.62</td>\n",
       "      <td>1.02</td>\n",
       "    </tr>\n",
       "    <tr>\n",
       "      <th>2018-12-31 11:56:39</th>\n",
       "      <td>11765</td>\n",
       "      <td>SDS011</td>\n",
       "      <td>55.716</td>\n",
       "      <td>13.244</td>\n",
       "      <td>33.95</td>\n",
       "      <td>13.40</td>\n",
       "    </tr>\n",
       "    <tr>\n",
       "      <th>2018-12-31 11:56:40</th>\n",
       "      <td>14811</td>\n",
       "      <td>SDS011</td>\n",
       "      <td>57.706</td>\n",
       "      <td>11.900</td>\n",
       "      <td>63.25</td>\n",
       "      <td>10.33</td>\n",
       "    </tr>\n",
       "  </tbody>\n",
       "</table>\n",
       "</div>"
      ],
      "text/plain": [
       "                     sensor_id sensor_namee     lat     lon      p1     p2\n",
       "timestamp                                                                 \n",
       "2018-12-31 11:55:19      13012       SDS011  57.662  12.006    6.30   2.60\n",
       "2018-12-31 11:56:37      18112       SDS011  57.478  11.978  174.80  15.13\n",
       "2018-12-31 11:56:38      15067       SDS011  60.024  18.770    1.62   1.02\n",
       "2018-12-31 11:56:39      11765       SDS011  55.716  13.244   33.95  13.40\n",
       "2018-12-31 11:56:40      14811       SDS011  57.706  11.900   63.25  10.33"
      ]
     },
     "execution_count": 113,
     "metadata": {},
     "output_type": "execute_result"
    }
   ],
   "source": [
    "in_data.head()"
   ]
  },
  {
   "cell_type": "code",
   "execution_count": 114,
   "metadata": {},
   "outputs": [
    {
     "data": {
      "text/html": [
       "<div>\n",
       "<style scoped>\n",
       "    .dataframe tbody tr th:only-of-type {\n",
       "        vertical-align: middle;\n",
       "    }\n",
       "\n",
       "    .dataframe tbody tr th {\n",
       "        vertical-align: top;\n",
       "    }\n",
       "\n",
       "    .dataframe thead th {\n",
       "        text-align: right;\n",
       "    }\n",
       "</style>\n",
       "<table border=\"1\" class=\"dataframe\">\n",
       "  <thead>\n",
       "    <tr style=\"text-align: right;\">\n",
       "      <th></th>\n",
       "      <th>sensor_id</th>\n",
       "      <th>sensor_namee</th>\n",
       "      <th>lat</th>\n",
       "      <th>lon</th>\n",
       "      <th>p1</th>\n",
       "      <th>p2</th>\n",
       "    </tr>\n",
       "    <tr>\n",
       "      <th>timestamp</th>\n",
       "      <th></th>\n",
       "      <th></th>\n",
       "      <th></th>\n",
       "      <th></th>\n",
       "      <th></th>\n",
       "      <th></th>\n",
       "    </tr>\n",
       "  </thead>\n",
       "  <tbody>\n",
       "    <tr>\n",
       "      <th>2019-01-01 23:59:56</th>\n",
       "      <td>19119</td>\n",
       "      <td>SDS011</td>\n",
       "      <td>56.972</td>\n",
       "      <td>24.132</td>\n",
       "      <td>2.41</td>\n",
       "      <td>0.96</td>\n",
       "    </tr>\n",
       "    <tr>\n",
       "      <th>2019-01-01 23:59:56</th>\n",
       "      <td>12129</td>\n",
       "      <td>SDS011</td>\n",
       "      <td>59.340</td>\n",
       "      <td>18.040</td>\n",
       "      <td>1.85</td>\n",
       "      <td>0.80</td>\n",
       "    </tr>\n",
       "    <tr>\n",
       "      <th>2019-01-01 23:59:56</th>\n",
       "      <td>12131</td>\n",
       "      <td>SDS011</td>\n",
       "      <td>59.450</td>\n",
       "      <td>17.916</td>\n",
       "      <td>1.48</td>\n",
       "      <td>0.52</td>\n",
       "    </tr>\n",
       "    <tr>\n",
       "      <th>2019-01-01 23:59:57</th>\n",
       "      <td>10843</td>\n",
       "      <td>SDS011</td>\n",
       "      <td>59.354</td>\n",
       "      <td>18.364</td>\n",
       "      <td>7.26</td>\n",
       "      <td>1.60</td>\n",
       "    </tr>\n",
       "    <tr>\n",
       "      <th>2019-01-01 23:59:58</th>\n",
       "      <td>11374</td>\n",
       "      <td>SDS011</td>\n",
       "      <td>59.258</td>\n",
       "      <td>18.008</td>\n",
       "      <td>2.65</td>\n",
       "      <td>2.01</td>\n",
       "    </tr>\n",
       "  </tbody>\n",
       "</table>\n",
       "</div>"
      ],
      "text/plain": [
       "                     sensor_id sensor_namee     lat     lon    p1    p2\n",
       "timestamp                                                              \n",
       "2019-01-01 23:59:56      19119       SDS011  56.972  24.132  2.41  0.96\n",
       "2019-01-01 23:59:56      12129       SDS011  59.340  18.040  1.85  0.80\n",
       "2019-01-01 23:59:56      12131       SDS011  59.450  17.916  1.48  0.52\n",
       "2019-01-01 23:59:57      10843       SDS011  59.354  18.364  7.26  1.60\n",
       "2019-01-01 23:59:58      11374       SDS011  59.258  18.008  2.65  2.01"
      ]
     },
     "execution_count": 114,
     "metadata": {},
     "output_type": "execute_result"
    }
   ],
   "source": [
    "in_data.tail()"
   ]
  },
  {
   "cell_type": "markdown",
   "metadata": {},
   "source": [
    "#### quick data exploration "
   ]
  },
  {
   "cell_type": "code",
   "execution_count": 115,
   "metadata": {},
   "outputs": [],
   "source": [
    "# do a quick search of how many values there are in the first five minutes"
   ]
  },
  {
   "cell_type": "code",
   "execution_count": 116,
   "metadata": {},
   "outputs": [
    {
     "data": {
      "text/plain": [
       "(314, 6)"
      ]
     },
     "execution_count": 116,
     "metadata": {},
     "output_type": "execute_result"
    }
   ],
   "source": [
    "first_five_mins_rows = in_data[ '2019-01-01 12:00:00' : '2019-01-01 12:05:00' ]\n",
    "first_five_mins_rows.shape"
   ]
  },
  {
   "cell_type": "code",
   "execution_count": 117,
   "metadata": {},
   "outputs": [
    {
     "data": {
      "text/plain": [
       "((178,), (205,))"
      ]
     },
     "execution_count": 117,
     "metadata": {},
     "output_type": "execute_result"
    }
   ],
   "source": [
    "# just check how many of the sensors have entries for the first five minues\n",
    "first_five_mins['sensor_id'].unique().shape, in_data['sensor_id'].unique().shape"
   ]
  },
  {
   "cell_type": "code",
   "execution_count": null,
   "metadata": {},
   "outputs": [],
   "source": []
  },
  {
   "cell_type": "markdown",
   "metadata": {},
   "source": [
    "#### now try do the data interpolation, for each sensor, so there's the same time period in each sensor"
   ]
  },
  {
   "cell_type": "code",
   "execution_count": 118,
   "metadata": {},
   "outputs": [
    {
     "data": {
      "text/plain": [
       "(12711, 6)"
      ]
     },
     "execution_count": 118,
     "metadata": {},
     "output_type": "execute_result"
    }
   ],
   "source": [
    "##### work on a smaller section of the data\n",
    "in_data__smlr = in_data[::10]\n",
    "in_data__smlr.shape"
   ]
  },
  {
   "cell_type": "code",
   "execution_count": 119,
   "metadata": {},
   "outputs": [
    {
     "data": {
      "text/plain": [
       "((32, 6), (29,))"
      ]
     },
     "execution_count": 119,
     "metadata": {},
     "output_type": "execute_result"
    }
   ],
   "source": [
    "# check how it looks for how many sensors \n",
    "first_five_mins_rows__SMLR = in_data__smlr[ '2019-01-01 12:00:00' : '2019-01-01 12:05:00' ]\n",
    "first_five_mins_rows__SMLR.shape, first_five_mins_rows__SMLR['sensor_id'].unique().shape"
   ]
  },
  {
   "cell_type": "code",
   "execution_count": 156,
   "metadata": {},
   "outputs": [
    {
     "data": {
      "text/plain": [
       "(DatetimeIndex(['2018-12-31 11:55:19'], dtype='datetime64[ns]', name='timestamp', freq=None),\n",
       " (1, 6))"
      ]
     },
     "execution_count": 156,
     "metadata": {},
     "output_type": "execute_result"
    }
   ],
   "source": [
    "##### construct a start-end time row, that can be inserted … \n",
    "\n",
    "in_data_start_time = in_data[0:1]\n",
    "in_data_start_time.index, in_data_start_time.shape"
   ]
  },
  {
   "cell_type": "code",
   "execution_count": 157,
   "metadata": {},
   "outputs": [
    {
     "data": {
      "text/plain": [
       "Timestamp('2018-12-31 12:00:00')"
      ]
     },
     "execution_count": 157,
     "metadata": {},
     "output_type": "execute_result"
    }
   ],
   "source": [
    "start_time = pd.to_datetime( '2018-12-31 12:00:00' )\n",
    "start_time"
   ]
  },
  {
   "cell_type": "code",
   "execution_count": 159,
   "metadata": {},
   "outputs": [
    {
     "data": {
      "text/plain": [
       "Timestamp('2018-12-31 12:05:00')"
      ]
     },
     "execution_count": 159,
     "metadata": {},
     "output_type": "execute_result"
    }
   ],
   "source": [
    "startime_plus_five_mins = start_time + pd.offsets.Minute( 5 )\n",
    "startime_plus_five_mins"
   ]
  },
  {
   "cell_type": "code",
   "execution_count": 160,
   "metadata": {},
   "outputs": [
    {
     "data": {
      "text/plain": [
       "Timestamp('2019-01-01 12:00:00')"
      ]
     },
     "execution_count": 160,
     "metadata": {},
     "output_type": "execute_result"
    }
   ],
   "source": [
    "end_time = pd.to_datetime( '2019-01-01 12:00:00')\n",
    "end_time"
   ]
  },
  {
   "cell_type": "code",
   "execution_count": 163,
   "metadata": {},
   "outputs": [
    {
     "data": {
      "text/plain": [
       "Timestamp('2019-01-01 11:55:00')"
      ]
     },
     "execution_count": 163,
     "metadata": {},
     "output_type": "execute_result"
    }
   ],
   "source": [
    "end_time_minus_five_mins = end_time - pd.offsets.Minute(5 )\n",
    "end_time_minus_five_mins"
   ]
  },
  {
   "cell_type": "code",
   "execution_count": 174,
   "metadata": {},
   "outputs": [
    {
     "data": {
      "text/html": [
       "<div>\n",
       "<style scoped>\n",
       "    .dataframe tbody tr th:only-of-type {\n",
       "        vertical-align: middle;\n",
       "    }\n",
       "\n",
       "    .dataframe tbody tr th {\n",
       "        vertical-align: top;\n",
       "    }\n",
       "\n",
       "    .dataframe thead th {\n",
       "        text-align: right;\n",
       "    }\n",
       "</style>\n",
       "<table border=\"1\" class=\"dataframe\">\n",
       "  <thead>\n",
       "    <tr style=\"text-align: right;\">\n",
       "      <th></th>\n",
       "      <th>sensor_id</th>\n",
       "      <th>sensor_namee</th>\n",
       "      <th>lat</th>\n",
       "      <th>lon</th>\n",
       "      <th>p1</th>\n",
       "      <th>p2</th>\n",
       "      <th>timstamp</th>\n",
       "    </tr>\n",
       "    <tr>\n",
       "      <th>timestamp</th>\n",
       "      <th></th>\n",
       "      <th></th>\n",
       "      <th></th>\n",
       "      <th></th>\n",
       "      <th></th>\n",
       "      <th></th>\n",
       "      <th></th>\n",
       "    </tr>\n",
       "  </thead>\n",
       "  <tbody>\n",
       "    <tr>\n",
       "      <th>2018-12-31 11:55:19</th>\n",
       "      <td>13012</td>\n",
       "      <td>SDS011</td>\n",
       "      <td>57.662</td>\n",
       "      <td>12.006</td>\n",
       "      <td>6.3</td>\n",
       "      <td>2.6</td>\n",
       "      <td>2018-12-31 12:00:00</td>\n",
       "    </tr>\n",
       "  </tbody>\n",
       "</table>\n",
       "</div>"
      ],
      "text/plain": [
       "                     sensor_id sensor_namee     lat     lon   p1   p2  \\\n",
       "timestamp                                                               \n",
       "2018-12-31 11:55:19      13012       SDS011  57.662  12.006  6.3  2.6   \n",
       "\n",
       "                               timstamp  \n",
       "timestamp                                \n",
       "2018-12-31 11:55:19 2018-12-31 12:00:00  "
      ]
     },
     "execution_count": 174,
     "metadata": {},
     "output_type": "execute_result"
    }
   ],
   "source": [
    "in_data_start_time"
   ]
  },
  {
   "cell_type": "code",
   "execution_count": 188,
   "metadata": {},
   "outputs": [
    {
     "ename": "ValueError",
     "evalue": "At based indexing on an non-integer index can only have non-integer indexers",
     "output_type": "error",
     "traceback": [
      "\u001b[0;31m---------------------------------------------------------------------------\u001b[0m",
      "\u001b[0;31mValueError\u001b[0m                                Traceback (most recent call last)",
      "\u001b[0;32m<ipython-input-188-b57f0a27fe15>\u001b[0m in \u001b[0;36m<module>\u001b[0;34m\u001b[0m\n\u001b[0;32m----> 1\u001b[0;31m \u001b[0min_data_start_time\u001b[0m\u001b[0;34m.\u001b[0m\u001b[0mat\u001b[0m\u001b[0;34m[\u001b[0m \u001b[0;36m0\u001b[0m\u001b[0;34m,\u001b[0m \u001b[0;34m'p1'\u001b[0m\u001b[0;34m]\u001b[0m\u001b[0;34m\u001b[0m\u001b[0m\n\u001b[0m",
      "\u001b[0;32m/Applications/z_extras/code/anaconda3/lib/python3.6/site-packages/pandas/core/indexing.py\u001b[0m in \u001b[0;36m__getitem__\u001b[0;34m(self, key)\u001b[0m\n\u001b[1;32m   2139\u001b[0m                 \u001b[0;32mraise\u001b[0m \u001b[0mValueError\u001b[0m\u001b[0;34m(\u001b[0m\u001b[0;34m'Invalid call for scalar access (getting)!'\u001b[0m\u001b[0;34m)\u001b[0m\u001b[0;34m\u001b[0m\u001b[0m\n\u001b[1;32m   2140\u001b[0m \u001b[0;34m\u001b[0m\u001b[0m\n\u001b[0;32m-> 2141\u001b[0;31m         \u001b[0mkey\u001b[0m \u001b[0;34m=\u001b[0m \u001b[0mself\u001b[0m\u001b[0;34m.\u001b[0m\u001b[0m_convert_key\u001b[0m\u001b[0;34m(\u001b[0m\u001b[0mkey\u001b[0m\u001b[0;34m)\u001b[0m\u001b[0;34m\u001b[0m\u001b[0m\n\u001b[0m\u001b[1;32m   2142\u001b[0m         \u001b[0;32mreturn\u001b[0m \u001b[0mself\u001b[0m\u001b[0;34m.\u001b[0m\u001b[0mobj\u001b[0m\u001b[0;34m.\u001b[0m\u001b[0m_get_value\u001b[0m\u001b[0;34m(\u001b[0m\u001b[0;34m*\u001b[0m\u001b[0mkey\u001b[0m\u001b[0;34m,\u001b[0m \u001b[0mtakeable\u001b[0m\u001b[0;34m=\u001b[0m\u001b[0mself\u001b[0m\u001b[0;34m.\u001b[0m\u001b[0m_takeable\u001b[0m\u001b[0;34m)\u001b[0m\u001b[0;34m\u001b[0m\u001b[0m\n\u001b[1;32m   2143\u001b[0m \u001b[0;34m\u001b[0m\u001b[0m\n",
      "\u001b[0;32m/Applications/z_extras/code/anaconda3/lib/python3.6/site-packages/pandas/core/indexing.py\u001b[0m in \u001b[0;36m_convert_key\u001b[0;34m(self, key, is_setter)\u001b[0m\n\u001b[1;32m   2225\u001b[0m             \u001b[0;32melse\u001b[0m\u001b[0;34m:\u001b[0m\u001b[0;34m\u001b[0m\u001b[0m\n\u001b[1;32m   2226\u001b[0m                 \u001b[0;32mif\u001b[0m \u001b[0mis_integer\u001b[0m\u001b[0;34m(\u001b[0m\u001b[0mi\u001b[0m\u001b[0;34m)\u001b[0m\u001b[0;34m:\u001b[0m\u001b[0;34m\u001b[0m\u001b[0m\n\u001b[0;32m-> 2227\u001b[0;31m                     raise ValueError(\"At based indexing on an non-integer \"\n\u001b[0m\u001b[1;32m   2228\u001b[0m                                      \u001b[0;34m\"index can only have non-integer \"\u001b[0m\u001b[0;34m\u001b[0m\u001b[0m\n\u001b[1;32m   2229\u001b[0m                                      \"indexers\")\n",
      "\u001b[0;31mValueError\u001b[0m: At based indexing on an non-integer index can only have non-integer indexers"
     ]
    }
   ],
   "source": [
    "in_data_start_time.at[ 0, 'p1']"
   ]
  },
  {
   "cell_type": "code",
   "execution_count": 176,
   "metadata": {},
   "outputs": [
    {
     "ename": "ValueError",
     "evalue": "At based indexing on an non-integer index can only have non-integer indexers",
     "output_type": "error",
     "traceback": [
      "\u001b[0;31m---------------------------------------------------------------------------\u001b[0m",
      "\u001b[0;31mValueError\u001b[0m                                Traceback (most recent call last)",
      "\u001b[0;32m<ipython-input-176-6629fb84ee5c>\u001b[0m in \u001b[0;36m<module>\u001b[0;34m\u001b[0m\n\u001b[0;32m----> 1\u001b[0;31m \u001b[0min_data_start_time\u001b[0m\u001b[0;34m.\u001b[0m\u001b[0mat\u001b[0m\u001b[0;34m[\u001b[0m \u001b[0;36m0\u001b[0m\u001b[0;34m,\u001b[0m \u001b[0;34m'timestamp'\u001b[0m\u001b[0;34m]\u001b[0m\u001b[0;34m\u001b[0m\u001b[0m\n\u001b[0m",
      "\u001b[0;32m/Applications/z_extras/code/anaconda3/lib/python3.6/site-packages/pandas/core/indexing.py\u001b[0m in \u001b[0;36m__getitem__\u001b[0;34m(self, key)\u001b[0m\n\u001b[1;32m   2139\u001b[0m                 \u001b[0;32mraise\u001b[0m \u001b[0mValueError\u001b[0m\u001b[0;34m(\u001b[0m\u001b[0;34m'Invalid call for scalar access (getting)!'\u001b[0m\u001b[0;34m)\u001b[0m\u001b[0;34m\u001b[0m\u001b[0m\n\u001b[1;32m   2140\u001b[0m \u001b[0;34m\u001b[0m\u001b[0m\n\u001b[0;32m-> 2141\u001b[0;31m         \u001b[0mkey\u001b[0m \u001b[0;34m=\u001b[0m \u001b[0mself\u001b[0m\u001b[0;34m.\u001b[0m\u001b[0m_convert_key\u001b[0m\u001b[0;34m(\u001b[0m\u001b[0mkey\u001b[0m\u001b[0;34m)\u001b[0m\u001b[0;34m\u001b[0m\u001b[0m\n\u001b[0m\u001b[1;32m   2142\u001b[0m         \u001b[0;32mreturn\u001b[0m \u001b[0mself\u001b[0m\u001b[0;34m.\u001b[0m\u001b[0mobj\u001b[0m\u001b[0;34m.\u001b[0m\u001b[0m_get_value\u001b[0m\u001b[0;34m(\u001b[0m\u001b[0;34m*\u001b[0m\u001b[0mkey\u001b[0m\u001b[0;34m,\u001b[0m \u001b[0mtakeable\u001b[0m\u001b[0;34m=\u001b[0m\u001b[0mself\u001b[0m\u001b[0;34m.\u001b[0m\u001b[0m_takeable\u001b[0m\u001b[0;34m)\u001b[0m\u001b[0;34m\u001b[0m\u001b[0m\n\u001b[1;32m   2143\u001b[0m \u001b[0;34m\u001b[0m\u001b[0m\n",
      "\u001b[0;32m/Applications/z_extras/code/anaconda3/lib/python3.6/site-packages/pandas/core/indexing.py\u001b[0m in \u001b[0;36m_convert_key\u001b[0;34m(self, key, is_setter)\u001b[0m\n\u001b[1;32m   2225\u001b[0m             \u001b[0;32melse\u001b[0m\u001b[0;34m:\u001b[0m\u001b[0;34m\u001b[0m\u001b[0m\n\u001b[1;32m   2226\u001b[0m                 \u001b[0;32mif\u001b[0m \u001b[0mis_integer\u001b[0m\u001b[0;34m(\u001b[0m\u001b[0mi\u001b[0m\u001b[0;34m)\u001b[0m\u001b[0;34m:\u001b[0m\u001b[0;34m\u001b[0m\u001b[0m\n\u001b[0;32m-> 2227\u001b[0;31m                     raise ValueError(\"At based indexing on an non-integer \"\n\u001b[0m\u001b[1;32m   2228\u001b[0m                                      \u001b[0;34m\"index can only have non-integer \"\u001b[0m\u001b[0;34m\u001b[0m\u001b[0m\n\u001b[1;32m   2229\u001b[0m                                      \"indexers\")\n",
      "\u001b[0;31mValueError\u001b[0m: At based indexing on an non-integer index can only have non-integer indexers"
     ]
    }
   ],
   "source": [
    "in_data_start_time.at[ 0, 'timestamp']"
   ]
  },
  {
   "cell_type": "code",
   "execution_count": 165,
   "metadata": {},
   "outputs": [
    {
     "name": "stderr",
     "output_type": "stream",
     "text": [
      "/Applications/z_extras/code/anaconda3/lib/python3.6/site-packages/ipykernel_launcher.py:2: SettingWithCopyWarning: \n",
      "A value is trying to be set on a copy of a slice from a DataFrame.\n",
      "Try using .loc[row_indexer,col_indexer] = value instead\n",
      "\n",
      "See the caveats in the documentation: http://pandas.pydata.org/pandas-docs/stable/indexing.html#indexing-view-versus-copy\n",
      "  \n"
     ]
    }
   ],
   "source": [
    "# in_data_start_time.index[:1] = pd.to_datetime('2018-12-31 12:00:00')\n",
    "in_data_start_time['timstamp'] = pd.to_datetime( '2018-12-31 12:00:00' )"
   ]
  },
  {
   "cell_type": "code",
   "execution_count": 76,
   "metadata": {},
   "outputs": [
    {
     "name": "stdout",
     "output_type": "stream",
     "text": [
      "--  working on sensor id 14017\n",
      "--  working on sensor id 19597\n",
      "--  working on sensor id 12127\n",
      "--  working on sensor id 12131\n",
      "--  working on sensor id 14264\n",
      "--  working on sensor id 7597\n",
      "--  working on sensor id 13443\n",
      "--  working on sensor id 12693\n",
      "--  working on sensor id 13307\n",
      "--  working on sensor id 10843\n",
      "--  working on sensor id 11404\n",
      "--  working on sensor id 19599\n",
      "--  working on sensor id 14807\n",
      "--  working on sensor id 15067\n",
      "--  working on sensor id 11546\n",
      "--  working on sensor id 14837\n",
      "--  working on sensor id 12385\n",
      "--  working on sensor id 12389\n",
      "--  working on sensor id 10922\n",
      "--  working on sensor id 17532\n",
      "--  working on sensor id 12393\n",
      "--  working on sensor id 11767\n",
      "--  working on sensor id 15837\n",
      "--  working on sensor id 9436\n",
      "--  working on sensor id 11006\n",
      "--  working on sensor id 10281\n",
      "--  working on sensor id 9411\n",
      "--  working on sensor id 9368\n",
      "--  working on sensor id 18110\n"
     ]
    }
   ],
   "source": [
    "# let's cheat a bit and output things in a list\n",
    "out_time_complete_arrays = []\n",
    "\n",
    "list_of_unique_sensor_ids = first_five_mins_rows__SMLR['sensor_id'].unique()\n",
    "\n",
    "for sensor_id in list_of_unique_sensor_ids:\n",
    "    \n",
    "    print(\"--  working on sensor id \"+str( sensor_id ))\n",
    "    \n",
    "    # check if the first and last five minues are there or not"
   ]
  },
  {
   "cell_type": "code",
   "execution_count": null,
   "metadata": {},
   "outputs": [],
   "source": []
  }
 ],
 "metadata": {
  "kernelspec": {
   "display_name": "Python 3",
   "language": "python",
   "name": "python3"
  },
  "language_info": {
   "codemirror_mode": {
    "name": "ipython",
    "version": 3
   },
   "file_extension": ".py",
   "mimetype": "text/x-python",
   "name": "python",
   "nbconvert_exporter": "python",
   "pygments_lexer": "ipython3",
   "version": "3.6.6"
  }
 },
 "nbformat": 4,
 "nbformat_minor": 2
}
