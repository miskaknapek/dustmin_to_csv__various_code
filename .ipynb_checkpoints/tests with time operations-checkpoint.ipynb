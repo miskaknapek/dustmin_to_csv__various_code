{
 "cells": [
  {
   "cell_type": "code",
   "execution_count": 15,
   "metadata": {},
   "outputs": [],
   "source": [
    "import pandas as pd\n",
    "import numpy as np\n",
    "import time"
   ]
  },
  {
   "cell_type": "code",
   "execution_count": 16,
   "metadata": {},
   "outputs": [],
   "source": [
    "one = pd.Timestamp( time.ctime() )"
   ]
  },
  {
   "cell_type": "code",
   "execution_count": 17,
   "metadata": {},
   "outputs": [
    {
     "data": {
      "text/plain": [
       "Timestamp('2019-01-10 07:17:36')"
      ]
     },
     "execution_count": 17,
     "metadata": {},
     "output_type": "execute_result"
    }
   ],
   "source": [
    "one"
   ]
  },
  {
   "cell_type": "code",
   "execution_count": 18,
   "metadata": {},
   "outputs": [
    {
     "data": {
      "text/plain": [
       "['_STRUCT_TM_ITEMS',\n",
       " '__doc__',\n",
       " '__loader__',\n",
       " '__name__',\n",
       " '__package__',\n",
       " '__spec__',\n",
       " 'altzone',\n",
       " 'asctime',\n",
       " 'clock',\n",
       " 'ctime',\n",
       " 'daylight',\n",
       " 'get_clock_info',\n",
       " 'gmtime',\n",
       " 'localtime',\n",
       " 'mktime',\n",
       " 'monotonic',\n",
       " 'perf_counter',\n",
       " 'process_time',\n",
       " 'sleep',\n",
       " 'strftime',\n",
       " 'strptime',\n",
       " 'struct_time',\n",
       " 'time',\n",
       " 'timezone',\n",
       " 'tzname',\n",
       " 'tzset']"
      ]
     },
     "execution_count": 18,
     "metadata": {},
     "output_type": "execute_result"
    }
   ],
   "source": [
    "dir( time )"
   ]
  },
  {
   "cell_type": "code",
   "execution_count": 19,
   "metadata": {},
   "outputs": [
    {
     "data": {
      "text/plain": [
       "'Thu Jan 10 07:17:37 2019'"
      ]
     },
     "execution_count": 19,
     "metadata": {},
     "output_type": "execute_result"
    }
   ],
   "source": [
    "time.ctime()"
   ]
  },
  {
   "cell_type": "code",
   "execution_count": 20,
   "metadata": {},
   "outputs": [
    {
     "data": {
      "text/plain": [
       "Timedelta('1 days 00:00:00')"
      ]
     },
     "execution_count": 20,
     "metadata": {},
     "output_type": "execute_result"
    }
   ],
   "source": [
    "\n",
    "pd.Timedelta( '1 days')"
   ]
  },
  {
   "cell_type": "code",
   "execution_count": 21,
   "metadata": {},
   "outputs": [
    {
     "data": {
      "text/plain": [
       "Timedelta('1 days 00:00:01')"
      ]
     },
     "execution_count": 21,
     "metadata": {},
     "output_type": "execute_result"
    }
   ],
   "source": [
    "pd.Timedelta( days=1, seconds=1 )\n"
   ]
  },
  {
   "cell_type": "code",
   "execution_count": 22,
   "metadata": {},
   "outputs": [
    {
     "data": {
      "text/plain": [
       "Timedelta('0 days 00:00:00.001000')"
      ]
     },
     "execution_count": 22,
     "metadata": {},
     "output_type": "execute_result"
    }
   ],
   "source": [
    "pd.Timedelta( np.timedelta64( 1, 'ms'))"
   ]
  },
  {
   "cell_type": "code",
   "execution_count": 28,
   "metadata": {},
   "outputs": [],
   "source": [
    "daterange = pd.date_range( time.ctime(), periods=24, freq='H')"
   ]
  },
  {
   "cell_type": "code",
   "execution_count": 29,
   "metadata": {},
   "outputs": [
    {
     "data": {
      "text/plain": [
       "DatetimeIndex(['2019-01-10 07:32:49', '2019-01-10 08:32:49',\n",
       "               '2019-01-10 09:32:49', '2019-01-10 10:32:49',\n",
       "               '2019-01-10 11:32:49', '2019-01-10 12:32:49',\n",
       "               '2019-01-10 13:32:49', '2019-01-10 14:32:49',\n",
       "               '2019-01-10 15:32:49', '2019-01-10 16:32:49',\n",
       "               '2019-01-10 17:32:49', '2019-01-10 18:32:49',\n",
       "               '2019-01-10 19:32:49', '2019-01-10 20:32:49',\n",
       "               '2019-01-10 21:32:49', '2019-01-10 22:32:49',\n",
       "               '2019-01-10 23:32:49', '2019-01-11 00:32:49',\n",
       "               '2019-01-11 01:32:49', '2019-01-11 02:32:49',\n",
       "               '2019-01-11 03:32:49', '2019-01-11 04:32:49',\n",
       "               '2019-01-11 05:32:49', '2019-01-11 06:32:49'],\n",
       "              dtype='datetime64[ns]', freq='H')"
      ]
     },
     "execution_count": 29,
     "metadata": {},
     "output_type": "execute_result"
    }
   ],
   "source": [
    "daterange"
   ]
  },
  {
   "cell_type": "code",
   "execution_count": 31,
   "metadata": {},
   "outputs": [
    {
     "data": {
      "text/plain": [
       "DatetimeIndex(['2019-01-09 07:32:49', '2019-01-09 08:32:49',\n",
       "               '2019-01-09 09:32:49', '2019-01-09 10:32:49',\n",
       "               '2019-01-09 11:32:49', '2019-01-09 12:32:49',\n",
       "               '2019-01-09 13:32:49', '2019-01-09 14:32:49',\n",
       "               '2019-01-09 15:32:49', '2019-01-09 16:32:49',\n",
       "               '2019-01-09 17:32:49', '2019-01-09 18:32:49',\n",
       "               '2019-01-09 19:32:49', '2019-01-09 20:32:49',\n",
       "               '2019-01-09 21:32:49', '2019-01-09 22:32:49',\n",
       "               '2019-01-09 23:32:49', '2019-01-10 00:32:49',\n",
       "               '2019-01-10 01:32:49', '2019-01-10 02:32:49',\n",
       "               '2019-01-10 03:32:49', '2019-01-10 04:32:49',\n",
       "               '2019-01-10 05:32:49', '2019-01-10 06:32:49'],\n",
       "              dtype='datetime64[ns]', freq='H')"
      ]
     },
     "execution_count": 31,
     "metadata": {},
     "output_type": "execute_result"
    }
   ],
   "source": [
    "# move back one day… \n",
    "daterange - pd.Timedelta( days=1 )"
   ]
  },
  {
   "cell_type": "code",
   "execution_count": 32,
   "metadata": {},
   "outputs": [
    {
     "data": {
      "text/plain": [
       "DatetimeIndex(['2019-01-10 06:32:49', '2019-01-10 07:32:49',\n",
       "               '2019-01-10 08:32:49', '2019-01-10 09:32:49',\n",
       "               '2019-01-10 10:32:49', '2019-01-10 11:32:49',\n",
       "               '2019-01-10 12:32:49', '2019-01-10 13:32:49',\n",
       "               '2019-01-10 14:32:49', '2019-01-10 15:32:49',\n",
       "               '2019-01-10 16:32:49', '2019-01-10 17:32:49',\n",
       "               '2019-01-10 18:32:49', '2019-01-10 19:32:49',\n",
       "               '2019-01-10 20:32:49', '2019-01-10 21:32:49',\n",
       "               '2019-01-10 22:32:49', '2019-01-10 23:32:49',\n",
       "               '2019-01-11 00:32:49', '2019-01-11 01:32:49',\n",
       "               '2019-01-11 02:32:49', '2019-01-11 03:32:49',\n",
       "               '2019-01-11 04:32:49', '2019-01-11 05:32:49'],\n",
       "              dtype='datetime64[ns]', freq='H')"
      ]
     },
     "execution_count": 32,
     "metadata": {},
     "output_type": "execute_result"
    }
   ],
   "source": [
    "# move back a dew hours… \n",
    "daterange - pd.Timedelta( hours=1 )"
   ]
  },
  {
   "cell_type": "code",
   "execution_count": 41,
   "metadata": {},
   "outputs": [],
   "source": [
    "# try make a time range, back in time, based on variables\n",
    "hours_ = 24"
   ]
  },
  {
   "cell_type": "code",
   "execution_count": 42,
   "metadata": {},
   "outputs": [
    {
     "data": {
      "text/plain": [
       "DatetimeIndex(['2019-01-10 07:45:37', '2019-01-10 08:45:37',\n",
       "               '2019-01-10 09:45:37', '2019-01-10 10:45:37',\n",
       "               '2019-01-10 11:45:37', '2019-01-10 12:45:37',\n",
       "               '2019-01-10 13:45:37', '2019-01-10 14:45:37',\n",
       "               '2019-01-10 15:45:37', '2019-01-10 16:45:37',\n",
       "               '2019-01-10 17:45:37', '2019-01-10 18:45:37',\n",
       "               '2019-01-10 19:45:37', '2019-01-10 20:45:37',\n",
       "               '2019-01-10 21:45:37', '2019-01-10 22:45:37',\n",
       "               '2019-01-10 23:45:37', '2019-01-11 00:45:37',\n",
       "               '2019-01-11 01:45:37', '2019-01-11 02:45:37',\n",
       "               '2019-01-11 03:45:37', '2019-01-11 04:45:37',\n",
       "               '2019-01-11 05:45:37', '2019-01-11 06:45:37'],\n",
       "              dtype='datetime64[ns]', freq='H')"
      ]
     },
     "execution_count": 42,
     "metadata": {},
     "output_type": "execute_result"
    }
   ],
   "source": [
    "original_time_range = pd.date_range( time.ctime(), periods=hours_, freq=\"H\")\n",
    "original_time_range"
   ]
  },
  {
   "cell_type": "code",
   "execution_count": 44,
   "metadata": {},
   "outputs": [
    {
     "data": {
      "text/plain": [
       "DatetimeIndex(['2019-01-09 07:45:37', '2019-01-09 08:45:37',\n",
       "               '2019-01-09 09:45:37', '2019-01-09 10:45:37',\n",
       "               '2019-01-09 11:45:37', '2019-01-09 12:45:37',\n",
       "               '2019-01-09 13:45:37', '2019-01-09 14:45:37',\n",
       "               '2019-01-09 15:45:37', '2019-01-09 16:45:37',\n",
       "               '2019-01-09 17:45:37', '2019-01-09 18:45:37',\n",
       "               '2019-01-09 19:45:37', '2019-01-09 20:45:37',\n",
       "               '2019-01-09 21:45:37', '2019-01-09 22:45:37',\n",
       "               '2019-01-09 23:45:37', '2019-01-10 00:45:37',\n",
       "               '2019-01-10 01:45:37', '2019-01-10 02:45:37',\n",
       "               '2019-01-10 03:45:37', '2019-01-10 04:45:37',\n",
       "               '2019-01-10 05:45:37', '2019-01-10 06:45:37'],\n",
       "              dtype='datetime64[ns]', freq='H')"
      ]
     },
     "execution_count": 44,
     "metadata": {},
     "output_type": "execute_result"
    }
   ],
   "source": [
    "date_range_moved = original_time_range - pd.Timedelta( hours=hours_ ) \n",
    "date_range_moved"
   ]
  },
  {
   "cell_type": "code",
   "execution_count": 45,
   "metadata": {},
   "outputs": [
    {
     "data": {
      "text/plain": [
       "(24,)"
      ]
     },
     "execution_count": 45,
     "metadata": {},
     "output_type": "execute_result"
    }
   ],
   "source": [
    "date_range_moved.shape"
   ]
  },
  {
   "cell_type": "code",
   "execution_count": 47,
   "metadata": {},
   "outputs": [
    {
     "data": {
      "text/plain": [
       "Timestamp('2019-01-09 07:45:37', freq='H')"
      ]
     },
     "execution_count": 47,
     "metadata": {},
     "output_type": "execute_result"
    }
   ],
   "source": [
    "date_range_moved[0]"
   ]
  },
  {
   "cell_type": "code",
   "execution_count": 48,
   "metadata": {},
   "outputs": [
    {
     "data": {
      "text/plain": [
       "['__add__',\n",
       " '__class__',\n",
       " '__delattr__',\n",
       " '__dict__',\n",
       " '__dir__',\n",
       " '__doc__',\n",
       " '__eq__',\n",
       " '__format__',\n",
       " '__ge__',\n",
       " '__getattribute__',\n",
       " '__gt__',\n",
       " '__hash__',\n",
       " '__init__',\n",
       " '__init_subclass__',\n",
       " '__le__',\n",
       " '__lt__',\n",
       " '__module__',\n",
       " '__ne__',\n",
       " '__new__',\n",
       " '__pyx_vtable__',\n",
       " '__radd__',\n",
       " '__reduce__',\n",
       " '__reduce_ex__',\n",
       " '__repr__',\n",
       " '__rsub__',\n",
       " '__setattr__',\n",
       " '__setstate__',\n",
       " '__sizeof__',\n",
       " '__str__',\n",
       " '__sub__',\n",
       " '__subclasshook__',\n",
       " '__weakref__',\n",
       " '_date_attributes',\n",
       " '_date_repr',\n",
       " '_get_date_name_field',\n",
       " '_get_start_end_field',\n",
       " '_has_time_component',\n",
       " '_repr_base',\n",
       " '_round',\n",
       " '_short_repr',\n",
       " '_time_repr',\n",
       " 'asm8',\n",
       " 'astimezone',\n",
       " 'ceil',\n",
       " 'combine',\n",
       " 'ctime',\n",
       " 'date',\n",
       " 'day',\n",
       " 'day_name',\n",
       " 'dayofweek',\n",
       " 'dayofyear',\n",
       " 'days_in_month',\n",
       " 'daysinmonth',\n",
       " 'dst',\n",
       " 'floor',\n",
       " 'fold',\n",
       " 'freq',\n",
       " 'freqstr',\n",
       " 'fromordinal',\n",
       " 'fromtimestamp',\n",
       " 'hour',\n",
       " 'is_leap_year',\n",
       " 'is_month_end',\n",
       " 'is_month_start',\n",
       " 'is_quarter_end',\n",
       " 'is_quarter_start',\n",
       " 'is_year_end',\n",
       " 'is_year_start',\n",
       " 'isocalendar',\n",
       " 'isoformat',\n",
       " 'isoweekday',\n",
       " 'max',\n",
       " 'microsecond',\n",
       " 'min',\n",
       " 'minute',\n",
       " 'month',\n",
       " 'month_name',\n",
       " 'nanosecond',\n",
       " 'normalize',\n",
       " 'now',\n",
       " 'quarter',\n",
       " 'replace',\n",
       " 'resolution',\n",
       " 'round',\n",
       " 'second',\n",
       " 'strftime',\n",
       " 'strptime',\n",
       " 'time',\n",
       " 'timestamp',\n",
       " 'timetuple',\n",
       " 'timetz',\n",
       " 'to_datetime64',\n",
       " 'to_julian_date',\n",
       " 'to_period',\n",
       " 'to_pydatetime',\n",
       " 'today',\n",
       " 'toordinal',\n",
       " 'tz',\n",
       " 'tz_convert',\n",
       " 'tz_localize',\n",
       " 'tzinfo',\n",
       " 'tzname',\n",
       " 'utcfromtimestamp',\n",
       " 'utcnow',\n",
       " 'utcoffset',\n",
       " 'utctimetuple',\n",
       " 'value',\n",
       " 'week',\n",
       " 'weekday',\n",
       " 'weekday_name',\n",
       " 'weekofyear',\n",
       " 'year']"
      ]
     },
     "execution_count": 48,
     "metadata": {},
     "output_type": "execute_result"
    }
   ],
   "source": [
    "dir( date_range_moved[0] )"
   ]
  },
  {
   "cell_type": "code",
   "execution_count": 52,
   "metadata": {},
   "outputs": [
    {
     "data": {
      "text/plain": [
       "'Wed Jan  9 07:45:37 2019'"
      ]
     },
     "execution_count": 52,
     "metadata": {},
     "output_type": "execute_result"
    }
   ],
   "source": [
    " date_range_moved[0].ctime()"
   ]
  },
  {
   "cell_type": "code",
   "execution_count": 53,
   "metadata": {},
   "outputs": [
    {
     "data": {
      "text/plain": [
       "1547019937.0"
      ]
     },
     "execution_count": 53,
     "metadata": {},
     "output_type": "execute_result"
    }
   ],
   "source": [
    " date_range_moved[0].timestamp()"
   ]
  },
  {
   "cell_type": "code",
   "execution_count": 60,
   "metadata": {},
   "outputs": [
    {
     "data": {
      "text/plain": [
       "'2019-01-09 07:45:37'"
      ]
     },
     "execution_count": 60,
     "metadata": {},
     "output_type": "execute_result"
    }
   ],
   "source": [
    "str( date_range_moved[0] ) "
   ]
  },
  {
   "cell_type": "code",
   "execution_count": null,
   "metadata": {},
   "outputs": [],
   "source": []
  }
 ],
 "metadata": {
  "kernelspec": {
   "display_name": "Python 3",
   "language": "python",
   "name": "python3"
  },
  "language_info": {
   "codemirror_mode": {
    "name": "ipython",
    "version": 3
   },
   "file_extension": ".py",
   "mimetype": "text/x-python",
   "name": "python",
   "nbconvert_exporter": "python",
   "pygments_lexer": "ipython3",
   "version": "3.6.6"
  }
 },
 "nbformat": 4,
 "nbformat_minor": 2
}
