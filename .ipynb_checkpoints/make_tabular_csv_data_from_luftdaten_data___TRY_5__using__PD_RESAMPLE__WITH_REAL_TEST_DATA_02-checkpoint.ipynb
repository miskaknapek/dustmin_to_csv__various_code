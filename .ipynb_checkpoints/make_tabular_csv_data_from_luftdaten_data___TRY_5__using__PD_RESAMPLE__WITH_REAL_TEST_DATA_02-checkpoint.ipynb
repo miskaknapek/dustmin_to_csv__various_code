{
 "cells": [
  {
   "cell_type": "markdown",
   "metadata": {},
   "source": [
    "# Luftdaten data : data cleaning, resampling - mini version\n",
    "\n",
    "# - RETRYING THIS, just to makes sure we've got the hang of it! \n",
    "## Code builds a continuous time tabular version of the luftdaen data, such that the same time period is present for each sensor in the data, regardless of whether each sensor has data for all the time slots. \n",
    "\n",
    "## Testing :\n",
    "- using pd.resample\n",
    "- constructing a time shift using pandas own tools, rather than my own\n"
   ]
  },
  {
   "cell_type": "markdown",
   "metadata": {},
   "source": [
    "#### Reference documents\n",
    "\n",
    "Resampling time series data with Pandas ( Ben Alex Keen ) \n",
    "http://benalexkeen.com/resampling-time-series-data-with-pandas/\n",
    "\n",
    "Pandas reference manual : \n",
    "\n",
    ".at - access df values using nay kind of index, for SINGLE VALUES\n",
    "https://pandas.pydata.org/pandas-docs/stable/reference/api/pandas.DataFrame.loc.html#pandas.DataFrame.loc\n",
    "\n",
    ".iat - only integer index values for getting/setting SINGLE df values\n",
    "https://pandas.pydata.org/pandas-docs/stable/reference/api/pandas.DataFrame.iat.html\n",
    "\n",
    ".loc - \n",
    "https://pandas.pydata.org/pandas-docs/stable/reference/api/pandas.DataFrame.loc.html#pandas.DataFrame.loc\n",
    "\n",
    ".iloc - purely integer indexed access ( getting/setting ) values \n",
    "https://pandas.pydata.org/pandas-docs/stable/reference/api/pandas.DataFrame.iloc.html#pandas.DataFrame.iloc\n",
    "\n",
    "datetime - documentation - useful for time! \n",
    "https://pandas.pydata.org/pandas-docs/stable/user_guide/timeseries.html"
   ]
  },
  {
   "cell_type": "markdown",
   "metadata": {},
   "source": [
    "#### methods of filling … \n",
    "\n",
    "These are some of the common methods you might use for resampling:\n",
    "\n",
    "Method\tDescription\n",
    "\n",
    "bfill\tBackward fill\n",
    "\n",
    "count\tCount of values\n",
    "\n",
    "ffill\tForward fill\n",
    "\n",
    "first\tFirst valid data value\n",
    "\n",
    "last\tLast valid data value\n",
    "\n",
    "max\tMaximum data value\n",
    "\n",
    "mean\tMean of values in time range\n",
    "\n",
    "median\tMedian of values in time range\n",
    "\n",
    "min\tMinimum data value\n",
    "\n",
    "nunique\tNumber of unique values\n",
    "\n",
    "ohlc\tOpening value, highest value, lowest value, closing value\n",
    "\n",
    "pad\tSame as forward fill\n",
    "\n",
    "std\tStandard deviation of values\n",
    "\n",
    "sum\tSum of values\n",
    "\n",
    "var\tVariance of values\n",
    "\n",
    "#### time abbreviations \n",
    "\n",
    "Alias\tDescription\n",
    "\n",
    "B\tBusiness day\n",
    "\n",
    "D\tCalendar day\n",
    "\n",
    "W\tWeekly\n",
    "\n",
    "M\tMonth end\n",
    "\n",
    "Q\tQuarter end\n",
    "\n",
    "A\tYear end\n",
    "\n",
    "BA\tBusiness year end\n",
    "\n",
    "AS\tYear start\n",
    "\n",
    "H\tHourly frequency\n",
    "\n",
    "T, min\tMinutely frequency\n",
    "\n",
    "S\tSecondly frequency\n",
    "\n",
    "L, ms\tMillisecond frequency\n",
    "\n",
    "U, us\tMicrosecond frequency\n",
    "\n",
    "N, ns\tNanosecond frequency"
   ]
  },
  {
   "cell_type": "code",
   "execution_count": 1,
   "metadata": {},
   "outputs": [],
   "source": [
    "import pandas as pd\n",
    "import numpy as np\n",
    "import time"
   ]
  },
  {
   "cell_type": "code",
   "execution_count": 2,
   "metadata": {},
   "outputs": [],
   "source": [
    "# parameters\n",
    "\n",
    "# start_time = \"2018-12-31 21:58:42\"\n",
    "end_time = \"2019-01-01 11:58:42\"\n",
    "# generate this please\n",
    "start_time = \"?????\"\n",
    "\n",
    "time_frequency_for_periods__for_basic_data = \"5T\"\n",
    "num_of_time_periods___for_basic_data = 24*20 # 24 hrs * 12 x 5 mins in each hour\n",
    "\n",
    "# when generating time periods \n",
    "sampling_frequency = \"3T\"\n",
    "\n",
    "\n",
    "\n",
    "# --- data urls \n",
    "\n",
    "curr_url = \"????\"\n",
    "nordic_midnight_24_hrs_data__url = \"/Users/miska/Documents/open_something/luftdaten/luftdaten_code/luftdaten__make_tabular_data__from_db_data/ld_NYE_midnight_24hrs_nordics_all_data_01.csv\"\n",
    "# nordic_midnight_24_hrs_data__url = \"/home/miska/documents/opensomething/luftdaten/dustmin_to_csv__various_code/ld_NYE_midnight_24hrs_nordics_all_data_01.csv\"\n",
    "\n",
    "\n",
    "\n",
    "# set the current data source \n",
    "curr_url = nordic_midnight_24_hrs_data__url"
   ]
  },
  {
   "cell_type": "code",
   "execution_count": 3,
   "metadata": {},
   "outputs": [
    {
     "data": {
      "text/plain": [
       "(127109, 7)"
      ]
     },
     "execution_count": 3,
     "metadata": {},
     "output_type": "execute_result"
    }
   ],
   "source": [
    "# try convert the timestamp in the data, to epoch\n",
    "\n",
    "in_data = pd.read_csv( curr_url )\n",
    "in_data.shape"
   ]
  },
  {
   "cell_type": "markdown",
   "metadata": {},
   "source": [
    "#### basic data checking"
   ]
  },
  {
   "cell_type": "code",
   "execution_count": 4,
   "metadata": {},
   "outputs": [
    {
     "data": {
      "text/plain": [
       "sensor_id         int64\n",
       "sensor_namee     object\n",
       "lat             float64\n",
       "lon             float64\n",
       "timestamp        object\n",
       "p1              float64\n",
       "p2              float64\n",
       "dtype: object"
      ]
     },
     "execution_count": 4,
     "metadata": {},
     "output_type": "execute_result"
    }
   ],
   "source": [
    "in_data.dtypes"
   ]
  },
  {
   "cell_type": "code",
   "execution_count": 5,
   "metadata": {},
   "outputs": [
    {
     "data": {
      "text/plain": [
       "str"
      ]
     },
     "execution_count": 5,
     "metadata": {},
     "output_type": "execute_result"
    }
   ],
   "source": [
    "# is the timestamp column not an offical timestamp column?\n",
    "type( in_data['timestamp'][0] )"
   ]
  },
  {
   "cell_type": "code",
   "execution_count": 6,
   "metadata": {},
   "outputs": [],
   "source": [
    "# aha - timestamp column not a timestamp column?\n",
    "# - let's fix \n",
    "in_data['timestamp'] = pd.to_datetime( in_data['timestamp'] )"
   ]
  },
  {
   "cell_type": "code",
   "execution_count": 7,
   "metadata": {},
   "outputs": [
    {
     "data": {
      "text/plain": [
       "pandas._libs.tslibs.timestamps.Timestamp"
      ]
     },
     "execution_count": 7,
     "metadata": {},
     "output_type": "execute_result"
    }
   ],
   "source": [
    "# check the timestamps column type again\n",
    "type( in_data['timestamp'][0] )"
   ]
  },
  {
   "cell_type": "code",
   "execution_count": 8,
   "metadata": {},
   "outputs": [],
   "source": [
    "# set the timestamp column as the index \n",
    "in_data = in_data.set_index( 'timestamp' )"
   ]
  },
  {
   "cell_type": "code",
   "execution_count": 9,
   "metadata": {},
   "outputs": [
    {
     "data": {
      "text/plain": [
       "DatetimeIndex(['2018-12-31 11:57:22', '2018-12-31 11:58:44',\n",
       "               '2018-12-31 11:58:47', '2018-12-31 11:56:41',\n",
       "               '2018-12-31 11:57:42', '2018-12-31 11:57:52',\n",
       "               '2018-12-31 11:58:51', '2018-12-31 11:58:28',\n",
       "               '2018-12-31 11:57:18', '2018-12-31 11:57:22',\n",
       "               ...\n",
       "               '2019-01-01 11:59:41', '2019-01-01 11:59:46',\n",
       "               '2019-01-01 11:57:19', '2019-01-01 11:59:59',\n",
       "               '2019-01-01 11:56:55', '2019-01-01 11:58:57',\n",
       "               '2019-01-01 11:59:36', '2019-01-01 11:59:41',\n",
       "               '2019-01-01 11:57:12', '2019-01-01 11:58:42'],\n",
       "              dtype='datetime64[ns]', name='timestamp', length=127109, freq=None)"
      ]
     },
     "execution_count": 9,
     "metadata": {},
     "output_type": "execute_result"
    }
   ],
   "source": [
    "in_data.index"
   ]
  },
  {
   "cell_type": "code",
   "execution_count": 10,
   "metadata": {},
   "outputs": [],
   "source": [
    "in_data = in_data.sort_index()"
   ]
  },
  {
   "cell_type": "code",
   "execution_count": 11,
   "metadata": {},
   "outputs": [
    {
     "data": {
      "text/plain": [
       "DatetimeIndex(['2018-12-31 11:55:19', '2018-12-31 11:56:37',\n",
       "               '2018-12-31 11:56:38', '2018-12-31 11:56:39',\n",
       "               '2018-12-31 11:56:40', '2018-12-31 11:56:40',\n",
       "               '2018-12-31 11:56:40', '2018-12-31 11:56:41',\n",
       "               '2018-12-31 11:56:42', '2018-12-31 11:56:43',\n",
       "               ...\n",
       "               '2019-01-01 23:59:54', '2019-01-01 23:59:54',\n",
       "               '2019-01-01 23:59:55', '2019-01-01 23:59:55',\n",
       "               '2019-01-01 23:59:56', '2019-01-01 23:59:56',\n",
       "               '2019-01-01 23:59:56', '2019-01-01 23:59:56',\n",
       "               '2019-01-01 23:59:57', '2019-01-01 23:59:58'],\n",
       "              dtype='datetime64[ns]', name='timestamp', length=127109, freq=None)"
      ]
     },
     "execution_count": 11,
     "metadata": {},
     "output_type": "execute_result"
    }
   ],
   "source": [
    "# check\n",
    "in_data.index"
   ]
  },
  {
   "cell_type": "code",
   "execution_count": 12,
   "metadata": {},
   "outputs": [
    {
     "data": {
      "text/html": [
       "<div>\n",
       "<style scoped>\n",
       "    .dataframe tbody tr th:only-of-type {\n",
       "        vertical-align: middle;\n",
       "    }\n",
       "\n",
       "    .dataframe tbody tr th {\n",
       "        vertical-align: top;\n",
       "    }\n",
       "\n",
       "    .dataframe thead th {\n",
       "        text-align: right;\n",
       "    }\n",
       "</style>\n",
       "<table border=\"1\" class=\"dataframe\">\n",
       "  <thead>\n",
       "    <tr style=\"text-align: right;\">\n",
       "      <th></th>\n",
       "      <th>sensor_id</th>\n",
       "      <th>sensor_namee</th>\n",
       "      <th>lat</th>\n",
       "      <th>lon</th>\n",
       "      <th>p1</th>\n",
       "      <th>p2</th>\n",
       "    </tr>\n",
       "    <tr>\n",
       "      <th>timestamp</th>\n",
       "      <th></th>\n",
       "      <th></th>\n",
       "      <th></th>\n",
       "      <th></th>\n",
       "      <th></th>\n",
       "      <th></th>\n",
       "    </tr>\n",
       "  </thead>\n",
       "  <tbody>\n",
       "    <tr>\n",
       "      <th>2018-12-31 11:55:19</th>\n",
       "      <td>13012</td>\n",
       "      <td>SDS011</td>\n",
       "      <td>57.662</td>\n",
       "      <td>12.006</td>\n",
       "      <td>6.30</td>\n",
       "      <td>2.60</td>\n",
       "    </tr>\n",
       "    <tr>\n",
       "      <th>2018-12-31 11:56:37</th>\n",
       "      <td>18112</td>\n",
       "      <td>SDS011</td>\n",
       "      <td>57.478</td>\n",
       "      <td>11.978</td>\n",
       "      <td>174.80</td>\n",
       "      <td>15.13</td>\n",
       "    </tr>\n",
       "    <tr>\n",
       "      <th>2018-12-31 11:56:38</th>\n",
       "      <td>15067</td>\n",
       "      <td>SDS011</td>\n",
       "      <td>60.024</td>\n",
       "      <td>18.770</td>\n",
       "      <td>1.62</td>\n",
       "      <td>1.02</td>\n",
       "    </tr>\n",
       "    <tr>\n",
       "      <th>2018-12-31 11:56:39</th>\n",
       "      <td>11765</td>\n",
       "      <td>SDS011</td>\n",
       "      <td>55.716</td>\n",
       "      <td>13.244</td>\n",
       "      <td>33.95</td>\n",
       "      <td>13.40</td>\n",
       "    </tr>\n",
       "    <tr>\n",
       "      <th>2018-12-31 11:56:40</th>\n",
       "      <td>14811</td>\n",
       "      <td>SDS011</td>\n",
       "      <td>57.706</td>\n",
       "      <td>11.900</td>\n",
       "      <td>63.25</td>\n",
       "      <td>10.33</td>\n",
       "    </tr>\n",
       "    <tr>\n",
       "      <th>2018-12-31 11:56:40</th>\n",
       "      <td>10827</td>\n",
       "      <td>SDS011</td>\n",
       "      <td>59.334</td>\n",
       "      <td>13.512</td>\n",
       "      <td>11.45</td>\n",
       "      <td>6.00</td>\n",
       "    </tr>\n",
       "    <tr>\n",
       "      <th>2018-12-31 11:56:40</th>\n",
       "      <td>17538</td>\n",
       "      <td>SDS011</td>\n",
       "      <td>55.612</td>\n",
       "      <td>12.972</td>\n",
       "      <td>13.68</td>\n",
       "      <td>3.12</td>\n",
       "    </tr>\n",
       "    <tr>\n",
       "      <th>2018-12-31 11:56:41</th>\n",
       "      <td>7406</td>\n",
       "      <td>SDS011</td>\n",
       "      <td>56.964</td>\n",
       "      <td>24.128</td>\n",
       "      <td>11.05</td>\n",
       "      <td>6.62</td>\n",
       "    </tr>\n",
       "    <tr>\n",
       "      <th>2018-12-31 11:56:42</th>\n",
       "      <td>16155</td>\n",
       "      <td>SDS011</td>\n",
       "      <td>59.832</td>\n",
       "      <td>17.632</td>\n",
       "      <td>1.66</td>\n",
       "      <td>1.10</td>\n",
       "    </tr>\n",
       "    <tr>\n",
       "      <th>2018-12-31 11:56:43</th>\n",
       "      <td>11058</td>\n",
       "      <td>SDS011</td>\n",
       "      <td>59.272</td>\n",
       "      <td>15.220</td>\n",
       "      <td>2.99</td>\n",
       "      <td>1.46</td>\n",
       "    </tr>\n",
       "    <tr>\n",
       "      <th>2018-12-31 11:56:43</th>\n",
       "      <td>16533</td>\n",
       "      <td>SDS011</td>\n",
       "      <td>55.722</td>\n",
       "      <td>13.202</td>\n",
       "      <td>26.43</td>\n",
       "      <td>14.00</td>\n",
       "    </tr>\n",
       "    <tr>\n",
       "      <th>2018-12-31 11:56:43</th>\n",
       "      <td>14807</td>\n",
       "      <td>SDS011</td>\n",
       "      <td>57.718</td>\n",
       "      <td>12.034</td>\n",
       "      <td>55.02</td>\n",
       "      <td>8.75</td>\n",
       "    </tr>\n",
       "    <tr>\n",
       "      <th>2018-12-31 11:56:44</th>\n",
       "      <td>10924</td>\n",
       "      <td>SDS011</td>\n",
       "      <td>59.860</td>\n",
       "      <td>17.652</td>\n",
       "      <td>2.58</td>\n",
       "      <td>1.16</td>\n",
       "    </tr>\n",
       "    <tr>\n",
       "      <th>2018-12-31 11:56:45</th>\n",
       "      <td>10723</td>\n",
       "      <td>SDS011</td>\n",
       "      <td>59.298</td>\n",
       "      <td>18.052</td>\n",
       "      <td>4.90</td>\n",
       "      <td>2.76</td>\n",
       "    </tr>\n",
       "    <tr>\n",
       "      <th>2018-12-31 11:56:47</th>\n",
       "      <td>17923</td>\n",
       "      <td>SDS011</td>\n",
       "      <td>55.730</td>\n",
       "      <td>13.200</td>\n",
       "      <td>42.12</td>\n",
       "      <td>18.17</td>\n",
       "    </tr>\n",
       "    <tr>\n",
       "      <th>2018-12-31 11:56:48</th>\n",
       "      <td>14294</td>\n",
       "      <td>SDS011</td>\n",
       "      <td>59.370</td>\n",
       "      <td>18.016</td>\n",
       "      <td>3.96</td>\n",
       "      <td>1.96</td>\n",
       "    </tr>\n",
       "    <tr>\n",
       "      <th>2018-12-31 11:56:48</th>\n",
       "      <td>17662</td>\n",
       "      <td>SDS011</td>\n",
       "      <td>56.892</td>\n",
       "      <td>15.090</td>\n",
       "      <td>2.15</td>\n",
       "      <td>2.00</td>\n",
       "    </tr>\n",
       "    <tr>\n",
       "      <th>2018-12-31 11:56:48</th>\n",
       "      <td>18838</td>\n",
       "      <td>SDS011</td>\n",
       "      <td>56.920</td>\n",
       "      <td>14.804</td>\n",
       "      <td>7.42</td>\n",
       "      <td>3.06</td>\n",
       "    </tr>\n",
       "    <tr>\n",
       "      <th>2018-12-31 11:56:49</th>\n",
       "      <td>13419</td>\n",
       "      <td>SDS011</td>\n",
       "      <td>58.440</td>\n",
       "      <td>15.470</td>\n",
       "      <td>3.38</td>\n",
       "      <td>2.28</td>\n",
       "    </tr>\n",
       "    <tr>\n",
       "      <th>2018-12-31 11:56:50</th>\n",
       "      <td>12389</td>\n",
       "      <td>SDS011</td>\n",
       "      <td>59.924</td>\n",
       "      <td>10.744</td>\n",
       "      <td>1.08</td>\n",
       "      <td>0.95</td>\n",
       "    </tr>\n",
       "  </tbody>\n",
       "</table>\n",
       "</div>"
      ],
      "text/plain": [
       "                     sensor_id sensor_namee     lat     lon      p1     p2\n",
       "timestamp                                                                 \n",
       "2018-12-31 11:55:19      13012       SDS011  57.662  12.006    6.30   2.60\n",
       "2018-12-31 11:56:37      18112       SDS011  57.478  11.978  174.80  15.13\n",
       "2018-12-31 11:56:38      15067       SDS011  60.024  18.770    1.62   1.02\n",
       "2018-12-31 11:56:39      11765       SDS011  55.716  13.244   33.95  13.40\n",
       "2018-12-31 11:56:40      14811       SDS011  57.706  11.900   63.25  10.33\n",
       "2018-12-31 11:56:40      10827       SDS011  59.334  13.512   11.45   6.00\n",
       "2018-12-31 11:56:40      17538       SDS011  55.612  12.972   13.68   3.12\n",
       "2018-12-31 11:56:41       7406       SDS011  56.964  24.128   11.05   6.62\n",
       "2018-12-31 11:56:42      16155       SDS011  59.832  17.632    1.66   1.10\n",
       "2018-12-31 11:56:43      11058       SDS011  59.272  15.220    2.99   1.46\n",
       "2018-12-31 11:56:43      16533       SDS011  55.722  13.202   26.43  14.00\n",
       "2018-12-31 11:56:43      14807       SDS011  57.718  12.034   55.02   8.75\n",
       "2018-12-31 11:56:44      10924       SDS011  59.860  17.652    2.58   1.16\n",
       "2018-12-31 11:56:45      10723       SDS011  59.298  18.052    4.90   2.76\n",
       "2018-12-31 11:56:47      17923       SDS011  55.730  13.200   42.12  18.17\n",
       "2018-12-31 11:56:48      14294       SDS011  59.370  18.016    3.96   1.96\n",
       "2018-12-31 11:56:48      17662       SDS011  56.892  15.090    2.15   2.00\n",
       "2018-12-31 11:56:48      18838       SDS011  56.920  14.804    7.42   3.06\n",
       "2018-12-31 11:56:49      13419       SDS011  58.440  15.470    3.38   2.28\n",
       "2018-12-31 11:56:50      12389       SDS011  59.924  10.744    1.08   0.95"
      ]
     },
     "execution_count": 12,
     "metadata": {},
     "output_type": "execute_result"
    }
   ],
   "source": [
    "# order by time? \n",
    "in_data[:20]"
   ]
  },
  {
   "cell_type": "code",
   "execution_count": 13,
   "metadata": {},
   "outputs": [],
   "source": [
    "# this works :) \n",
    "# in_data = in_data.sort_index()"
   ]
  },
  {
   "cell_type": "code",
   "execution_count": 14,
   "metadata": {},
   "outputs": [],
   "source": [
    "# let's try sorting the index in a different way … just for the sake of trying\n",
    "in_data = in_data.sort_values( by='timestamp' )"
   ]
  },
  {
   "cell_type": "markdown",
   "metadata": {},
   "source": [
    "#### quick data printout"
   ]
  },
  {
   "cell_type": "code",
   "execution_count": 15,
   "metadata": {},
   "outputs": [
    {
     "data": {
      "text/html": [
       "<div>\n",
       "<style scoped>\n",
       "    .dataframe tbody tr th:only-of-type {\n",
       "        vertical-align: middle;\n",
       "    }\n",
       "\n",
       "    .dataframe tbody tr th {\n",
       "        vertical-align: top;\n",
       "    }\n",
       "\n",
       "    .dataframe thead th {\n",
       "        text-align: right;\n",
       "    }\n",
       "</style>\n",
       "<table border=\"1\" class=\"dataframe\">\n",
       "  <thead>\n",
       "    <tr style=\"text-align: right;\">\n",
       "      <th></th>\n",
       "      <th>sensor_id</th>\n",
       "      <th>sensor_namee</th>\n",
       "      <th>lat</th>\n",
       "      <th>lon</th>\n",
       "      <th>p1</th>\n",
       "      <th>p2</th>\n",
       "    </tr>\n",
       "    <tr>\n",
       "      <th>timestamp</th>\n",
       "      <th></th>\n",
       "      <th></th>\n",
       "      <th></th>\n",
       "      <th></th>\n",
       "      <th></th>\n",
       "      <th></th>\n",
       "    </tr>\n",
       "  </thead>\n",
       "  <tbody>\n",
       "    <tr>\n",
       "      <th>2018-12-31 11:55:19</th>\n",
       "      <td>13012</td>\n",
       "      <td>SDS011</td>\n",
       "      <td>57.662</td>\n",
       "      <td>12.006</td>\n",
       "      <td>6.30</td>\n",
       "      <td>2.60</td>\n",
       "    </tr>\n",
       "    <tr>\n",
       "      <th>2018-12-31 11:56:37</th>\n",
       "      <td>18112</td>\n",
       "      <td>SDS011</td>\n",
       "      <td>57.478</td>\n",
       "      <td>11.978</td>\n",
       "      <td>174.80</td>\n",
       "      <td>15.13</td>\n",
       "    </tr>\n",
       "    <tr>\n",
       "      <th>2018-12-31 11:56:38</th>\n",
       "      <td>15067</td>\n",
       "      <td>SDS011</td>\n",
       "      <td>60.024</td>\n",
       "      <td>18.770</td>\n",
       "      <td>1.62</td>\n",
       "      <td>1.02</td>\n",
       "    </tr>\n",
       "    <tr>\n",
       "      <th>2018-12-31 11:56:39</th>\n",
       "      <td>11765</td>\n",
       "      <td>SDS011</td>\n",
       "      <td>55.716</td>\n",
       "      <td>13.244</td>\n",
       "      <td>33.95</td>\n",
       "      <td>13.40</td>\n",
       "    </tr>\n",
       "    <tr>\n",
       "      <th>2018-12-31 11:56:40</th>\n",
       "      <td>14811</td>\n",
       "      <td>SDS011</td>\n",
       "      <td>57.706</td>\n",
       "      <td>11.900</td>\n",
       "      <td>63.25</td>\n",
       "      <td>10.33</td>\n",
       "    </tr>\n",
       "  </tbody>\n",
       "</table>\n",
       "</div>"
      ],
      "text/plain": [
       "                     sensor_id sensor_namee     lat     lon      p1     p2\n",
       "timestamp                                                                 \n",
       "2018-12-31 11:55:19      13012       SDS011  57.662  12.006    6.30   2.60\n",
       "2018-12-31 11:56:37      18112       SDS011  57.478  11.978  174.80  15.13\n",
       "2018-12-31 11:56:38      15067       SDS011  60.024  18.770    1.62   1.02\n",
       "2018-12-31 11:56:39      11765       SDS011  55.716  13.244   33.95  13.40\n",
       "2018-12-31 11:56:40      14811       SDS011  57.706  11.900   63.25  10.33"
      ]
     },
     "execution_count": 15,
     "metadata": {},
     "output_type": "execute_result"
    }
   ],
   "source": [
    "in_data.head()"
   ]
  },
  {
   "cell_type": "code",
   "execution_count": 16,
   "metadata": {},
   "outputs": [
    {
     "data": {
      "text/html": [
       "<div>\n",
       "<style scoped>\n",
       "    .dataframe tbody tr th:only-of-type {\n",
       "        vertical-align: middle;\n",
       "    }\n",
       "\n",
       "    .dataframe tbody tr th {\n",
       "        vertical-align: top;\n",
       "    }\n",
       "\n",
       "    .dataframe thead th {\n",
       "        text-align: right;\n",
       "    }\n",
       "</style>\n",
       "<table border=\"1\" class=\"dataframe\">\n",
       "  <thead>\n",
       "    <tr style=\"text-align: right;\">\n",
       "      <th></th>\n",
       "      <th>sensor_id</th>\n",
       "      <th>sensor_namee</th>\n",
       "      <th>lat</th>\n",
       "      <th>lon</th>\n",
       "      <th>p1</th>\n",
       "      <th>p2</th>\n",
       "    </tr>\n",
       "    <tr>\n",
       "      <th>timestamp</th>\n",
       "      <th></th>\n",
       "      <th></th>\n",
       "      <th></th>\n",
       "      <th></th>\n",
       "      <th></th>\n",
       "      <th></th>\n",
       "    </tr>\n",
       "  </thead>\n",
       "  <tbody>\n",
       "    <tr>\n",
       "      <th>2019-01-01 23:59:56</th>\n",
       "      <td>12129</td>\n",
       "      <td>SDS011</td>\n",
       "      <td>59.340</td>\n",
       "      <td>18.040</td>\n",
       "      <td>1.85</td>\n",
       "      <td>0.80</td>\n",
       "    </tr>\n",
       "    <tr>\n",
       "      <th>2019-01-01 23:59:56</th>\n",
       "      <td>17538</td>\n",
       "      <td>SDS011</td>\n",
       "      <td>55.612</td>\n",
       "      <td>12.972</td>\n",
       "      <td>6.08</td>\n",
       "      <td>1.53</td>\n",
       "    </tr>\n",
       "    <tr>\n",
       "      <th>2019-01-01 23:59:56</th>\n",
       "      <td>12131</td>\n",
       "      <td>SDS011</td>\n",
       "      <td>59.450</td>\n",
       "      <td>17.916</td>\n",
       "      <td>1.48</td>\n",
       "      <td>0.52</td>\n",
       "    </tr>\n",
       "    <tr>\n",
       "      <th>2019-01-01 23:59:57</th>\n",
       "      <td>10843</td>\n",
       "      <td>SDS011</td>\n",
       "      <td>59.354</td>\n",
       "      <td>18.364</td>\n",
       "      <td>7.26</td>\n",
       "      <td>1.60</td>\n",
       "    </tr>\n",
       "    <tr>\n",
       "      <th>2019-01-01 23:59:58</th>\n",
       "      <td>11374</td>\n",
       "      <td>SDS011</td>\n",
       "      <td>59.258</td>\n",
       "      <td>18.008</td>\n",
       "      <td>2.65</td>\n",
       "      <td>2.01</td>\n",
       "    </tr>\n",
       "  </tbody>\n",
       "</table>\n",
       "</div>"
      ],
      "text/plain": [
       "                     sensor_id sensor_namee     lat     lon    p1    p2\n",
       "timestamp                                                              \n",
       "2019-01-01 23:59:56      12129       SDS011  59.340  18.040  1.85  0.80\n",
       "2019-01-01 23:59:56      17538       SDS011  55.612  12.972  6.08  1.53\n",
       "2019-01-01 23:59:56      12131       SDS011  59.450  17.916  1.48  0.52\n",
       "2019-01-01 23:59:57      10843       SDS011  59.354  18.364  7.26  1.60\n",
       "2019-01-01 23:59:58      11374       SDS011  59.258  18.008  2.65  2.01"
      ]
     },
     "execution_count": 16,
     "metadata": {},
     "output_type": "execute_result"
    }
   ],
   "source": [
    "in_data.tail()"
   ]
  },
  {
   "cell_type": "markdown",
   "metadata": {},
   "source": [
    "#### quick data exploration "
   ]
  },
  {
   "cell_type": "code",
   "execution_count": 17,
   "metadata": {},
   "outputs": [],
   "source": [
    "# do a quick search of how many values there are in the first five minutes"
   ]
  },
  {
   "cell_type": "code",
   "execution_count": 18,
   "metadata": {},
   "outputs": [
    {
     "data": {
      "text/plain": [
       "(314, 6)"
      ]
     },
     "execution_count": 18,
     "metadata": {},
     "output_type": "execute_result"
    }
   ],
   "source": [
    "first_five_mins_rows = in_data[ '2019-01-01 12:00:00' : '2019-01-01 12:05:00' ]\n",
    "first_five_mins_rows.shape"
   ]
  },
  {
   "cell_type": "code",
   "execution_count": 19,
   "metadata": {},
   "outputs": [
    {
     "data": {
      "text/plain": [
       "((178,), (205,))"
      ]
     },
     "execution_count": 19,
     "metadata": {},
     "output_type": "execute_result"
    }
   ],
   "source": [
    "# just check how many of the sensors have entries for the first five minues\n",
    "first_five_mins_rows['sensor_id'].unique().shape, in_data['sensor_id'].unique().shape"
   ]
  },
  {
   "cell_type": "code",
   "execution_count": null,
   "metadata": {},
   "outputs": [],
   "source": []
  },
  {
   "cell_type": "markdown",
   "metadata": {},
   "source": [
    "###### construct the different times we could use for different indexing \n",
    "\n",
    "####### - eg for inserting blank rows, to get similar time periods in each sensors data\n",
    "####### - eg for quering different times … eg at the beginning / end of the data series for each sensor \n"
   ]
  },
  {
   "cell_type": "code",
   "execution_count": 20,
   "metadata": {},
   "outputs": [
    {
     "data": {
      "text/plain": [
       "Timestamp('2018-12-31 12:00:00')"
      ]
     },
     "execution_count": 20,
     "metadata": {},
     "output_type": "execute_result"
    }
   ],
   "source": [
    "start_time = pd.to_datetime( '2018-12-31 12:00:00' )\n",
    "start_time"
   ]
  },
  {
   "cell_type": "code",
   "execution_count": 21,
   "metadata": {},
   "outputs": [
    {
     "data": {
      "text/plain": [
       "Timestamp('2018-12-31 12:05:00')"
      ]
     },
     "execution_count": 21,
     "metadata": {},
     "output_type": "execute_result"
    }
   ],
   "source": [
    "startime_plus_five_mins = start_time + pd.offsets.Minute( 5 )\n",
    "startime_plus_five_mins"
   ]
  },
  {
   "cell_type": "code",
   "execution_count": 22,
   "metadata": {},
   "outputs": [
    {
     "data": {
      "text/plain": [
       "Timestamp('2019-01-01 12:00:00')"
      ]
     },
     "execution_count": 22,
     "metadata": {},
     "output_type": "execute_result"
    }
   ],
   "source": [
    "end_time = pd.to_datetime( '2019-01-01 12:00:00' )\n",
    "end_time"
   ]
  },
  {
   "cell_type": "code",
   "execution_count": 23,
   "metadata": {},
   "outputs": [
    {
     "data": {
      "text/plain": [
       "Timestamp('2019-01-01 11:55:00')"
      ]
     },
     "execution_count": 23,
     "metadata": {},
     "output_type": "execute_result"
    }
   ],
   "source": [
    "end_time_minus_five_mins = end_time - pd.offsets.Minute(5 )\n",
    "end_time_minus_five_mins"
   ]
  },
  {
   "cell_type": "code",
   "execution_count": 24,
   "metadata": {},
   "outputs": [],
   "source": [
    "in_data_start_time = in_data[:1]"
   ]
  },
  {
   "cell_type": "code",
   "execution_count": 25,
   "metadata": {},
   "outputs": [
    {
     "data": {
      "text/plain": [
       "pandas.core.frame.DataFrame"
      ]
     },
     "execution_count": 25,
     "metadata": {},
     "output_type": "execute_result"
    }
   ],
   "source": [
    "type( in_data_start_time )"
   ]
  },
  {
   "cell_type": "code",
   "execution_count": 26,
   "metadata": {},
   "outputs": [
    {
     "data": {
      "text/plain": [
       "pandas.core.indexes.datetimes.DatetimeIndex"
      ]
     },
     "execution_count": 26,
     "metadata": {},
     "output_type": "execute_result"
    }
   ],
   "source": [
    "type( in_data_start_time.index ) #iat[ 0, ]"
   ]
  },
  {
   "cell_type": "code",
   "execution_count": 27,
   "metadata": {},
   "outputs": [
    {
     "data": {
      "text/plain": [
       "DatetimeIndex(['2018-12-31 11:55:19'], dtype='datetime64[ns]', name='timestamp', freq=None)"
      ]
     },
     "execution_count": 27,
     "metadata": {},
     "output_type": "execute_result"
    }
   ],
   "source": [
    "in_data_start_time.index"
   ]
  },
  {
   "cell_type": "code",
   "execution_count": 28,
   "metadata": {},
   "outputs": [
    {
     "data": {
      "text/html": [
       "<div>\n",
       "<style scoped>\n",
       "    .dataframe tbody tr th:only-of-type {\n",
       "        vertical-align: middle;\n",
       "    }\n",
       "\n",
       "    .dataframe tbody tr th {\n",
       "        vertical-align: top;\n",
       "    }\n",
       "\n",
       "    .dataframe thead th {\n",
       "        text-align: right;\n",
       "    }\n",
       "</style>\n",
       "<table border=\"1\" class=\"dataframe\">\n",
       "  <thead>\n",
       "    <tr style=\"text-align: right;\">\n",
       "      <th></th>\n",
       "      <th>sensor_id</th>\n",
       "      <th>sensor_namee</th>\n",
       "      <th>lat</th>\n",
       "      <th>lon</th>\n",
       "      <th>p1</th>\n",
       "      <th>p2</th>\n",
       "    </tr>\n",
       "  </thead>\n",
       "  <tbody>\n",
       "    <tr>\n",
       "      <th>2018-12-31 12:00:00</th>\n",
       "      <td>13012</td>\n",
       "      <td>SDS011</td>\n",
       "      <td>57.662</td>\n",
       "      <td>12.006</td>\n",
       "      <td>6.3</td>\n",
       "      <td>2.6</td>\n",
       "    </tr>\n",
       "  </tbody>\n",
       "</table>\n",
       "</div>"
      ],
      "text/plain": [
       "                     sensor_id sensor_namee     lat     lon   p1   p2\n",
       "2018-12-31 12:00:00      13012       SDS011  57.662  12.006  6.3  2.6"
      ]
     },
     "execution_count": 28,
     "metadata": {},
     "output_type": "execute_result"
    }
   ],
   "source": [
    "in_data_start_time.set_index( pd.DatetimeIndex( [ start_time ] )   )"
   ]
  },
  {
   "cell_type": "code",
   "execution_count": 29,
   "metadata": {},
   "outputs": [
    {
     "data": {
      "text/html": [
       "<div>\n",
       "<style scoped>\n",
       "    .dataframe tbody tr th:only-of-type {\n",
       "        vertical-align: middle;\n",
       "    }\n",
       "\n",
       "    .dataframe tbody tr th {\n",
       "        vertical-align: top;\n",
       "    }\n",
       "\n",
       "    .dataframe thead th {\n",
       "        text-align: right;\n",
       "    }\n",
       "</style>\n",
       "<table border=\"1\" class=\"dataframe\">\n",
       "  <thead>\n",
       "    <tr style=\"text-align: right;\">\n",
       "      <th></th>\n",
       "      <th>sensor_id</th>\n",
       "      <th>sensor_namee</th>\n",
       "      <th>lat</th>\n",
       "      <th>lon</th>\n",
       "      <th>p1</th>\n",
       "      <th>p2</th>\n",
       "    </tr>\n",
       "    <tr>\n",
       "      <th>timestamp</th>\n",
       "      <th></th>\n",
       "      <th></th>\n",
       "      <th></th>\n",
       "      <th></th>\n",
       "      <th></th>\n",
       "      <th></th>\n",
       "    </tr>\n",
       "  </thead>\n",
       "  <tbody>\n",
       "    <tr>\n",
       "      <th>2018-12-31 11:55:19</th>\n",
       "      <td>13012</td>\n",
       "      <td>SDS011</td>\n",
       "      <td>57.662</td>\n",
       "      <td>12.006</td>\n",
       "      <td>6.3</td>\n",
       "      <td>2.6</td>\n",
       "    </tr>\n",
       "  </tbody>\n",
       "</table>\n",
       "</div>"
      ],
      "text/plain": [
       "                     sensor_id sensor_namee     lat     lon   p1   p2\n",
       "timestamp                                                            \n",
       "2018-12-31 11:55:19      13012       SDS011  57.662  12.006  6.3  2.6"
      ]
     },
     "execution_count": 29,
     "metadata": {},
     "output_type": "execute_result"
    }
   ],
   "source": [
    "in_data_start_time"
   ]
  },
  {
   "cell_type": "code",
   "execution_count": 30,
   "metadata": {},
   "outputs": [],
   "source": [
    "### make new template row for the time rows we'll insert later"
   ]
  },
  {
   "cell_type": "code",
   "execution_count": 31,
   "metadata": {},
   "outputs": [
    {
     "data": {
      "text/html": [
       "<div>\n",
       "<style scoped>\n",
       "    .dataframe tbody tr th:only-of-type {\n",
       "        vertical-align: middle;\n",
       "    }\n",
       "\n",
       "    .dataframe tbody tr th {\n",
       "        vertical-align: top;\n",
       "    }\n",
       "\n",
       "    .dataframe thead th {\n",
       "        text-align: right;\n",
       "    }\n",
       "</style>\n",
       "<table border=\"1\" class=\"dataframe\">\n",
       "  <thead>\n",
       "    <tr style=\"text-align: right;\">\n",
       "      <th></th>\n",
       "      <th>sensor_id</th>\n",
       "      <th>sensor_namee</th>\n",
       "      <th>lat</th>\n",
       "      <th>lon</th>\n",
       "      <th>p1</th>\n",
       "      <th>p2</th>\n",
       "    </tr>\n",
       "    <tr>\n",
       "      <th>timestamp</th>\n",
       "      <th></th>\n",
       "      <th></th>\n",
       "      <th></th>\n",
       "      <th></th>\n",
       "      <th></th>\n",
       "      <th></th>\n",
       "    </tr>\n",
       "  </thead>\n",
       "  <tbody>\n",
       "    <tr>\n",
       "      <th>2018-12-31 11:55:19</th>\n",
       "      <td>13012</td>\n",
       "      <td>SDS011</td>\n",
       "      <td>57.662</td>\n",
       "      <td>12.006</td>\n",
       "      <td>6.3</td>\n",
       "      <td>2.6</td>\n",
       "    </tr>\n",
       "  </tbody>\n",
       "</table>\n",
       "</div>"
      ],
      "text/plain": [
       "                     sensor_id sensor_namee     lat     lon   p1   p2\n",
       "timestamp                                                            \n",
       "2018-12-31 11:55:19      13012       SDS011  57.662  12.006  6.3  2.6"
      ]
     },
     "execution_count": 31,
     "metadata": {},
     "output_type": "execute_result"
    }
   ],
   "source": [
    "in_data_start_time[:1]"
   ]
  },
  {
   "cell_type": "code",
   "execution_count": 32,
   "metadata": {},
   "outputs": [
    {
     "data": {
      "text/html": [
       "<div>\n",
       "<style scoped>\n",
       "    .dataframe tbody tr th:only-of-type {\n",
       "        vertical-align: middle;\n",
       "    }\n",
       "\n",
       "    .dataframe tbody tr th {\n",
       "        vertical-align: top;\n",
       "    }\n",
       "\n",
       "    .dataframe thead th {\n",
       "        text-align: right;\n",
       "    }\n",
       "</style>\n",
       "<table border=\"1\" class=\"dataframe\">\n",
       "  <thead>\n",
       "    <tr style=\"text-align: right;\">\n",
       "      <th></th>\n",
       "      <th>sensor_id</th>\n",
       "      <th>sensor_namee</th>\n",
       "      <th>lat</th>\n",
       "      <th>lon</th>\n",
       "      <th>p1</th>\n",
       "      <th>p2</th>\n",
       "    </tr>\n",
       "    <tr>\n",
       "      <th>timestamp</th>\n",
       "      <th></th>\n",
       "      <th></th>\n",
       "      <th></th>\n",
       "      <th></th>\n",
       "      <th></th>\n",
       "      <th></th>\n",
       "    </tr>\n",
       "  </thead>\n",
       "  <tbody>\n",
       "    <tr>\n",
       "      <th>2018-12-31 11:55:19</th>\n",
       "      <td>13012</td>\n",
       "      <td>SDS011</td>\n",
       "      <td>NaN</td>\n",
       "      <td>NaN</td>\n",
       "      <td>NaN</td>\n",
       "      <td>NaN</td>\n",
       "    </tr>\n",
       "  </tbody>\n",
       "</table>\n",
       "</div>"
      ],
      "text/plain": [
       "                     sensor_id sensor_namee  lat  lon  p1  p2\n",
       "timestamp                                                    \n",
       "2018-12-31 11:55:19      13012       SDS011  NaN  NaN NaN NaN"
      ]
     },
     "execution_count": 32,
     "metadata": {},
     "output_type": "execute_result"
    }
   ],
   "source": [
    "in_data_start_time[:1]['sensor_namee'] = np.NaN\n",
    "in_data_start_time[:1]['sensor_id'] = np.NaN\n",
    "in_data_start_time[:1]['p1'] = np.NaN\n",
    "in_data_start_time[:1]['p2'] = np.NaN\n",
    "in_data_start_time[:1]['lat'] = np.NaN\n",
    "in_data_start_time[:1]['lon'] = np.NaN\n",
    "in_data_start_time"
   ]
  },
  {
   "cell_type": "code",
   "execution_count": 33,
   "metadata": {},
   "outputs": [],
   "source": [
    "# NO EFFECT :-( )\n",
    "in_data_start_time[:1]['sensor_namee'] = 13"
   ]
  },
  {
   "cell_type": "code",
   "execution_count": 34,
   "metadata": {},
   "outputs": [
    {
     "data": {
      "text/html": [
       "<div>\n",
       "<style scoped>\n",
       "    .dataframe tbody tr th:only-of-type {\n",
       "        vertical-align: middle;\n",
       "    }\n",
       "\n",
       "    .dataframe tbody tr th {\n",
       "        vertical-align: top;\n",
       "    }\n",
       "\n",
       "    .dataframe thead th {\n",
       "        text-align: right;\n",
       "    }\n",
       "</style>\n",
       "<table border=\"1\" class=\"dataframe\">\n",
       "  <thead>\n",
       "    <tr style=\"text-align: right;\">\n",
       "      <th></th>\n",
       "      <th>sensor_id</th>\n",
       "      <th>sensor_namee</th>\n",
       "      <th>lat</th>\n",
       "      <th>lon</th>\n",
       "      <th>p1</th>\n",
       "      <th>p2</th>\n",
       "    </tr>\n",
       "    <tr>\n",
       "      <th>timestamp</th>\n",
       "      <th></th>\n",
       "      <th></th>\n",
       "      <th></th>\n",
       "      <th></th>\n",
       "      <th></th>\n",
       "      <th></th>\n",
       "    </tr>\n",
       "  </thead>\n",
       "  <tbody>\n",
       "    <tr>\n",
       "      <th>2018-12-31 11:55:19</th>\n",
       "      <td>13012</td>\n",
       "      <td>SDS011</td>\n",
       "      <td>NaN</td>\n",
       "      <td>NaN</td>\n",
       "      <td>NaN</td>\n",
       "      <td>NaN</td>\n",
       "    </tr>\n",
       "  </tbody>\n",
       "</table>\n",
       "</div>"
      ],
      "text/plain": [
       "                     sensor_id sensor_namee  lat  lon  p1  p2\n",
       "timestamp                                                    \n",
       "2018-12-31 11:55:19      13012       SDS011  NaN  NaN NaN NaN"
      ]
     },
     "execution_count": 34,
     "metadata": {},
     "output_type": "execute_result"
    }
   ],
   "source": [
    "in_data_start_time"
   ]
  },
  {
   "cell_type": "code",
   "execution_count": null,
   "metadata": {},
   "outputs": [],
   "source": []
  },
  {
   "cell_type": "markdown",
   "metadata": {},
   "source": [
    "### make template row for blank data, with right time, rows, to insert later\n",
    "#### to make the time data for the sensor data have the same start and end "
   ]
  },
  {
   "cell_type": "code",
   "execution_count": 35,
   "metadata": {},
   "outputs": [],
   "source": [
    "in_data_templace_for_different_new_time_rows__series = in_data_start_time.iloc[0]"
   ]
  },
  {
   "cell_type": "code",
   "execution_count": 36,
   "metadata": {},
   "outputs": [
    {
     "data": {
      "text/plain": [
       "sensor_id        13012\n",
       "sensor_namee    SDS011\n",
       "lat                NaN\n",
       "lon                NaN\n",
       "p1                 NaN\n",
       "p2                 NaN\n",
       "Name: 2018-12-31 11:55:19, dtype: object"
      ]
     },
     "execution_count": 36,
     "metadata": {},
     "output_type": "execute_result"
    }
   ],
   "source": [
    "in_data_templace_for_different_new_time_rows__series"
   ]
  },
  {
   "cell_type": "code",
   "execution_count": 37,
   "metadata": {},
   "outputs": [
    {
     "data": {
      "text/plain": [
       "sensor_id          NaN\n",
       "sensor_namee    SDS011\n",
       "lat                NaN\n",
       "lon                NaN\n",
       "p1                 NaN\n",
       "p2                 NaN\n",
       "Name: 2018-12-31 12:00:00, dtype: object"
      ]
     },
     "execution_count": 37,
     "metadata": {},
     "output_type": "execute_result"
    }
   ],
   "source": [
    "# now set the other values in the start time\n",
    "in_data_templace_for_different_new_time_rows__series.at['p1'] = np.NaN\n",
    "in_data_templace_for_different_new_time_rows__series.at['p2'] = np.NaN\n",
    "in_data_templace_for_different_new_time_rows__series.at['lat'] = np.NaN\n",
    "in_data_templace_for_different_new_time_rows__series.at['lon'] = np.NaN\n",
    "# in_data_templace_for_different_new_time_rows__series.at['sensor_namee'] = np.NaN\n",
    "in_data_templace_for_different_new_time_rows__series.at['sensor_id'] = np.NaN\n",
    "in_data_templace_for_different_new_time_rows__series.name = start_time\n",
    "in_data_templace_for_different_new_time_rows__series"
   ]
  },
  {
   "cell_type": "markdown",
   "metadata": {},
   "source": [
    "##### the (blank) START time data row "
   ]
  },
  {
   "cell_type": "code",
   "execution_count": 38,
   "metadata": {},
   "outputs": [
    {
     "data": {
      "text/plain": [
       "sensor_id          NaN\n",
       "sensor_namee    SDS011\n",
       "lat                NaN\n",
       "lon                NaN\n",
       "p1                 NaN\n",
       "p2                 NaN\n",
       "Name: 2018-12-31 12:00:00, dtype: object"
      ]
     },
     "execution_count": 38,
     "metadata": {},
     "output_type": "execute_result"
    }
   ],
   "source": [
    "start_time__blank_data_row = in_data_templace_for_different_new_time_rows__series\n",
    "start_time__blank_data_row"
   ]
  },
  {
   "cell_type": "markdown",
   "metadata": {},
   "source": [
    "##### the (blank) END time data row "
   ]
  },
  {
   "cell_type": "code",
   "execution_count": 39,
   "metadata": {},
   "outputs": [
    {
     "data": {
      "text/plain": [
       "sensor_id          NaN\n",
       "sensor_namee    SDS011\n",
       "lat                NaN\n",
       "lon                NaN\n",
       "p1                 NaN\n",
       "p2                 NaN\n",
       "Name: 2019-01-01 12:00:00, dtype: object"
      ]
     },
     "execution_count": 39,
     "metadata": {},
     "output_type": "execute_result"
    }
   ],
   "source": [
    "end_time__blank_data_row = in_data_templace_for_different_new_time_rows__series\n",
    "end_time__blank_data_row.name = end_time\n",
    "end_time__blank_data_row"
   ]
  },
  {
   "cell_type": "code",
   "execution_count": null,
   "metadata": {},
   "outputs": [],
   "source": []
  },
  {
   "cell_type": "markdown",
   "metadata": {},
   "source": [
    "### TRY 2 : make blank data frame rows with the desired start and end times \n",
    "- this time make it MINIMAL, with only p1 and p2, and time index ;) "
   ]
  },
  {
   "cell_type": "code",
   "execution_count": null,
   "metadata": {},
   "outputs": [],
   "source": []
  },
  {
   "cell_type": "code",
   "execution_count": 40,
   "metadata": {},
   "outputs": [
    {
     "data": {
      "text/html": [
       "<div>\n",
       "<style scoped>\n",
       "    .dataframe tbody tr th:only-of-type {\n",
       "        vertical-align: middle;\n",
       "    }\n",
       "\n",
       "    .dataframe tbody tr th {\n",
       "        vertical-align: top;\n",
       "    }\n",
       "\n",
       "    .dataframe thead th {\n",
       "        text-align: right;\n",
       "    }\n",
       "</style>\n",
       "<table border=\"1\" class=\"dataframe\">\n",
       "  <thead>\n",
       "    <tr style=\"text-align: right;\">\n",
       "      <th></th>\n",
       "      <th>p1</th>\n",
       "      <th>p2</th>\n",
       "    </tr>\n",
       "  </thead>\n",
       "  <tbody>\n",
       "    <tr>\n",
       "      <th>2018-12-31 12:00:00</th>\n",
       "      <td>NaN</td>\n",
       "      <td>NaN</td>\n",
       "    </tr>\n",
       "  </tbody>\n",
       "</table>\n",
       "</div>"
      ],
      "text/plain": [
       "                     p1  p2\n",
       "2018-12-31 12:00:00 NaN NaN"
      ]
     },
     "execution_count": 40,
     "metadata": {},
     "output_type": "execute_result"
    }
   ],
   "source": [
    "blank_mininmal_START_TIME_row = pd.DataFrame( data={ 'p1' : np.NaN, 'p2' : np.NaN }, index=pd.DatetimeIndex( [ start_time ] ) )\n",
    "blank_mininmal_START_TIME_row"
   ]
  },
  {
   "cell_type": "code",
   "execution_count": 41,
   "metadata": {},
   "outputs": [
    {
     "data": {
      "text/html": [
       "<div>\n",
       "<style scoped>\n",
       "    .dataframe tbody tr th:only-of-type {\n",
       "        vertical-align: middle;\n",
       "    }\n",
       "\n",
       "    .dataframe tbody tr th {\n",
       "        vertical-align: top;\n",
       "    }\n",
       "\n",
       "    .dataframe thead th {\n",
       "        text-align: right;\n",
       "    }\n",
       "</style>\n",
       "<table border=\"1\" class=\"dataframe\">\n",
       "  <thead>\n",
       "    <tr style=\"text-align: right;\">\n",
       "      <th></th>\n",
       "      <th>p1</th>\n",
       "      <th>p2</th>\n",
       "    </tr>\n",
       "  </thead>\n",
       "  <tbody>\n",
       "    <tr>\n",
       "      <th>2019-01-01 12:00:00</th>\n",
       "      <td>NaN</td>\n",
       "      <td>NaN</td>\n",
       "    </tr>\n",
       "  </tbody>\n",
       "</table>\n",
       "</div>"
      ],
      "text/plain": [
       "                     p1  p2\n",
       "2019-01-01 12:00:00 NaN NaN"
      ]
     },
     "execution_count": 41,
     "metadata": {},
     "output_type": "execute_result"
    }
   ],
   "source": [
    "blank_mininmal_END_TIME_row = pd.DataFrame( data={ 'p1' : np.NaN, 'p2' : np.NaN }, index=pd.DatetimeIndex( [ end_time ] ) )\n",
    "blank_mininmal_END_TIME_row"
   ]
  },
  {
   "cell_type": "code",
   "execution_count": null,
   "metadata": {},
   "outputs": [],
   "source": []
  },
  {
   "cell_type": "markdown",
   "metadata": {},
   "source": [
    "## TEST ZONE "
   ]
  },
  {
   "cell_type": "code",
   "execution_count": 42,
   "metadata": {},
   "outputs": [
    {
     "data": {
      "text/html": [
       "<div>\n",
       "<style scoped>\n",
       "    .dataframe tbody tr th:only-of-type {\n",
       "        vertical-align: middle;\n",
       "    }\n",
       "\n",
       "    .dataframe tbody tr th {\n",
       "        vertical-align: top;\n",
       "    }\n",
       "\n",
       "    .dataframe thead th {\n",
       "        text-align: right;\n",
       "    }\n",
       "</style>\n",
       "<table border=\"1\" class=\"dataframe\">\n",
       "  <thead>\n",
       "    <tr style=\"text-align: right;\">\n",
       "      <th></th>\n",
       "      <th>sensor_id</th>\n",
       "      <th>sensor_namee</th>\n",
       "      <th>lat</th>\n",
       "      <th>lon</th>\n",
       "      <th>p1</th>\n",
       "      <th>p2</th>\n",
       "    </tr>\n",
       "    <tr>\n",
       "      <th>timestamp</th>\n",
       "      <th></th>\n",
       "      <th></th>\n",
       "      <th></th>\n",
       "      <th></th>\n",
       "      <th></th>\n",
       "      <th></th>\n",
       "    </tr>\n",
       "  </thead>\n",
       "  <tbody>\n",
       "    <tr>\n",
       "      <th>2018-12-31 11:55:19</th>\n",
       "      <td>13012</td>\n",
       "      <td>SDS011</td>\n",
       "      <td>NaN</td>\n",
       "      <td>NaN</td>\n",
       "      <td>NaN</td>\n",
       "      <td>NaN</td>\n",
       "    </tr>\n",
       "    <tr>\n",
       "      <th>2018-12-31 12:00:55</th>\n",
       "      <td>13012</td>\n",
       "      <td>SDS011</td>\n",
       "      <td>57.662</td>\n",
       "      <td>12.006</td>\n",
       "      <td>4.23</td>\n",
       "      <td>2.70</td>\n",
       "    </tr>\n",
       "    <tr>\n",
       "      <th>2018-12-31 12:03:25</th>\n",
       "      <td>13012</td>\n",
       "      <td>SDS011</td>\n",
       "      <td>57.662</td>\n",
       "      <td>12.006</td>\n",
       "      <td>4.98</td>\n",
       "      <td>2.66</td>\n",
       "    </tr>\n",
       "    <tr>\n",
       "      <th>2018-12-31 12:05:55</th>\n",
       "      <td>13012</td>\n",
       "      <td>SDS011</td>\n",
       "      <td>57.662</td>\n",
       "      <td>12.006</td>\n",
       "      <td>7.73</td>\n",
       "      <td>2.85</td>\n",
       "    </tr>\n",
       "    <tr>\n",
       "      <th>2018-12-31 12:08:25</th>\n",
       "      <td>13012</td>\n",
       "      <td>SDS011</td>\n",
       "      <td>57.662</td>\n",
       "      <td>12.006</td>\n",
       "      <td>8.76</td>\n",
       "      <td>3.78</td>\n",
       "    </tr>\n",
       "  </tbody>\n",
       "</table>\n",
       "</div>"
      ],
      "text/plain": [
       "                     sensor_id sensor_namee     lat     lon    p1    p2\n",
       "timestamp                                                              \n",
       "2018-12-31 11:55:19      13012       SDS011     NaN     NaN   NaN   NaN\n",
       "2018-12-31 12:00:55      13012       SDS011  57.662  12.006  4.23  2.70\n",
       "2018-12-31 12:03:25      13012       SDS011  57.662  12.006  4.98  2.66\n",
       "2018-12-31 12:05:55      13012       SDS011  57.662  12.006  7.73  2.85\n",
       "2018-12-31 12:08:25      13012       SDS011  57.662  12.006  8.76  3.78"
      ]
     },
     "execution_count": 42,
     "metadata": {},
     "output_type": "execute_result"
    }
   ],
   "source": [
    "# try making a dataframe with only given values \n",
    "given_sensors_data = in_data[ in_data['sensor_id'] == 13012]\n",
    "given_sensors_data.head()"
   ]
  },
  {
   "cell_type": "code",
   "execution_count": 43,
   "metadata": {},
   "outputs": [
    {
     "data": {
      "text/plain": [
       "(706, 6)"
      ]
     },
     "execution_count": 43,
     "metadata": {},
     "output_type": "execute_result"
    }
   ],
   "source": [
    "given_sensors_data.shape"
   ]
  },
  {
   "cell_type": "code",
   "execution_count": 44,
   "metadata": {},
   "outputs": [],
   "source": [
    "given_sensors_data_MINIMAL = given_sensors_data[ ['p1', 'p2'] ]"
   ]
  },
  {
   "cell_type": "code",
   "execution_count": 45,
   "metadata": {},
   "outputs": [
    {
     "data": {
      "text/html": [
       "<div>\n",
       "<style scoped>\n",
       "    .dataframe tbody tr th:only-of-type {\n",
       "        vertical-align: middle;\n",
       "    }\n",
       "\n",
       "    .dataframe tbody tr th {\n",
       "        vertical-align: top;\n",
       "    }\n",
       "\n",
       "    .dataframe thead th {\n",
       "        text-align: right;\n",
       "    }\n",
       "</style>\n",
       "<table border=\"1\" class=\"dataframe\">\n",
       "  <thead>\n",
       "    <tr style=\"text-align: right;\">\n",
       "      <th></th>\n",
       "      <th>p1</th>\n",
       "      <th>p2</th>\n",
       "    </tr>\n",
       "    <tr>\n",
       "      <th>timestamp</th>\n",
       "      <th></th>\n",
       "      <th></th>\n",
       "    </tr>\n",
       "  </thead>\n",
       "  <tbody>\n",
       "    <tr>\n",
       "      <th>2018-12-31 11:55:19</th>\n",
       "      <td>NaN</td>\n",
       "      <td>NaN</td>\n",
       "    </tr>\n",
       "    <tr>\n",
       "      <th>2018-12-31 12:00:55</th>\n",
       "      <td>4.23</td>\n",
       "      <td>2.70</td>\n",
       "    </tr>\n",
       "    <tr>\n",
       "      <th>2018-12-31 12:03:25</th>\n",
       "      <td>4.98</td>\n",
       "      <td>2.66</td>\n",
       "    </tr>\n",
       "    <tr>\n",
       "      <th>2018-12-31 12:05:55</th>\n",
       "      <td>7.73</td>\n",
       "      <td>2.85</td>\n",
       "    </tr>\n",
       "    <tr>\n",
       "      <th>2018-12-31 12:08:25</th>\n",
       "      <td>8.76</td>\n",
       "      <td>3.78</td>\n",
       "    </tr>\n",
       "  </tbody>\n",
       "</table>\n",
       "</div>"
      ],
      "text/plain": [
       "                       p1    p2\n",
       "timestamp                      \n",
       "2018-12-31 11:55:19   NaN   NaN\n",
       "2018-12-31 12:00:55  4.23  2.70\n",
       "2018-12-31 12:03:25  4.98  2.66\n",
       "2018-12-31 12:05:55  7.73  2.85\n",
       "2018-12-31 12:08:25  8.76  3.78"
      ]
     },
     "execution_count": 45,
     "metadata": {},
     "output_type": "execute_result"
    }
   ],
   "source": [
    "given_sensors_data_MINIMAL.head()"
   ]
  },
  {
   "cell_type": "code",
   "execution_count": 46,
   "metadata": {},
   "outputs": [
    {
     "data": {
      "text/plain": [
       "DatetimeIndex(['2018-12-31 11:55:19', '2018-12-31 12:00:55',\n",
       "               '2018-12-31 12:03:25', '2018-12-31 12:05:55',\n",
       "               '2018-12-31 12:08:25', '2018-12-31 12:13:42',\n",
       "               '2018-12-31 12:16:10', '2018-12-31 12:18:39',\n",
       "               '2018-12-31 12:21:07', '2018-12-31 12:23:52',\n",
       "               ...\n",
       "               '2019-01-01 23:23:57', '2019-01-01 23:26:27',\n",
       "               '2019-01-01 23:34:46', '2019-01-01 23:34:46',\n",
       "               '2019-01-01 23:42:57', '2019-01-01 23:45:35',\n",
       "               '2019-01-01 23:48:07', '2019-01-01 23:50:37',\n",
       "               '2019-01-01 23:55:37', '2019-01-01 23:58:07'],\n",
       "              dtype='datetime64[ns]', name='timestamp', length=706, freq=None)"
      ]
     },
     "execution_count": 46,
     "metadata": {},
     "output_type": "execute_result"
    }
   ],
   "source": [
    "given_sensors_data_MINIMAL.index"
   ]
  },
  {
   "cell_type": "code",
   "execution_count": 47,
   "metadata": {},
   "outputs": [],
   "source": [
    "# now try combining this table with the blank start/end times rows generated earlier"
   ]
  },
  {
   "cell_type": "markdown",
   "metadata": {},
   "source": [
    "### try making start and end time rows from this table, in the hope it'll work better… "
   ]
  },
  {
   "cell_type": "code",
   "execution_count": 48,
   "metadata": {},
   "outputs": [],
   "source": [
    "start_time_dataframe_row = given_sensors_data_MINIMAL.iloc[:1]"
   ]
  },
  {
   "cell_type": "code",
   "execution_count": 49,
   "metadata": {},
   "outputs": [
    {
     "data": {
      "text/plain": [
       "(1, 2)"
      ]
     },
     "execution_count": 49,
     "metadata": {},
     "output_type": "execute_result"
    }
   ],
   "source": [
    "start_time_dataframe_row.shape"
   ]
  },
  {
   "cell_type": "code",
   "execution_count": 50,
   "metadata": {},
   "outputs": [
    {
     "data": {
      "text/html": [
       "<div>\n",
       "<style scoped>\n",
       "    .dataframe tbody tr th:only-of-type {\n",
       "        vertical-align: middle;\n",
       "    }\n",
       "\n",
       "    .dataframe tbody tr th {\n",
       "        vertical-align: top;\n",
       "    }\n",
       "\n",
       "    .dataframe thead th {\n",
       "        text-align: right;\n",
       "    }\n",
       "</style>\n",
       "<table border=\"1\" class=\"dataframe\">\n",
       "  <thead>\n",
       "    <tr style=\"text-align: right;\">\n",
       "      <th></th>\n",
       "      <th>p1</th>\n",
       "      <th>p2</th>\n",
       "    </tr>\n",
       "    <tr>\n",
       "      <th>timestamp</th>\n",
       "      <th></th>\n",
       "      <th></th>\n",
       "    </tr>\n",
       "  </thead>\n",
       "  <tbody>\n",
       "    <tr>\n",
       "      <th>2018-12-31 11:55:19</th>\n",
       "      <td>NaN</td>\n",
       "      <td>NaN</td>\n",
       "    </tr>\n",
       "  </tbody>\n",
       "</table>\n",
       "</div>"
      ],
      "text/plain": [
       "                     p1  p2\n",
       "timestamp                  \n",
       "2018-12-31 11:55:19 NaN NaN"
      ]
     },
     "execution_count": 50,
     "metadata": {},
     "output_type": "execute_result"
    }
   ],
   "source": [
    "start_time_dataframe_row"
   ]
  },
  {
   "cell_type": "code",
   "execution_count": 51,
   "metadata": {},
   "outputs": [
    {
     "data": {
      "text/plain": [
       "pandas.core.frame.DataFrame"
      ]
     },
     "execution_count": 51,
     "metadata": {},
     "output_type": "execute_result"
    }
   ],
   "source": [
    "type( start_time_dataframe_row ) "
   ]
  },
  {
   "cell_type": "code",
   "execution_count": 52,
   "metadata": {},
   "outputs": [],
   "source": [
    "start_time_dataframe_row.index = pd.DatetimeIndex( [start_time] )"
   ]
  },
  {
   "cell_type": "code",
   "execution_count": 53,
   "metadata": {},
   "outputs": [
    {
     "data": {
      "text/html": [
       "<div>\n",
       "<style scoped>\n",
       "    .dataframe tbody tr th:only-of-type {\n",
       "        vertical-align: middle;\n",
       "    }\n",
       "\n",
       "    .dataframe tbody tr th {\n",
       "        vertical-align: top;\n",
       "    }\n",
       "\n",
       "    .dataframe thead th {\n",
       "        text-align: right;\n",
       "    }\n",
       "</style>\n",
       "<table border=\"1\" class=\"dataframe\">\n",
       "  <thead>\n",
       "    <tr style=\"text-align: right;\">\n",
       "      <th></th>\n",
       "      <th>p1</th>\n",
       "      <th>p2</th>\n",
       "    </tr>\n",
       "  </thead>\n",
       "  <tbody>\n",
       "    <tr>\n",
       "      <th>2018-12-31 12:00:00</th>\n",
       "      <td>NaN</td>\n",
       "      <td>NaN</td>\n",
       "    </tr>\n",
       "  </tbody>\n",
       "</table>\n",
       "</div>"
      ],
      "text/plain": [
       "                     p1  p2\n",
       "2018-12-31 12:00:00 NaN NaN"
      ]
     },
     "execution_count": 53,
     "metadata": {},
     "output_type": "execute_result"
    }
   ],
   "source": [
    "start_time_dataframe_row"
   ]
  },
  {
   "cell_type": "code",
   "execution_count": null,
   "metadata": {},
   "outputs": [],
   "source": []
  },
  {
   "cell_type": "code",
   "execution_count": 54,
   "metadata": {},
   "outputs": [],
   "source": [
    "out = start_time_dataframe_row.append( given_sensors_data_MINIMAL )"
   ]
  },
  {
   "cell_type": "code",
   "execution_count": 55,
   "metadata": {},
   "outputs": [
    {
     "data": {
      "text/html": [
       "<div>\n",
       "<style scoped>\n",
       "    .dataframe tbody tr th:only-of-type {\n",
       "        vertical-align: middle;\n",
       "    }\n",
       "\n",
       "    .dataframe tbody tr th {\n",
       "        vertical-align: top;\n",
       "    }\n",
       "\n",
       "    .dataframe thead th {\n",
       "        text-align: right;\n",
       "    }\n",
       "</style>\n",
       "<table border=\"1\" class=\"dataframe\">\n",
       "  <thead>\n",
       "    <tr style=\"text-align: right;\">\n",
       "      <th></th>\n",
       "      <th>p1</th>\n",
       "      <th>p2</th>\n",
       "    </tr>\n",
       "  </thead>\n",
       "  <tbody>\n",
       "    <tr>\n",
       "      <th>2018-12-31 12:00:00</th>\n",
       "      <td>NaN</td>\n",
       "      <td>NaN</td>\n",
       "    </tr>\n",
       "    <tr>\n",
       "      <th>2018-12-31 11:55:19</th>\n",
       "      <td>NaN</td>\n",
       "      <td>NaN</td>\n",
       "    </tr>\n",
       "    <tr>\n",
       "      <th>2018-12-31 12:00:55</th>\n",
       "      <td>4.23</td>\n",
       "      <td>2.70</td>\n",
       "    </tr>\n",
       "    <tr>\n",
       "      <th>2018-12-31 12:03:25</th>\n",
       "      <td>4.98</td>\n",
       "      <td>2.66</td>\n",
       "    </tr>\n",
       "    <tr>\n",
       "      <th>2018-12-31 12:05:55</th>\n",
       "      <td>7.73</td>\n",
       "      <td>2.85</td>\n",
       "    </tr>\n",
       "  </tbody>\n",
       "</table>\n",
       "</div>"
      ],
      "text/plain": [
       "                       p1    p2\n",
       "2018-12-31 12:00:00   NaN   NaN\n",
       "2018-12-31 11:55:19   NaN   NaN\n",
       "2018-12-31 12:00:55  4.23  2.70\n",
       "2018-12-31 12:03:25  4.98  2.66\n",
       "2018-12-31 12:05:55  7.73  2.85"
      ]
     },
     "execution_count": 55,
     "metadata": {},
     "output_type": "execute_result"
    }
   ],
   "source": [
    "out.head()"
   ]
  },
  {
   "cell_type": "code",
   "execution_count": null,
   "metadata": {},
   "outputs": [],
   "source": []
  },
  {
   "cell_type": "code",
   "execution_count": null,
   "metadata": {},
   "outputs": [],
   "source": []
  },
  {
   "cell_type": "markdown",
   "metadata": {},
   "source": [
    "#### now make a blank end time… "
   ]
  },
  {
   "cell_type": "code",
   "execution_count": 56,
   "metadata": {},
   "outputs": [],
   "source": [
    "end_time_dataframe_row = given_sensors_data_MINIMAL.iloc[:1]"
   ]
  },
  {
   "cell_type": "code",
   "execution_count": 57,
   "metadata": {},
   "outputs": [],
   "source": [
    "end_time_dataframe_row.index = pd.DatetimeIndex( [ end_time ] )"
   ]
  },
  {
   "cell_type": "code",
   "execution_count": 58,
   "metadata": {},
   "outputs": [
    {
     "data": {
      "text/html": [
       "<div>\n",
       "<style scoped>\n",
       "    .dataframe tbody tr th:only-of-type {\n",
       "        vertical-align: middle;\n",
       "    }\n",
       "\n",
       "    .dataframe tbody tr th {\n",
       "        vertical-align: top;\n",
       "    }\n",
       "\n",
       "    .dataframe thead th {\n",
       "        text-align: right;\n",
       "    }\n",
       "</style>\n",
       "<table border=\"1\" class=\"dataframe\">\n",
       "  <thead>\n",
       "    <tr style=\"text-align: right;\">\n",
       "      <th></th>\n",
       "      <th>p1</th>\n",
       "      <th>p2</th>\n",
       "    </tr>\n",
       "  </thead>\n",
       "  <tbody>\n",
       "    <tr>\n",
       "      <th>2019-01-01 12:00:00</th>\n",
       "      <td>NaN</td>\n",
       "      <td>NaN</td>\n",
       "    </tr>\n",
       "  </tbody>\n",
       "</table>\n",
       "</div>"
      ],
      "text/plain": [
       "                     p1  p2\n",
       "2019-01-01 12:00:00 NaN NaN"
      ]
     },
     "execution_count": 58,
     "metadata": {},
     "output_type": "execute_result"
    }
   ],
   "source": [
    "end_time_dataframe_row"
   ]
  },
  {
   "cell_type": "code",
   "execution_count": 59,
   "metadata": {},
   "outputs": [],
   "source": [
    "out = out.append( end_time_dataframe_row )"
   ]
  },
  {
   "cell_type": "code",
   "execution_count": 60,
   "metadata": {},
   "outputs": [
    {
     "data": {
      "text/html": [
       "<div>\n",
       "<style scoped>\n",
       "    .dataframe tbody tr th:only-of-type {\n",
       "        vertical-align: middle;\n",
       "    }\n",
       "\n",
       "    .dataframe tbody tr th {\n",
       "        vertical-align: top;\n",
       "    }\n",
       "\n",
       "    .dataframe thead th {\n",
       "        text-align: right;\n",
       "    }\n",
       "</style>\n",
       "<table border=\"1\" class=\"dataframe\">\n",
       "  <thead>\n",
       "    <tr style=\"text-align: right;\">\n",
       "      <th></th>\n",
       "      <th>p1</th>\n",
       "      <th>p2</th>\n",
       "    </tr>\n",
       "  </thead>\n",
       "  <tbody>\n",
       "    <tr>\n",
       "      <th>2018-12-31 12:00:00</th>\n",
       "      <td>NaN</td>\n",
       "      <td>NaN</td>\n",
       "    </tr>\n",
       "    <tr>\n",
       "      <th>2018-12-31 11:55:19</th>\n",
       "      <td>NaN</td>\n",
       "      <td>NaN</td>\n",
       "    </tr>\n",
       "    <tr>\n",
       "      <th>2018-12-31 12:00:55</th>\n",
       "      <td>4.23</td>\n",
       "      <td>2.70</td>\n",
       "    </tr>\n",
       "    <tr>\n",
       "      <th>2018-12-31 12:03:25</th>\n",
       "      <td>4.98</td>\n",
       "      <td>2.66</td>\n",
       "    </tr>\n",
       "    <tr>\n",
       "      <th>2018-12-31 12:05:55</th>\n",
       "      <td>7.73</td>\n",
       "      <td>2.85</td>\n",
       "    </tr>\n",
       "  </tbody>\n",
       "</table>\n",
       "</div>"
      ],
      "text/plain": [
       "                       p1    p2\n",
       "2018-12-31 12:00:00   NaN   NaN\n",
       "2018-12-31 11:55:19   NaN   NaN\n",
       "2018-12-31 12:00:55  4.23  2.70\n",
       "2018-12-31 12:03:25  4.98  2.66\n",
       "2018-12-31 12:05:55  7.73  2.85"
      ]
     },
     "execution_count": 60,
     "metadata": {},
     "output_type": "execute_result"
    }
   ],
   "source": [
    "out.head()"
   ]
  },
  {
   "cell_type": "code",
   "execution_count": 61,
   "metadata": {},
   "outputs": [
    {
     "data": {
      "text/html": [
       "<div>\n",
       "<style scoped>\n",
       "    .dataframe tbody tr th:only-of-type {\n",
       "        vertical-align: middle;\n",
       "    }\n",
       "\n",
       "    .dataframe tbody tr th {\n",
       "        vertical-align: top;\n",
       "    }\n",
       "\n",
       "    .dataframe thead th {\n",
       "        text-align: right;\n",
       "    }\n",
       "</style>\n",
       "<table border=\"1\" class=\"dataframe\">\n",
       "  <thead>\n",
       "    <tr style=\"text-align: right;\">\n",
       "      <th></th>\n",
       "      <th>p1</th>\n",
       "      <th>p2</th>\n",
       "    </tr>\n",
       "  </thead>\n",
       "  <tbody>\n",
       "    <tr>\n",
       "      <th>2019-01-01 23:48:07</th>\n",
       "      <td>1.28</td>\n",
       "      <td>0.56</td>\n",
       "    </tr>\n",
       "    <tr>\n",
       "      <th>2019-01-01 23:50:37</th>\n",
       "      <td>1.36</td>\n",
       "      <td>0.65</td>\n",
       "    </tr>\n",
       "    <tr>\n",
       "      <th>2019-01-01 23:55:37</th>\n",
       "      <td>1.46</td>\n",
       "      <td>0.50</td>\n",
       "    </tr>\n",
       "    <tr>\n",
       "      <th>2019-01-01 23:58:07</th>\n",
       "      <td>1.12</td>\n",
       "      <td>0.46</td>\n",
       "    </tr>\n",
       "    <tr>\n",
       "      <th>2019-01-01 12:00:00</th>\n",
       "      <td>NaN</td>\n",
       "      <td>NaN</td>\n",
       "    </tr>\n",
       "  </tbody>\n",
       "</table>\n",
       "</div>"
      ],
      "text/plain": [
       "                       p1    p2\n",
       "2019-01-01 23:48:07  1.28  0.56\n",
       "2019-01-01 23:50:37  1.36  0.65\n",
       "2019-01-01 23:55:37  1.46  0.50\n",
       "2019-01-01 23:58:07  1.12  0.46\n",
       "2019-01-01 12:00:00   NaN   NaN"
      ]
     },
     "execution_count": 61,
     "metadata": {},
     "output_type": "execute_result"
    }
   ],
   "source": [
    "out.tail()"
   ]
  },
  {
   "cell_type": "markdown",
   "metadata": {},
   "source": [
    "#### now try do the data interpolation, for each sensor, so there's the same time period in each sensor"
   ]
  },
  {
   "cell_type": "code",
   "execution_count": 62,
   "metadata": {
    "scrolled": true
   },
   "outputs": [
    {
     "data": {
      "text/plain": [
       "(127109, 6)"
      ]
     },
     "execution_count": 62,
     "metadata": {},
     "output_type": "execute_result"
    }
   ],
   "source": [
    "##### work on a smaller section of the data\n",
    "in_data__smlr = in_data[:]\n",
    "in_data__smlr.shape"
   ]
  },
  {
   "cell_type": "code",
   "execution_count": 63,
   "metadata": {
    "scrolled": true
   },
   "outputs": [
    {
     "data": {
      "text/plain": [
       "((314, 6), (178,))"
      ]
     },
     "execution_count": 63,
     "metadata": {},
     "output_type": "execute_result"
    }
   ],
   "source": [
    "# check how it looks for how many sensors \n",
    "first_five_mins_rows__SMLR = in_data__smlr[ '2019-01-01 12:00:00' : '2019-01-01 12:05:00' ]\n",
    "first_five_mins_rows__SMLR.shape, first_five_mins_rows__SMLR['sensor_id'].unique().shape"
   ]
  },
  {
   "cell_type": "code",
   "execution_count": 80,
   "metadata": {
    "scrolled": false
   },
   "outputs": [
    {
     "name": "stdout",
     "output_type": "stream",
     "text": [
      "\n",
      " --  working on sensor id 13012/205\n",
      "-- -- and that has (706, 6) entries \n",
      "\n",
      " --  working on sensor id 18112/205\n",
      "-- -- and that has (715, 6) entries \n",
      "\n",
      " --  working on sensor id 15067/205\n",
      "-- -- and that has (721, 6) entries \n",
      "\n",
      " --  working on sensor id 11765/205\n",
      "-- -- and that has (721, 6) entries \n",
      "\n",
      " --  working on sensor id 14811/205\n",
      "-- -- and that has (719, 6) entries \n",
      "\n",
      " -- | -- | -- |  and all that took 0.028882980346679688 seconds\n"
     ]
    }
   ],
   "source": [
    "# - for timing \n",
    "\n",
    "start_time = time.time()\n",
    "\n",
    "# - the rest\n",
    "\n",
    "# let's cheat a bit and output things in a list\n",
    "out_time_complete_arrays = []\n",
    "out_time_complete_arrays__WITHOUT_WHERE_CLEANING = []\n",
    "\n",
    "list_of_unique_sensor_ids = in_data__smlr['sensor_id'].unique()\n",
    "\n",
    "## print(\"- got \"+str( list_of_unique_sensor_ids.shape )+\" unique sensor ids \\n\")\n",
    "\n",
    "length_of_list_of_unique_sensor_ids = len( list_of_unique_sensor_ids )\n",
    "\n",
    "for curr_sensor_id in list_of_unique_sensor_ids[:5]:\n",
    "    \n",
    "    print(\"\\n --  working on sensor id \"+str( curr_sensor_id )+\"/\"+str(length_of_list_of_unique_sensor_ids) )\n",
    "    \n",
    "    # -- fetch all rows for a given sensor \n",
    "    curr_sensor_data = in_data__smlr[ in_data__smlr['sensor_id'] == curr_sensor_id  ]\n",
    "    \n",
    "    print(\"-- -- and that has \"+str( curr_sensor_data.shape )+\" entries \" )\n",
    "    \n",
    "    ### print(\"-- -- - the start date row looks like this \")\n",
    "    ### print( start_time_dataframe_row )\n",
    "    \n",
    "    # generate a minimised version of the data such that one only has the time index, p1 and p2 columns\n",
    "    curr_sensor_data__minimised =  curr_sensor_data[ ['p1', 'p2'] ]\n",
    "    \n",
    "    ### print( \"-- -- - curr_sensor_data__minimised.index = \"+str( curr_sensor_data__minimised.index ) )\n",
    "    ### print( \"-- -- - curr_sensor_data__minimised.columns = \"+str( curr_sensor_data__minimised.columns ) )    \n",
    "    \n",
    "    ### print(\"-- -- - curr_sensor_data__minimised.shape = \"+str( curr_sensor_data__minimised.shape ) )\n",
    "    \n",
    "    ### print(  curr_sensor_data__minimised.head()  )\n",
    "    \n",
    "    # -- now add beginning and end time data frames \n",
    "    \n",
    "    ### print( \"-- -- - start_time_dataframe_row.shape = \"+str( start_time_dataframe_row.shape ) )\n",
    "    ### print( \"-- -- - start_time_dataframe_row.columns = \"+str( start_time_dataframe_row.columns ) )\n",
    "    \n",
    "    curr_sensor_data_min_w_relv_start_n_end_times = start_time_dataframe_row.append( curr_sensor_data__minimised )\n",
    "    \n",
    "    # then add the end time\n",
    "    \n",
    "    curr_sensor_data_min_w_relv_start_n_end_times = curr_sensor_data_min_w_relv_start_n_end_times.append( end_time_dataframe_row )\n",
    "    \n",
    "    ## print(\"-- -- - curr_sensor_data_min_w_relv_start_n_end_times.shape = \"+str(curr_sensor_data_min_w_relv_start_n_end_times.shape) )\n",
    "    \n",
    "    # -- NOW ASSEMBLE THE DATA! \n",
    "    \n",
    "    ## print( curr_sensor_data_min_w_relv_start_n_end_times.head() )\n",
    "    ## print( curr_sensor_data_min_w_relv_start_n_end_times.tail() )\n",
    "    \n",
    "    #\n",
    "    \n",
    "    ## print(\"-- -- - curr_sensor_data_min_w_relv_start_n_end_times.index = \"+str( curr_sensor_data_min_w_relv_start_n_end_times.index ) )\n",
    "    \n",
    "    # -- now resample \n",
    "    \n",
    "    array_resampled = curr_sensor_data_min_w_relv_start_n_end_times.resample(\"5Min\").mean()\n",
    "    \n",
    "    ### print(\"-- -- - array_resampled : \"+str( array_resampled ) )\n",
    "    \n",
    "    # -- fill the NaNs … \n",
    "    \n",
    "    # SAVE A COPY WIHTOUT WHERE CLEANING \n",
    "    out_time_complete_arrays__WITHOUT_WHERE_CLEANING.append( array_resampled )\n",
    "    \n",
    "    array_resampled['p1'] = array_resampled['p1'].where( array_resampled['p1'] == np.NaN, 0 )\n",
    "    ### array_resampled['p2'] = array_resampled.where( array_resampled['p2'] == np.NaN, 0 )    \n",
    "    \n",
    "    # -- export\n",
    "    \n",
    "    out_time_complete_arrays.append( array_resampled )\n",
    "    \n",
    "    \n",
    "print(\"\\n -- | -- | -- |  and all that took \"+str( time.time() - start_time )+\" seconds\" )"
   ]
  },
  {
   "cell_type": "code",
   "execution_count": null,
   "metadata": {},
   "outputs": [],
   "source": []
  },
  {
   "cell_type": "code",
   "execution_count": 81,
   "metadata": {},
   "outputs": [
    {
     "data": {
      "text/html": [
       "<div>\n",
       "<style scoped>\n",
       "    .dataframe tbody tr th:only-of-type {\n",
       "        vertical-align: middle;\n",
       "    }\n",
       "\n",
       "    .dataframe tbody tr th {\n",
       "        vertical-align: top;\n",
       "    }\n",
       "\n",
       "    .dataframe thead th {\n",
       "        text-align: right;\n",
       "    }\n",
       "</style>\n",
       "<table border=\"1\" class=\"dataframe\">\n",
       "  <thead>\n",
       "    <tr style=\"text-align: right;\">\n",
       "      <th></th>\n",
       "      <th>p1</th>\n",
       "      <th>p2</th>\n",
       "    </tr>\n",
       "  </thead>\n",
       "  <tbody>\n",
       "    <tr>\n",
       "      <th>2018-12-31 11:55:00</th>\n",
       "      <td>NaN</td>\n",
       "      <td>NaN</td>\n",
       "    </tr>\n",
       "    <tr>\n",
       "      <th>2018-12-31 12:00:00</th>\n",
       "      <td>4.605000</td>\n",
       "      <td>2.680000</td>\n",
       "    </tr>\n",
       "    <tr>\n",
       "      <th>2018-12-31 12:05:00</th>\n",
       "      <td>8.245000</td>\n",
       "      <td>3.315000</td>\n",
       "    </tr>\n",
       "    <tr>\n",
       "      <th>2018-12-31 12:10:00</th>\n",
       "      <td>6.850000</td>\n",
       "      <td>2.880000</td>\n",
       "    </tr>\n",
       "    <tr>\n",
       "      <th>2018-12-31 12:15:00</th>\n",
       "      <td>5.870000</td>\n",
       "      <td>2.820000</td>\n",
       "    </tr>\n",
       "    <tr>\n",
       "      <th>2018-12-31 12:20:00</th>\n",
       "      <td>7.970000</td>\n",
       "      <td>2.875000</td>\n",
       "    </tr>\n",
       "    <tr>\n",
       "      <th>2018-12-31 12:25:00</th>\n",
       "      <td>4.752500</td>\n",
       "      <td>2.622500</td>\n",
       "    </tr>\n",
       "    <tr>\n",
       "      <th>2018-12-31 12:30:00</th>\n",
       "      <td>3.600000</td>\n",
       "      <td>2.120000</td>\n",
       "    </tr>\n",
       "    <tr>\n",
       "      <th>2018-12-31 12:35:00</th>\n",
       "      <td>4.060000</td>\n",
       "      <td>2.160000</td>\n",
       "    </tr>\n",
       "    <tr>\n",
       "      <th>2018-12-31 12:40:00</th>\n",
       "      <td>4.966667</td>\n",
       "      <td>2.546667</td>\n",
       "    </tr>\n",
       "    <tr>\n",
       "      <th>2018-12-31 12:45:00</th>\n",
       "      <td>NaN</td>\n",
       "      <td>NaN</td>\n",
       "    </tr>\n",
       "    <tr>\n",
       "      <th>2018-12-31 12:50:00</th>\n",
       "      <td>5.176667</td>\n",
       "      <td>2.626667</td>\n",
       "    </tr>\n",
       "    <tr>\n",
       "      <th>2018-12-31 12:55:00</th>\n",
       "      <td>5.683333</td>\n",
       "      <td>3.093333</td>\n",
       "    </tr>\n",
       "    <tr>\n",
       "      <th>2018-12-31 13:00:00</th>\n",
       "      <td>NaN</td>\n",
       "      <td>NaN</td>\n",
       "    </tr>\n",
       "    <tr>\n",
       "      <th>2018-12-31 13:05:00</th>\n",
       "      <td>5.850000</td>\n",
       "      <td>3.000000</td>\n",
       "    </tr>\n",
       "    <tr>\n",
       "      <th>2018-12-31 13:10:00</th>\n",
       "      <td>7.235000</td>\n",
       "      <td>3.255000</td>\n",
       "    </tr>\n",
       "    <tr>\n",
       "      <th>2018-12-31 13:15:00</th>\n",
       "      <td>7.850000</td>\n",
       "      <td>3.650000</td>\n",
       "    </tr>\n",
       "    <tr>\n",
       "      <th>2018-12-31 13:20:00</th>\n",
       "      <td>9.450000</td>\n",
       "      <td>3.390000</td>\n",
       "    </tr>\n",
       "    <tr>\n",
       "      <th>2018-12-31 13:25:00</th>\n",
       "      <td>8.510000</td>\n",
       "      <td>3.420000</td>\n",
       "    </tr>\n",
       "    <tr>\n",
       "      <th>2018-12-31 13:30:00</th>\n",
       "      <td>8.770000</td>\n",
       "      <td>3.300000</td>\n",
       "    </tr>\n",
       "    <tr>\n",
       "      <th>2018-12-31 13:35:00</th>\n",
       "      <td>8.655000</td>\n",
       "      <td>3.090000</td>\n",
       "    </tr>\n",
       "    <tr>\n",
       "      <th>2018-12-31 13:40:00</th>\n",
       "      <td>11.310000</td>\n",
       "      <td>3.210000</td>\n",
       "    </tr>\n",
       "    <tr>\n",
       "      <th>2018-12-31 13:45:00</th>\n",
       "      <td>9.400000</td>\n",
       "      <td>2.780000</td>\n",
       "    </tr>\n",
       "    <tr>\n",
       "      <th>2018-12-31 13:50:00</th>\n",
       "      <td>10.250000</td>\n",
       "      <td>3.160000</td>\n",
       "    </tr>\n",
       "    <tr>\n",
       "      <th>2018-12-31 13:55:00</th>\n",
       "      <td>10.740000</td>\n",
       "      <td>2.960000</td>\n",
       "    </tr>\n",
       "    <tr>\n",
       "      <th>2018-12-31 14:00:00</th>\n",
       "      <td>8.380000</td>\n",
       "      <td>3.080000</td>\n",
       "    </tr>\n",
       "    <tr>\n",
       "      <th>2018-12-31 14:05:00</th>\n",
       "      <td>7.845000</td>\n",
       "      <td>2.800000</td>\n",
       "    </tr>\n",
       "    <tr>\n",
       "      <th>2018-12-31 14:10:00</th>\n",
       "      <td>9.765000</td>\n",
       "      <td>3.150000</td>\n",
       "    </tr>\n",
       "    <tr>\n",
       "      <th>2018-12-31 14:15:00</th>\n",
       "      <td>14.460000</td>\n",
       "      <td>6.350000</td>\n",
       "    </tr>\n",
       "    <tr>\n",
       "      <th>2018-12-31 14:20:00</th>\n",
       "      <td>14.095000</td>\n",
       "      <td>5.775000</td>\n",
       "    </tr>\n",
       "    <tr>\n",
       "      <th>...</th>\n",
       "      <td>...</td>\n",
       "      <td>...</td>\n",
       "    </tr>\n",
       "    <tr>\n",
       "      <th>2019-01-01 21:30:00</th>\n",
       "      <td>1.606667</td>\n",
       "      <td>0.570000</td>\n",
       "    </tr>\n",
       "    <tr>\n",
       "      <th>2019-01-01 21:35:00</th>\n",
       "      <td>2.100000</td>\n",
       "      <td>0.400000</td>\n",
       "    </tr>\n",
       "    <tr>\n",
       "      <th>2019-01-01 21:40:00</th>\n",
       "      <td>2.330000</td>\n",
       "      <td>0.700000</td>\n",
       "    </tr>\n",
       "    <tr>\n",
       "      <th>2019-01-01 21:45:00</th>\n",
       "      <td>2.580000</td>\n",
       "      <td>0.775000</td>\n",
       "    </tr>\n",
       "    <tr>\n",
       "      <th>2019-01-01 21:50:00</th>\n",
       "      <td>2.220000</td>\n",
       "      <td>1.005000</td>\n",
       "    </tr>\n",
       "    <tr>\n",
       "      <th>2019-01-01 21:55:00</th>\n",
       "      <td>2.570000</td>\n",
       "      <td>1.000000</td>\n",
       "    </tr>\n",
       "    <tr>\n",
       "      <th>2019-01-01 22:00:00</th>\n",
       "      <td>1.023333</td>\n",
       "      <td>0.550000</td>\n",
       "    </tr>\n",
       "    <tr>\n",
       "      <th>2019-01-01 22:05:00</th>\n",
       "      <td>4.170000</td>\n",
       "      <td>0.600000</td>\n",
       "    </tr>\n",
       "    <tr>\n",
       "      <th>2019-01-01 22:10:00</th>\n",
       "      <td>1.500000</td>\n",
       "      <td>0.550000</td>\n",
       "    </tr>\n",
       "    <tr>\n",
       "      <th>2019-01-01 22:15:00</th>\n",
       "      <td>2.510000</td>\n",
       "      <td>0.535000</td>\n",
       "    </tr>\n",
       "    <tr>\n",
       "      <th>2019-01-01 22:20:00</th>\n",
       "      <td>3.055000</td>\n",
       "      <td>0.580000</td>\n",
       "    </tr>\n",
       "    <tr>\n",
       "      <th>2019-01-01 22:25:00</th>\n",
       "      <td>0.725000</td>\n",
       "      <td>0.480000</td>\n",
       "    </tr>\n",
       "    <tr>\n",
       "      <th>2019-01-01 22:30:00</th>\n",
       "      <td>1.530000</td>\n",
       "      <td>0.400000</td>\n",
       "    </tr>\n",
       "    <tr>\n",
       "      <th>2019-01-01 22:35:00</th>\n",
       "      <td>1.300000</td>\n",
       "      <td>0.550000</td>\n",
       "    </tr>\n",
       "    <tr>\n",
       "      <th>2019-01-01 22:40:00</th>\n",
       "      <td>1.290000</td>\n",
       "      <td>0.400000</td>\n",
       "    </tr>\n",
       "    <tr>\n",
       "      <th>2019-01-01 22:45:00</th>\n",
       "      <td>1.683333</td>\n",
       "      <td>0.516667</td>\n",
       "    </tr>\n",
       "    <tr>\n",
       "      <th>2019-01-01 22:50:00</th>\n",
       "      <td>NaN</td>\n",
       "      <td>NaN</td>\n",
       "    </tr>\n",
       "    <tr>\n",
       "      <th>2019-01-01 22:55:00</th>\n",
       "      <td>0.800000</td>\n",
       "      <td>0.500000</td>\n",
       "    </tr>\n",
       "    <tr>\n",
       "      <th>2019-01-01 23:00:00</th>\n",
       "      <td>1.770000</td>\n",
       "      <td>1.370000</td>\n",
       "    </tr>\n",
       "    <tr>\n",
       "      <th>2019-01-01 23:05:00</th>\n",
       "      <td>2.360000</td>\n",
       "      <td>0.835000</td>\n",
       "    </tr>\n",
       "    <tr>\n",
       "      <th>2019-01-01 23:10:00</th>\n",
       "      <td>2.070000</td>\n",
       "      <td>0.550000</td>\n",
       "    </tr>\n",
       "    <tr>\n",
       "      <th>2019-01-01 23:15:00</th>\n",
       "      <td>2.375000</td>\n",
       "      <td>0.575000</td>\n",
       "    </tr>\n",
       "    <tr>\n",
       "      <th>2019-01-01 23:20:00</th>\n",
       "      <td>1.920000</td>\n",
       "      <td>0.585000</td>\n",
       "    </tr>\n",
       "    <tr>\n",
       "      <th>2019-01-01 23:25:00</th>\n",
       "      <td>1.450000</td>\n",
       "      <td>0.460000</td>\n",
       "    </tr>\n",
       "    <tr>\n",
       "      <th>2019-01-01 23:30:00</th>\n",
       "      <td>2.030000</td>\n",
       "      <td>0.430000</td>\n",
       "    </tr>\n",
       "    <tr>\n",
       "      <th>2019-01-01 23:35:00</th>\n",
       "      <td>NaN</td>\n",
       "      <td>NaN</td>\n",
       "    </tr>\n",
       "    <tr>\n",
       "      <th>2019-01-01 23:40:00</th>\n",
       "      <td>2.200000</td>\n",
       "      <td>0.470000</td>\n",
       "    </tr>\n",
       "    <tr>\n",
       "      <th>2019-01-01 23:45:00</th>\n",
       "      <td>1.370000</td>\n",
       "      <td>0.505000</td>\n",
       "    </tr>\n",
       "    <tr>\n",
       "      <th>2019-01-01 23:50:00</th>\n",
       "      <td>1.360000</td>\n",
       "      <td>0.650000</td>\n",
       "    </tr>\n",
       "    <tr>\n",
       "      <th>2019-01-01 23:55:00</th>\n",
       "      <td>1.290000</td>\n",
       "      <td>0.480000</td>\n",
       "    </tr>\n",
       "  </tbody>\n",
       "</table>\n",
       "<p>433 rows × 2 columns</p>\n",
       "</div>"
      ],
      "text/plain": [
       "                            p1        p2\n",
       "2018-12-31 11:55:00        NaN       NaN\n",
       "2018-12-31 12:00:00   4.605000  2.680000\n",
       "2018-12-31 12:05:00   8.245000  3.315000\n",
       "2018-12-31 12:10:00   6.850000  2.880000\n",
       "2018-12-31 12:15:00   5.870000  2.820000\n",
       "2018-12-31 12:20:00   7.970000  2.875000\n",
       "2018-12-31 12:25:00   4.752500  2.622500\n",
       "2018-12-31 12:30:00   3.600000  2.120000\n",
       "2018-12-31 12:35:00   4.060000  2.160000\n",
       "2018-12-31 12:40:00   4.966667  2.546667\n",
       "2018-12-31 12:45:00        NaN       NaN\n",
       "2018-12-31 12:50:00   5.176667  2.626667\n",
       "2018-12-31 12:55:00   5.683333  3.093333\n",
       "2018-12-31 13:00:00        NaN       NaN\n",
       "2018-12-31 13:05:00   5.850000  3.000000\n",
       "2018-12-31 13:10:00   7.235000  3.255000\n",
       "2018-12-31 13:15:00   7.850000  3.650000\n",
       "2018-12-31 13:20:00   9.450000  3.390000\n",
       "2018-12-31 13:25:00   8.510000  3.420000\n",
       "2018-12-31 13:30:00   8.770000  3.300000\n",
       "2018-12-31 13:35:00   8.655000  3.090000\n",
       "2018-12-31 13:40:00  11.310000  3.210000\n",
       "2018-12-31 13:45:00   9.400000  2.780000\n",
       "2018-12-31 13:50:00  10.250000  3.160000\n",
       "2018-12-31 13:55:00  10.740000  2.960000\n",
       "2018-12-31 14:00:00   8.380000  3.080000\n",
       "2018-12-31 14:05:00   7.845000  2.800000\n",
       "2018-12-31 14:10:00   9.765000  3.150000\n",
       "2018-12-31 14:15:00  14.460000  6.350000\n",
       "2018-12-31 14:20:00  14.095000  5.775000\n",
       "...                        ...       ...\n",
       "2019-01-01 21:30:00   1.606667  0.570000\n",
       "2019-01-01 21:35:00   2.100000  0.400000\n",
       "2019-01-01 21:40:00   2.330000  0.700000\n",
       "2019-01-01 21:45:00   2.580000  0.775000\n",
       "2019-01-01 21:50:00   2.220000  1.005000\n",
       "2019-01-01 21:55:00   2.570000  1.000000\n",
       "2019-01-01 22:00:00   1.023333  0.550000\n",
       "2019-01-01 22:05:00   4.170000  0.600000\n",
       "2019-01-01 22:10:00   1.500000  0.550000\n",
       "2019-01-01 22:15:00   2.510000  0.535000\n",
       "2019-01-01 22:20:00   3.055000  0.580000\n",
       "2019-01-01 22:25:00   0.725000  0.480000\n",
       "2019-01-01 22:30:00   1.530000  0.400000\n",
       "2019-01-01 22:35:00   1.300000  0.550000\n",
       "2019-01-01 22:40:00   1.290000  0.400000\n",
       "2019-01-01 22:45:00   1.683333  0.516667\n",
       "2019-01-01 22:50:00        NaN       NaN\n",
       "2019-01-01 22:55:00   0.800000  0.500000\n",
       "2019-01-01 23:00:00   1.770000  1.370000\n",
       "2019-01-01 23:05:00   2.360000  0.835000\n",
       "2019-01-01 23:10:00   2.070000  0.550000\n",
       "2019-01-01 23:15:00   2.375000  0.575000\n",
       "2019-01-01 23:20:00   1.920000  0.585000\n",
       "2019-01-01 23:25:00   1.450000  0.460000\n",
       "2019-01-01 23:30:00   2.030000  0.430000\n",
       "2019-01-01 23:35:00        NaN       NaN\n",
       "2019-01-01 23:40:00   2.200000  0.470000\n",
       "2019-01-01 23:45:00   1.370000  0.505000\n",
       "2019-01-01 23:50:00   1.360000  0.650000\n",
       "2019-01-01 23:55:00   1.290000  0.480000\n",
       "\n",
       "[433 rows x 2 columns]"
      ]
     },
     "execution_count": 81,
     "metadata": {},
     "output_type": "execute_result"
    }
   ],
   "source": [
    "out_time_complete_arrays[0]"
   ]
  },
  {
   "cell_type": "code",
   "execution_count": null,
   "metadata": {},
   "outputs": [],
   "source": [
    "array_resampled"
   ]
  },
  {
   "cell_type": "code",
   "execution_count": null,
   "metadata": {},
   "outputs": [],
   "source": []
  },
  {
   "cell_type": "code",
   "execution_count": null,
   "metadata": {},
   "outputs": [],
   "source": []
  }
 ],
 "metadata": {
  "kernelspec": {
   "display_name": "Python 3",
   "language": "python",
   "name": "python3"
  },
  "language_info": {
   "codemirror_mode": {
    "name": "ipython",
    "version": 3
   },
   "file_extension": ".py",
   "mimetype": "text/x-python",
   "name": "python",
   "nbconvert_exporter": "python",
   "pygments_lexer": "ipython3",
   "version": "3.6.6"
  }
 },
 "nbformat": 4,
 "nbformat_minor": 2
}
