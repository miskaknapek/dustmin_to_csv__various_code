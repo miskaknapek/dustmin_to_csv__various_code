{
 "cells": [
  {
   "cell_type": "code",
   "execution_count": 1,
   "metadata": {},
   "outputs": [],
   "source": [
    "import pandas as pd\n",
    "import numpy as np\n",
    "import time"
   ]
  },
  {
   "cell_type": "code",
   "execution_count": 2,
   "metadata": {},
   "outputs": [],
   "source": [
    "# parameters\n",
    "\n",
    "# start_time = \"2018-12-31 21:58:42\"\n",
    "end_time = \"2019-01-01 11:58:42\"\n",
    "# generate this please\n",
    "start_time = \"?????\"\n",
    "\n",
    "time_frequency_for_periods__for_basic_data = \"5T\"\n",
    "num_of_time_periods___for_basic_data = 24*20 # 24 hrs * 12 x 5 mins in each hour\n",
    "\n",
    "# when generating time periods \n",
    "sampling_frequency = \"3T\"\n",
    "\n",
    "\n",
    "\n",
    "# --- data urls \n",
    "\n",
    "curr_url = \"????\"\n",
    "nordic_midnight_24_hrs_data__url = \"/Users/miska/Documents/open_something/luftdaten/luftdaten_code/luftdaten__make_tabular_data__from_db_data/ld_NYE_midnight_24hrs_nordics_all_data_01.csv\"\n",
    "\n",
    "# set the current data source \n",
    "curr_url =nordic_midnight_24_hrs_data__url"
   ]
  },
  {
   "cell_type": "code",
   "execution_count": 3,
   "metadata": {},
   "outputs": [
    {
     "data": {
      "text/plain": [
       "(127109, 7)"
      ]
     },
     "execution_count": 3,
     "metadata": {},
     "output_type": "execute_result"
    }
   ],
   "source": [
    "# try convert the timestamp in the data, to epoch\n",
    "\n",
    "in_data = pd.read_csv( curr_url )\n",
    "in_data.shape"
   ]
  },
  {
   "cell_type": "code",
   "execution_count": 4,
   "metadata": {},
   "outputs": [
    {
     "data": {
      "text/plain": [
       "sensor_id         int64\n",
       "sensor_namee     object\n",
       "lat             float64\n",
       "lon             float64\n",
       "timestamp        object\n",
       "p1              float64\n",
       "p2              float64\n",
       "dtype: object"
      ]
     },
     "execution_count": 4,
     "metadata": {},
     "output_type": "execute_result"
    }
   ],
   "source": [
    "in_data.dtypes"
   ]
  },
  {
   "cell_type": "code",
   "execution_count": 5,
   "metadata": {},
   "outputs": [],
   "source": [
    "in_data['timestamp'] = pd.to_datetime( in_data['timestamp'] )"
   ]
  },
  {
   "cell_type": "code",
   "execution_count": 6,
   "metadata": {},
   "outputs": [
    {
     "data": {
      "text/html": [
       "<div>\n",
       "<style scoped>\n",
       "    .dataframe tbody tr th:only-of-type {\n",
       "        vertical-align: middle;\n",
       "    }\n",
       "\n",
       "    .dataframe tbody tr th {\n",
       "        vertical-align: top;\n",
       "    }\n",
       "\n",
       "    .dataframe thead th {\n",
       "        text-align: right;\n",
       "    }\n",
       "</style>\n",
       "<table border=\"1\" class=\"dataframe\">\n",
       "  <thead>\n",
       "    <tr style=\"text-align: right;\">\n",
       "      <th></th>\n",
       "      <th>sensor_id</th>\n",
       "      <th>sensor_namee</th>\n",
       "      <th>lat</th>\n",
       "      <th>lon</th>\n",
       "      <th>timestamp</th>\n",
       "      <th>p1</th>\n",
       "      <th>p2</th>\n",
       "    </tr>\n",
       "  </thead>\n",
       "  <tbody>\n",
       "    <tr>\n",
       "      <th>0</th>\n",
       "      <td>7273</td>\n",
       "      <td>SDS011</td>\n",
       "      <td>60.002</td>\n",
       "      <td>17.846</td>\n",
       "      <td>2018-12-31 11:57:22</td>\n",
       "      <td>3.43</td>\n",
       "      <td>1.56</td>\n",
       "    </tr>\n",
       "    <tr>\n",
       "      <th>1</th>\n",
       "      <td>7275</td>\n",
       "      <td>SDS011</td>\n",
       "      <td>57.720</td>\n",
       "      <td>11.888</td>\n",
       "      <td>2018-12-31 11:58:44</td>\n",
       "      <td>482.77</td>\n",
       "      <td>33.82</td>\n",
       "    </tr>\n",
       "    <tr>\n",
       "      <th>2</th>\n",
       "      <td>7277</td>\n",
       "      <td>SDS011</td>\n",
       "      <td>59.266</td>\n",
       "      <td>15.230</td>\n",
       "      <td>2018-12-31 11:58:47</td>\n",
       "      <td>5.48</td>\n",
       "      <td>2.47</td>\n",
       "    </tr>\n",
       "    <tr>\n",
       "      <th>3</th>\n",
       "      <td>7406</td>\n",
       "      <td>SDS011</td>\n",
       "      <td>56.964</td>\n",
       "      <td>24.128</td>\n",
       "      <td>2018-12-31 11:56:41</td>\n",
       "      <td>11.05</td>\n",
       "      <td>6.62</td>\n",
       "    </tr>\n",
       "    <tr>\n",
       "      <th>4</th>\n",
       "      <td>7428</td>\n",
       "      <td>SDS011</td>\n",
       "      <td>59.868</td>\n",
       "      <td>17.624</td>\n",
       "      <td>2018-12-31 11:57:42</td>\n",
       "      <td>1.78</td>\n",
       "      <td>1.02</td>\n",
       "    </tr>\n",
       "  </tbody>\n",
       "</table>\n",
       "</div>"
      ],
      "text/plain": [
       "   sensor_id sensor_namee     lat     lon           timestamp      p1     p2\n",
       "0       7273       SDS011  60.002  17.846 2018-12-31 11:57:22    3.43   1.56\n",
       "1       7275       SDS011  57.720  11.888 2018-12-31 11:58:44  482.77  33.82\n",
       "2       7277       SDS011  59.266  15.230 2018-12-31 11:58:47    5.48   2.47\n",
       "3       7406       SDS011  56.964  24.128 2018-12-31 11:56:41   11.05   6.62\n",
       "4       7428       SDS011  59.868  17.624 2018-12-31 11:57:42    1.78   1.02"
      ]
     },
     "execution_count": 6,
     "metadata": {},
     "output_type": "execute_result"
    }
   ],
   "source": [
    "in_data.head()"
   ]
  },
  {
   "cell_type": "code",
   "execution_count": 7,
   "metadata": {},
   "outputs": [
    {
     "data": {
      "text/html": [
       "<div>\n",
       "<style scoped>\n",
       "    .dataframe tbody tr th:only-of-type {\n",
       "        vertical-align: middle;\n",
       "    }\n",
       "\n",
       "    .dataframe tbody tr th {\n",
       "        vertical-align: top;\n",
       "    }\n",
       "\n",
       "    .dataframe thead th {\n",
       "        text-align: right;\n",
       "    }\n",
       "</style>\n",
       "<table border=\"1\" class=\"dataframe\">\n",
       "  <thead>\n",
       "    <tr style=\"text-align: right;\">\n",
       "      <th></th>\n",
       "      <th>sensor_id</th>\n",
       "      <th>sensor_namee</th>\n",
       "      <th>lat</th>\n",
       "      <th>lon</th>\n",
       "      <th>timestamp</th>\n",
       "      <th>p1</th>\n",
       "      <th>p2</th>\n",
       "    </tr>\n",
       "  </thead>\n",
       "  <tbody>\n",
       "    <tr>\n",
       "      <th>127104</th>\n",
       "      <td>16723</td>\n",
       "      <td>SDS011</td>\n",
       "      <td>57.736</td>\n",
       "      <td>11.894</td>\n",
       "      <td>2019-01-01 11:58:57</td>\n",
       "      <td>16.47</td>\n",
       "      <td>3.40</td>\n",
       "    </tr>\n",
       "    <tr>\n",
       "      <th>127105</th>\n",
       "      <td>16815</td>\n",
       "      <td>SDS011</td>\n",
       "      <td>59.462</td>\n",
       "      <td>18.040</td>\n",
       "      <td>2019-01-01 11:59:36</td>\n",
       "      <td>2.67</td>\n",
       "      <td>1.97</td>\n",
       "    </tr>\n",
       "    <tr>\n",
       "      <th>127106</th>\n",
       "      <td>17235</td>\n",
       "      <td>SDS011</td>\n",
       "      <td>59.272</td>\n",
       "      <td>17.780</td>\n",
       "      <td>2019-01-01 11:59:41</td>\n",
       "      <td>4.69</td>\n",
       "      <td>1.82</td>\n",
       "    </tr>\n",
       "    <tr>\n",
       "      <th>127107</th>\n",
       "      <td>10588</td>\n",
       "      <td>SDS011</td>\n",
       "      <td>55.676</td>\n",
       "      <td>13.346</td>\n",
       "      <td>2019-01-01 11:57:12</td>\n",
       "      <td>14.08</td>\n",
       "      <td>3.68</td>\n",
       "    </tr>\n",
       "    <tr>\n",
       "      <th>127108</th>\n",
       "      <td>10647</td>\n",
       "      <td>SDS011</td>\n",
       "      <td>55.608</td>\n",
       "      <td>13.036</td>\n",
       "      <td>2019-01-01 11:58:42</td>\n",
       "      <td>23.42</td>\n",
       "      <td>4.75</td>\n",
       "    </tr>\n",
       "  </tbody>\n",
       "</table>\n",
       "</div>"
      ],
      "text/plain": [
       "        sensor_id sensor_namee     lat     lon           timestamp     p1  \\\n",
       "127104      16723       SDS011  57.736  11.894 2019-01-01 11:58:57  16.47   \n",
       "127105      16815       SDS011  59.462  18.040 2019-01-01 11:59:36   2.67   \n",
       "127106      17235       SDS011  59.272  17.780 2019-01-01 11:59:41   4.69   \n",
       "127107      10588       SDS011  55.676  13.346 2019-01-01 11:57:12  14.08   \n",
       "127108      10647       SDS011  55.608  13.036 2019-01-01 11:58:42  23.42   \n",
       "\n",
       "          p2  \n",
       "127104  3.40  \n",
       "127105  1.97  \n",
       "127106  1.82  \n",
       "127107  3.68  \n",
       "127108  4.75  "
      ]
     },
     "execution_count": 7,
     "metadata": {},
     "output_type": "execute_result"
    }
   ],
   "source": [
    "in_data.tail()"
   ]
  },
  {
   "cell_type": "code",
   "execution_count": 8,
   "metadata": {},
   "outputs": [],
   "source": [
    "in_data2 = in_data.copy()"
   ]
  },
  {
   "cell_type": "code",
   "execution_count": 9,
   "metadata": {},
   "outputs": [],
   "source": [
    "in_data2['timestamp'] = in_data['timestamp'].astype( 'int64' )"
   ]
  },
  {
   "cell_type": "code",
   "execution_count": 10,
   "metadata": {},
   "outputs": [
    {
     "data": {
      "text/html": [
       "<div>\n",
       "<style scoped>\n",
       "    .dataframe tbody tr th:only-of-type {\n",
       "        vertical-align: middle;\n",
       "    }\n",
       "\n",
       "    .dataframe tbody tr th {\n",
       "        vertical-align: top;\n",
       "    }\n",
       "\n",
       "    .dataframe thead th {\n",
       "        text-align: right;\n",
       "    }\n",
       "</style>\n",
       "<table border=\"1\" class=\"dataframe\">\n",
       "  <thead>\n",
       "    <tr style=\"text-align: right;\">\n",
       "      <th></th>\n",
       "      <th>sensor_id</th>\n",
       "      <th>sensor_namee</th>\n",
       "      <th>lat</th>\n",
       "      <th>lon</th>\n",
       "      <th>timestamp</th>\n",
       "      <th>p1</th>\n",
       "      <th>p2</th>\n",
       "    </tr>\n",
       "  </thead>\n",
       "  <tbody>\n",
       "    <tr>\n",
       "      <th>0</th>\n",
       "      <td>7273</td>\n",
       "      <td>SDS011</td>\n",
       "      <td>60.002</td>\n",
       "      <td>17.846</td>\n",
       "      <td>1546257442000000000</td>\n",
       "      <td>3.43</td>\n",
       "      <td>1.56</td>\n",
       "    </tr>\n",
       "    <tr>\n",
       "      <th>1</th>\n",
       "      <td>7275</td>\n",
       "      <td>SDS011</td>\n",
       "      <td>57.720</td>\n",
       "      <td>11.888</td>\n",
       "      <td>1546257524000000000</td>\n",
       "      <td>482.77</td>\n",
       "      <td>33.82</td>\n",
       "    </tr>\n",
       "    <tr>\n",
       "      <th>2</th>\n",
       "      <td>7277</td>\n",
       "      <td>SDS011</td>\n",
       "      <td>59.266</td>\n",
       "      <td>15.230</td>\n",
       "      <td>1546257527000000000</td>\n",
       "      <td>5.48</td>\n",
       "      <td>2.47</td>\n",
       "    </tr>\n",
       "    <tr>\n",
       "      <th>3</th>\n",
       "      <td>7406</td>\n",
       "      <td>SDS011</td>\n",
       "      <td>56.964</td>\n",
       "      <td>24.128</td>\n",
       "      <td>1546257401000000000</td>\n",
       "      <td>11.05</td>\n",
       "      <td>6.62</td>\n",
       "    </tr>\n",
       "    <tr>\n",
       "      <th>4</th>\n",
       "      <td>7428</td>\n",
       "      <td>SDS011</td>\n",
       "      <td>59.868</td>\n",
       "      <td>17.624</td>\n",
       "      <td>1546257462000000000</td>\n",
       "      <td>1.78</td>\n",
       "      <td>1.02</td>\n",
       "    </tr>\n",
       "  </tbody>\n",
       "</table>\n",
       "</div>"
      ],
      "text/plain": [
       "   sensor_id sensor_namee     lat     lon            timestamp      p1     p2\n",
       "0       7273       SDS011  60.002  17.846  1546257442000000000    3.43   1.56\n",
       "1       7275       SDS011  57.720  11.888  1546257524000000000  482.77  33.82\n",
       "2       7277       SDS011  59.266  15.230  1546257527000000000    5.48   2.47\n",
       "3       7406       SDS011  56.964  24.128  1546257401000000000   11.05   6.62\n",
       "4       7428       SDS011  59.868  17.624  1546257462000000000    1.78   1.02"
      ]
     },
     "execution_count": 10,
     "metadata": {},
     "output_type": "execute_result"
    }
   ],
   "source": [
    "in_data2.head()"
   ]
  },
  {
   "cell_type": "code",
   "execution_count": 11,
   "metadata": {},
   "outputs": [
    {
     "data": {
      "text/html": [
       "<div>\n",
       "<style scoped>\n",
       "    .dataframe tbody tr th:only-of-type {\n",
       "        vertical-align: middle;\n",
       "    }\n",
       "\n",
       "    .dataframe tbody tr th {\n",
       "        vertical-align: top;\n",
       "    }\n",
       "\n",
       "    .dataframe thead th {\n",
       "        text-align: right;\n",
       "    }\n",
       "</style>\n",
       "<table border=\"1\" class=\"dataframe\">\n",
       "  <thead>\n",
       "    <tr style=\"text-align: right;\">\n",
       "      <th></th>\n",
       "      <th>sensor_id</th>\n",
       "      <th>sensor_namee</th>\n",
       "      <th>lat</th>\n",
       "      <th>lon</th>\n",
       "      <th>timestamp</th>\n",
       "      <th>p1</th>\n",
       "      <th>p2</th>\n",
       "    </tr>\n",
       "  </thead>\n",
       "  <tbody>\n",
       "    <tr>\n",
       "      <th>127104</th>\n",
       "      <td>16723</td>\n",
       "      <td>SDS011</td>\n",
       "      <td>57.736</td>\n",
       "      <td>11.894</td>\n",
       "      <td>1546343937000000000</td>\n",
       "      <td>16.47</td>\n",
       "      <td>3.40</td>\n",
       "    </tr>\n",
       "    <tr>\n",
       "      <th>127105</th>\n",
       "      <td>16815</td>\n",
       "      <td>SDS011</td>\n",
       "      <td>59.462</td>\n",
       "      <td>18.040</td>\n",
       "      <td>1546343976000000000</td>\n",
       "      <td>2.67</td>\n",
       "      <td>1.97</td>\n",
       "    </tr>\n",
       "    <tr>\n",
       "      <th>127106</th>\n",
       "      <td>17235</td>\n",
       "      <td>SDS011</td>\n",
       "      <td>59.272</td>\n",
       "      <td>17.780</td>\n",
       "      <td>1546343981000000000</td>\n",
       "      <td>4.69</td>\n",
       "      <td>1.82</td>\n",
       "    </tr>\n",
       "    <tr>\n",
       "      <th>127107</th>\n",
       "      <td>10588</td>\n",
       "      <td>SDS011</td>\n",
       "      <td>55.676</td>\n",
       "      <td>13.346</td>\n",
       "      <td>1546343832000000000</td>\n",
       "      <td>14.08</td>\n",
       "      <td>3.68</td>\n",
       "    </tr>\n",
       "    <tr>\n",
       "      <th>127108</th>\n",
       "      <td>10647</td>\n",
       "      <td>SDS011</td>\n",
       "      <td>55.608</td>\n",
       "      <td>13.036</td>\n",
       "      <td>1546343922000000000</td>\n",
       "      <td>23.42</td>\n",
       "      <td>4.75</td>\n",
       "    </tr>\n",
       "  </tbody>\n",
       "</table>\n",
       "</div>"
      ],
      "text/plain": [
       "        sensor_id sensor_namee     lat     lon            timestamp     p1  \\\n",
       "127104      16723       SDS011  57.736  11.894  1546343937000000000  16.47   \n",
       "127105      16815       SDS011  59.462  18.040  1546343976000000000   2.67   \n",
       "127106      17235       SDS011  59.272  17.780  1546343981000000000   4.69   \n",
       "127107      10588       SDS011  55.676  13.346  1546343832000000000  14.08   \n",
       "127108      10647       SDS011  55.608  13.036  1546343922000000000  23.42   \n",
       "\n",
       "          p2  \n",
       "127104  3.40  \n",
       "127105  1.97  \n",
       "127106  1.82  \n",
       "127107  3.68  \n",
       "127108  4.75  "
      ]
     },
     "execution_count": 11,
     "metadata": {},
     "output_type": "execute_result"
    }
   ],
   "source": [
    "in_data2.tail()\n"
   ]
  },
  {
   "cell_type": "code",
   "execution_count": null,
   "metadata": {},
   "outputs": [],
   "source": []
  },
  {
   "cell_type": "code",
   "execution_count": 12,
   "metadata": {},
   "outputs": [],
   "source": [
    "### various time operations"
   ]
  },
  {
   "cell_type": "code",
   "execution_count": 13,
   "metadata": {},
   "outputs": [
    {
     "data": {
      "text/plain": [
       "'2019-01-01 11:58:42'"
      ]
     },
     "execution_count": 13,
     "metadata": {},
     "output_type": "execute_result"
    }
   ],
   "source": [
    "end_time"
   ]
  },
  {
   "cell_type": "code",
   "execution_count": 14,
   "metadata": {},
   "outputs": [],
   "source": [
    "# generate the time slots when the data is sampled\n",
    "\n",
    "data_sampling_windows__time_periods = pd.date_range( end_time, freq=sampling_frequency,  \n",
    "periods=num_of_time_periods___for_basic_data+1)"
   ]
  },
  {
   "cell_type": "code",
   "execution_count": 15,
   "metadata": {},
   "outputs": [
    {
     "data": {
      "text/plain": [
       "DatetimeIndex(['2019-01-01 11:58:42', '2019-01-01 12:01:42',\n",
       "               '2019-01-01 12:04:42', '2019-01-01 12:07:42',\n",
       "               '2019-01-01 12:10:42', '2019-01-01 12:13:42',\n",
       "               '2019-01-01 12:16:42', '2019-01-01 12:19:42',\n",
       "               '2019-01-01 12:22:42', '2019-01-01 12:25:42',\n",
       "               ...\n",
       "               '2019-01-02 11:31:42', '2019-01-02 11:34:42',\n",
       "               '2019-01-02 11:37:42', '2019-01-02 11:40:42',\n",
       "               '2019-01-02 11:43:42', '2019-01-02 11:46:42',\n",
       "               '2019-01-02 11:49:42', '2019-01-02 11:52:42',\n",
       "               '2019-01-02 11:55:42', '2019-01-02 11:58:42'],\n",
       "              dtype='datetime64[ns]', length=481, freq='3T')"
      ]
     },
     "execution_count": 15,
     "metadata": {},
     "output_type": "execute_result"
    }
   ],
   "source": [
    "# check generated times\n",
    "data_sampling_windows__time_periods"
   ]
  },
  {
   "cell_type": "code",
   "execution_count": 16,
   "metadata": {},
   "outputs": [],
   "source": [
    "# then to 'go back in time' from the end date\n",
    "\n",
    "# adding the '+1' to avoid the off by one errors  \n",
    "data_sampling_windows__time_periods = data_sampling_windows__time_periods - ( num_of_time_periods___for_basic_data\n",
    " + 1 ) "
   ]
  },
  {
   "cell_type": "code",
   "execution_count": 17,
   "metadata": {},
   "outputs": [
    {
     "data": {
      "text/plain": [
       "Timestamp('2018-12-31 11:55:42', freq='3T')"
      ]
     },
     "execution_count": 17,
     "metadata": {},
     "output_type": "execute_result"
    }
   ],
   "source": [
    "data_sampling_windows__time_periods[0]"
   ]
  },
  {
   "cell_type": "code",
   "execution_count": 18,
   "metadata": {},
   "outputs": [
    {
     "data": {
      "text/plain": [
       "DatetimeIndex(['2018-12-31 11:55:42', '2018-12-31 11:58:42',\n",
       "               '2018-12-31 12:01:42', '2018-12-31 12:04:42',\n",
       "               '2018-12-31 12:07:42', '2018-12-31 12:10:42',\n",
       "               '2018-12-31 12:13:42', '2018-12-31 12:16:42',\n",
       "               '2018-12-31 12:19:42', '2018-12-31 12:22:42',\n",
       "               ...\n",
       "               '2019-01-01 11:28:42', '2019-01-01 11:31:42',\n",
       "               '2019-01-01 11:34:42', '2019-01-01 11:37:42',\n",
       "               '2019-01-01 11:40:42', '2019-01-01 11:43:42',\n",
       "               '2019-01-01 11:46:42', '2019-01-01 11:49:42',\n",
       "               '2019-01-01 11:52:42', '2019-01-01 11:55:42'],\n",
       "              dtype='datetime64[ns]', length=481, freq='3T')"
      ]
     },
     "execution_count": 18,
     "metadata": {},
     "output_type": "execute_result"
    }
   ],
   "source": [
    "data_sampling_windows__time_periods"
   ]
  },
  {
   "cell_type": "code",
   "execution_count": 35,
   "metadata": {},
   "outputs": [
    {
     "data": {
      "text/plain": [
       "(481,)"
      ]
     },
     "execution_count": 35,
     "metadata": {},
     "output_type": "execute_result"
    }
   ],
   "source": [
    "data_sampling_windows__time_periods.shape"
   ]
  },
  {
   "cell_type": "code",
   "execution_count": 19,
   "metadata": {},
   "outputs": [
    {
     "data": {
      "text/plain": [
       "Timestamp('2019-01-01 11:58:42')"
      ]
     },
     "execution_count": 19,
     "metadata": {},
     "output_type": "execute_result"
    }
   ],
   "source": [
    "end_time = pd.to_datetime( end_time )\n",
    "end_time"
   ]
  },
  {
   "cell_type": "code",
   "execution_count": 20,
   "metadata": {},
   "outputs": [
    {
     "data": {
      "text/plain": [
       "Timestamp('2018-12-31 11:55:42', freq='3T')"
      ]
     },
     "execution_count": 20,
     "metadata": {},
     "output_type": "execute_result"
    }
   ],
   "source": [
    "start_time = data_sampling_windows__time_periods[0]\n",
    "start_time"
   ]
  },
  {
   "cell_type": "code",
   "execution_count": 21,
   "metadata": {},
   "outputs": [
    {
     "data": {
      "text/plain": [
       "((127109, 7), (84702, 7))"
      ]
     },
     "execution_count": 21,
     "metadata": {},
     "output_type": "execute_result"
    }
   ],
   "source": [
    "### Fetch relevant time period, of data from csv \n",
    "\n",
    "relev_time_period = in_data[ in_data['timestamp'] >= start_time ]\n",
    "relev_time_period = relev_time_period[ relev_time_period['timestamp'] < end_time ]\n",
    "\n",
    "\n",
    "in_data.shape, relev_time_period.shape\n"
   ]
  },
  {
   "cell_type": "code",
   "execution_count": null,
   "metadata": {},
   "outputs": [],
   "source": []
  },
  {
   "cell_type": "code",
   "execution_count": 22,
   "metadata": {
    "scrolled": true
   },
   "outputs": [
    {
     "data": {
      "text/html": [
       "<div>\n",
       "<style scoped>\n",
       "    .dataframe tbody tr th:only-of-type {\n",
       "        vertical-align: middle;\n",
       "    }\n",
       "\n",
       "    .dataframe tbody tr th {\n",
       "        vertical-align: top;\n",
       "    }\n",
       "\n",
       "    .dataframe thead th {\n",
       "        text-align: right;\n",
       "    }\n",
       "</style>\n",
       "<table border=\"1\" class=\"dataframe\">\n",
       "  <thead>\n",
       "    <tr style=\"text-align: right;\">\n",
       "      <th></th>\n",
       "      <th>sensor_id</th>\n",
       "      <th>sensor_namee</th>\n",
       "      <th>lat</th>\n",
       "      <th>lon</th>\n",
       "      <th>timestamp</th>\n",
       "      <th>p1</th>\n",
       "      <th>p2</th>\n",
       "    </tr>\n",
       "  </thead>\n",
       "  <tbody>\n",
       "    <tr>\n",
       "      <th>0</th>\n",
       "      <td>7273</td>\n",
       "      <td>SDS011</td>\n",
       "      <td>60.002</td>\n",
       "      <td>17.846</td>\n",
       "      <td>2018-12-31 11:57:22</td>\n",
       "      <td>3.43</td>\n",
       "      <td>1.56</td>\n",
       "    </tr>\n",
       "    <tr>\n",
       "      <th>1</th>\n",
       "      <td>7275</td>\n",
       "      <td>SDS011</td>\n",
       "      <td>57.720</td>\n",
       "      <td>11.888</td>\n",
       "      <td>2018-12-31 11:58:44</td>\n",
       "      <td>482.77</td>\n",
       "      <td>33.82</td>\n",
       "    </tr>\n",
       "    <tr>\n",
       "      <th>2</th>\n",
       "      <td>7277</td>\n",
       "      <td>SDS011</td>\n",
       "      <td>59.266</td>\n",
       "      <td>15.230</td>\n",
       "      <td>2018-12-31 11:58:47</td>\n",
       "      <td>5.48</td>\n",
       "      <td>2.47</td>\n",
       "    </tr>\n",
       "    <tr>\n",
       "      <th>3</th>\n",
       "      <td>7406</td>\n",
       "      <td>SDS011</td>\n",
       "      <td>56.964</td>\n",
       "      <td>24.128</td>\n",
       "      <td>2018-12-31 11:56:41</td>\n",
       "      <td>11.05</td>\n",
       "      <td>6.62</td>\n",
       "    </tr>\n",
       "    <tr>\n",
       "      <th>4</th>\n",
       "      <td>7428</td>\n",
       "      <td>SDS011</td>\n",
       "      <td>59.868</td>\n",
       "      <td>17.624</td>\n",
       "      <td>2018-12-31 11:57:42</td>\n",
       "      <td>1.78</td>\n",
       "      <td>1.02</td>\n",
       "    </tr>\n",
       "  </tbody>\n",
       "</table>\n",
       "</div>"
      ],
      "text/plain": [
       "   sensor_id sensor_namee     lat     lon           timestamp      p1     p2\n",
       "0       7273       SDS011  60.002  17.846 2018-12-31 11:57:22    3.43   1.56\n",
       "1       7275       SDS011  57.720  11.888 2018-12-31 11:58:44  482.77  33.82\n",
       "2       7277       SDS011  59.266  15.230 2018-12-31 11:58:47    5.48   2.47\n",
       "3       7406       SDS011  56.964  24.128 2018-12-31 11:56:41   11.05   6.62\n",
       "4       7428       SDS011  59.868  17.624 2018-12-31 11:57:42    1.78   1.02"
      ]
     },
     "execution_count": 22,
     "metadata": {},
     "output_type": "execute_result"
    }
   ],
   "source": [
    "relev_time_period.head()"
   ]
  },
  {
   "cell_type": "code",
   "execution_count": 23,
   "metadata": {},
   "outputs": [
    {
     "data": {
      "text/html": [
       "<div>\n",
       "<style scoped>\n",
       "    .dataframe tbody tr th:only-of-type {\n",
       "        vertical-align: middle;\n",
       "    }\n",
       "\n",
       "    .dataframe tbody tr th {\n",
       "        vertical-align: top;\n",
       "    }\n",
       "\n",
       "    .dataframe thead th {\n",
       "        text-align: right;\n",
       "    }\n",
       "</style>\n",
       "<table border=\"1\" class=\"dataframe\">\n",
       "  <thead>\n",
       "    <tr style=\"text-align: right;\">\n",
       "      <th></th>\n",
       "      <th>sensor_id</th>\n",
       "      <th>sensor_namee</th>\n",
       "      <th>lat</th>\n",
       "      <th>lon</th>\n",
       "      <th>timestamp</th>\n",
       "      <th>p1</th>\n",
       "      <th>p2</th>\n",
       "    </tr>\n",
       "  </thead>\n",
       "  <tbody>\n",
       "    <tr>\n",
       "      <th>127083</th>\n",
       "      <td>19301</td>\n",
       "      <td>SDS011</td>\n",
       "      <td>59.362</td>\n",
       "      <td>12.152</td>\n",
       "      <td>2019-01-01 11:56:50</td>\n",
       "      <td>0.02</td>\n",
       "      <td>0.00</td>\n",
       "    </tr>\n",
       "    <tr>\n",
       "      <th>127097</th>\n",
       "      <td>12990</td>\n",
       "      <td>SDS011</td>\n",
       "      <td>57.692</td>\n",
       "      <td>11.958</td>\n",
       "      <td>2019-01-01 11:58:00</td>\n",
       "      <td>16.63</td>\n",
       "      <td>3.60</td>\n",
       "    </tr>\n",
       "    <tr>\n",
       "      <th>127101</th>\n",
       "      <td>16153</td>\n",
       "      <td>SDS011</td>\n",
       "      <td>55.648</td>\n",
       "      <td>13.208</td>\n",
       "      <td>2019-01-01 11:57:19</td>\n",
       "      <td>20.00</td>\n",
       "      <td>3.90</td>\n",
       "    </tr>\n",
       "    <tr>\n",
       "      <th>127103</th>\n",
       "      <td>16533</td>\n",
       "      <td>SDS011</td>\n",
       "      <td>55.722</td>\n",
       "      <td>13.202</td>\n",
       "      <td>2019-01-01 11:56:55</td>\n",
       "      <td>18.05</td>\n",
       "      <td>4.33</td>\n",
       "    </tr>\n",
       "    <tr>\n",
       "      <th>127107</th>\n",
       "      <td>10588</td>\n",
       "      <td>SDS011</td>\n",
       "      <td>55.676</td>\n",
       "      <td>13.346</td>\n",
       "      <td>2019-01-01 11:57:12</td>\n",
       "      <td>14.08</td>\n",
       "      <td>3.68</td>\n",
       "    </tr>\n",
       "  </tbody>\n",
       "</table>\n",
       "</div>"
      ],
      "text/plain": [
       "        sensor_id sensor_namee     lat     lon           timestamp     p1  \\\n",
       "127083      19301       SDS011  59.362  12.152 2019-01-01 11:56:50   0.02   \n",
       "127097      12990       SDS011  57.692  11.958 2019-01-01 11:58:00  16.63   \n",
       "127101      16153       SDS011  55.648  13.208 2019-01-01 11:57:19  20.00   \n",
       "127103      16533       SDS011  55.722  13.202 2019-01-01 11:56:55  18.05   \n",
       "127107      10588       SDS011  55.676  13.346 2019-01-01 11:57:12  14.08   \n",
       "\n",
       "          p2  \n",
       "127083  0.00  \n",
       "127097  3.60  \n",
       "127101  3.90  \n",
       "127103  4.33  \n",
       "127107  3.68  "
      ]
     },
     "execution_count": 23,
     "metadata": {},
     "output_type": "execute_result"
    }
   ],
   "source": [
    "relev_time_period.tail()"
   ]
  },
  {
   "cell_type": "code",
   "execution_count": null,
   "metadata": {},
   "outputs": [],
   "source": []
  },
  {
   "cell_type": "code",
   "execution_count": 24,
   "metadata": {},
   "outputs": [],
   "source": [
    "# --- now loop through the different sensor datas"
   ]
  },
  {
   "cell_type": "code",
   "execution_count": 25,
   "metadata": {},
   "outputs": [
    {
     "data": {
      "text/plain": [
       "(200,)"
      ]
     },
     "execution_count": 25,
     "metadata": {},
     "output_type": "execute_result"
    }
   ],
   "source": [
    "unique_sensor_ids = relev_time_period['sensor_id'].unique()\n",
    "unique_sensor_ids.shape"
   ]
  },
  {
   "cell_type": "code",
   "execution_count": 66,
   "metadata": {},
   "outputs": [
    {
     "name": "stdout",
     "output_type": "stream",
     "text": [
      "-- working on sensor id 7273 |  0/200\n",
      "- done after 5.739981174468994 seconds \n"
     ]
    }
   ],
   "source": [
    "# temporary storage location for out arrays \n",
    "out_array_w_generated_periodic_data_arrays = []\n",
    "\n",
    "# prepare the out array, beforhand\n",
    "## curr_sensor_measurements_for_all_time_periods = np.zeros( data_sampling_windows__time_periods.shape[0] )\n",
    "\n",
    "curr_sensor_id_i = 0\n",
    "\n",
    "starttime = time.time() \n",
    "\n",
    "# Loop through the different sensor ( numbers )\n",
    "for sensor_id_ in unique_sensor_ids[:1]:\n",
    "    print(\"-- working on sensor id \"+str( sensor_id_ )+\" |  \"+str( curr_sensor_id_i )+\"/\"+str( unique_sensor_ids.shape[0] )  )\n",
    "    curr_sensor_id_i = curr_sensor_id_i + 1\n",
    "    \n",
    "    # fetch the measurements for this sensor id\n",
    "    curr_sensor_id_measurements = relev_time_period[ relev_time_period['sensor_id'] == sensor_id_  ]\n",
    "    \n",
    "    # sort them by time \n",
    "    curr_sensor_id_measurements = curr_sensor_id_measurements.sort_values( by=['timestamp'] ) \n",
    "    ## print(\"--- current sensor id has \"+str( curr_sensor_id_measurements.shape[0])+\" measurements\" )\n",
    "    \n",
    "    curr_sensor_id_measurements__only_timestamps = curr_sensor_id_measurements['timestamp']\n",
    "    curr_sensor_id_measurements__only_p1_vals = curr_sensor_id_measurements['p1']\n",
    "    curr_sensor_id_measurements__only_p2_vals = curr_sensor_id_measurements['p2']\n",
    "    \n",
    "    # -- make sure all the measurements of the given time period are there\n",
    "    \n",
    "    # make an array with enough slots for all time periods\n",
    "    curr_sensor_measurements_for_all_time_periods = np.zeros( data_sampling_windows__time_periods.shape[0] )\n",
    "    ## print(\" --- curr_sensor_measurements_for_all_time_periods.shape = \"+str( curr_sensor_measurements_for_all_time_periods.shape ))\n",
    "    ## print( curr_sensor_measurements_for_all_time_periods )\n",
    "    \n",
    "    # loop through all values in the data \n",
    "    for curr_sensor_measurements_row_i in range( curr_sensor_id_measurements__only_timestamps.shape[0] ):\n",
    "    ### for curr_sensor_measurements_row_i in range( 10 ):\n",
    "        ## print(\"\\n-- -- working on measurement #\"+str( curr_sensor_measurements_row_i )+\" (pm2.5/10  : \"+str(curr_sensor_id_measurements__only_p1_vals.iloc[ curr_sensor_measurements_row_i])+\"/\"+str(curr_sensor_id_measurements__only_p2_vals.iloc[ curr_sensor_measurements_row_i])+\") - with timestamp \"+str( curr_sensor_id_measurements__only_timestamps.iloc[ curr_sensor_measurements_row_i ] ) )\n",
    "        \n",
    "        # loop through the available timestamps, and see whether the current time stamp\n",
    "        # is within these. \n",
    "        # - if it is, then insert it at the appropiate current index \n",
    "        # in the out array\n",
    "        \n",
    "        # optimisation variable to remember where the last \n",
    "        # value was found, in time\n",
    "        # - the idea is that we start the next search in time indicies, \n",
    "        #   only after the last found position, so we can skip checking the previous positions \n",
    "        last_found_time_index = 0 \n",
    "        # note the optimisation above and below \n",
    "        for all_relev_timestamps_array__current_index in range( last_found_time_index, data_sampling_windows__time_periods.shape[0]-1 ):\n",
    "        ### unoptimised edition : \n",
    "        ### for all_relev_timestamps_array__current_index in range( data_sampling_windows__time_periods.shape[0]-1 ):\n",
    "        ### for all_relev_timestamps_array__current_index in range( 100 ):\n",
    "        \n",
    "            # print(\"-- -- -- looping through available timestamps - loooking at index #\"+str( all_relev_timestamps_array__current_index )+\" : timestamp \"+str( data_sampling_windows__time_periods[ all_relev_timestamps_array__current_index ] ))\n",
    "            #\n",
    "            if curr_sensor_id_measurements__only_timestamps.iloc[ curr_sensor_measurements_row_i ] > data_sampling_windows__time_periods[ all_relev_timestamps_array__current_index ] and curr_sensor_id_measurements__only_timestamps.iloc[ curr_sensor_measurements_row_i ] < data_sampling_windows__time_periods[ all_relev_timestamps_array__current_index+1 ]:\n",
    "                \n",
    "                ## print(\" -- -- -- -- YAY! the current timestamp ( \"+str(  curr_sensor_id_measurements__only_timestamps.iloc[ curr_sensor_measurements_row_i ]  )+\" is within the specified time ranges, at index \"+str( all_relev_timestamps_array__current_index )+\" amongst the possible time periods data. ie. btw \"+str( data_sampling_windows__time_periods[ all_relev_timestamps_array__current_index ])+\" and \"+str( data_sampling_windows__time_periods[ all_relev_timestamps_array__current_index ]+1 ) )\n",
    "                # \n",
    "                # assign the current PM value as appropriate \n",
    "                curr_sensor_measurements_for_all_time_periods[ all_relev_timestamps_array__current_index ] = curr_sensor_id_measurements__only_p1_vals.iloc[ curr_sensor_measurements_row_i ]\n",
    "                \n",
    "                # set the variable suggesting which position \n",
    "                # the timestamp was found in, \n",
    "                # and which position the next search should start from \n",
    "                last_found_time_index = all_relev_timestamps_array__current_index\n",
    "                \n",
    "                #\n",
    "                # no need to continue finding possible time slots - just break\n",
    "                break\n",
    "                \n",
    "    # END OF DIFFERENT SENSOR LOOPING\n",
    "    # print the resulting values slotted array - ie array with slots \n",
    "    # for values, formatted according to time slots\n",
    "    ## print( \" <<< resulting periodic values array : \")\n",
    "    ## print( curr_sensor_measurements_for_all_time_periods )\n",
    "    out_array_w_generated_periodic_data_arrays.append( curr_sensor_measurements_for_all_time_periods )\n",
    "                \n",
    "# ende\n",
    "print( \"- done after \"+str( time.time() - starttime )+\" seconds \" )\n",
    "\n",
    "\n"
   ]
  },
  {
   "cell_type": "code",
   "execution_count": 56,
   "metadata": {},
   "outputs": [
    {
     "data": {
      "text/plain": [
       "array([  3.43,   3.78,   0.  ,   3.45,   2.1 ,   1.45,   2.02,   0.  ,\n",
       "         1.78,   2.45,   2.58,   3.67,   2.3 ,   2.8 ,   2.74,   3.  ,\n",
       "         0.  ,   2.46,   3.2 ,   3.28,   2.14,   0.  ,   2.25,   2.5 ,\n",
       "         2.04,   2.11,   0.  ,   2.25,   2.16,   3.43,   3.92,   0.  ,\n",
       "         3.67,   3.43,   3.78,   3.47,   0.  ,   3.95,   3.7 ,   4.3 ,\n",
       "         3.68,   3.35,   3.54,   2.82,   2.78,   3.18,   3.8 ,   3.7 ,\n",
       "         3.17,   2.48,   0.  ,  24.2 ,  28.6 ,  36.15,  56.58,   0.  ,\n",
       "         9.7 ,  11.85,   7.  ,   6.12,   0.  ,   6.96,   3.76,   7.76,\n",
       "        28.13,  13.18,   4.42,   5.92,   6.25,   0.  , 455.  , 569.68,\n",
       "       128.9 ,  16.56,   0.  ,  11.36,  13.7 ,  23.78,  22.02,  14.3 ,\n",
       "         8.06,   2.62,   3.1 ,   4.08,   2.15,   2.06,   3.2 ,   3.8 ,\n",
       "         0.  ,   3.6 ,   3.65,   2.85,   2.37,   0.  ,   0.  , 157.77,\n",
       "       107.95,  77.23,  76.95,  33.72,  42.24,  18.16,   9.18,   0.  ,\n",
       "        14.96,  38.6 ,  96.7 ,  71.92,   0.  ,  31.08,   8.12,   6.35,\n",
       "         3.88,   0.  ,   3.04,   2.77,  39.67,  41.94,  32.36,  26.32,\n",
       "        28.72,  26.3 ,   0.  ,   7.3 ,   7.02,   7.98,  11.05,   0.  ,\n",
       "         2.4 ,   2.4 ,   2.14,   1.8 ,   1.6 ,   1.34,   1.56,   1.85,\n",
       "         1.58,   1.8 ,   1.65,   1.84,   1.97,   2.17,   1.95,   2.77,\n",
       "         2.18,   1.76,   2.4 ,   0.  ,   2.94,   3.84,   3.67,   2.5 ,\n",
       "         0.  ,   2.48,   2.35,   2.  ,   2.67,   3.15,   3.8 ,   3.04,\n",
       "         2.32,   0.  ,   3.85,   2.98,   3.94,   4.05,   0.  ,   4.31,\n",
       "         3.78,   4.03,   4.98,   0.  ,   6.04,   6.8 ,   8.86,   7.83,\n",
       "         5.43,   6.3 ,   6.98,   6.38,   0.  ,   7.65,   7.12,   7.22,\n",
       "         7.74,   0.  ,   6.02,   8.55,  10.76,  11.03,   0.  ,   7.88,\n",
       "         8.02,   8.9 ,   9.88,   0.  ,   9.38,   9.02,   9.75,  10.4 ,\n",
       "        12.32,  13.94,  11.4 ,  10.14,  11.58,  11.54,  10.88,  10.07,\n",
       "         9.32,   0.  ,   9.9 ,  10.65,   9.1 ,   9.35,   0.  ,   8.02,\n",
       "         6.4 ,   9.09,  11.5 ,   0.  ,   8.09,  11.17,  11.88,  10.25,\n",
       "         0.  ,  10.1 ,   8.38,   6.84,   9.78,   0.  ,   8.76,  12.02,\n",
       "        12.25,   9.96,   0.  ,   9.88,  10.75,   9.92,   9.48,   0.  ,\n",
       "         8.4 ,   8.64,  10.35,  11.46,   0.  ,   8.59,   6.48,   8.18,\n",
       "         9.35,   7.47,   6.62,  10.  ,  10.68,   0.  ,   7.59,   9.65,\n",
       "         7.68,   6.22,   0.  ,  10.12,   9.26,   9.05,   6.98,   7.38,\n",
       "         7.42,   9.91,   8.88,   0.  ,   9.44,   6.85,   8.34,  11.32,\n",
       "         0.  ,  11.65,   8.24,   9.05,   8.91,   0.  ,  10.88,   9.83,\n",
       "         9.22,   9.35,  10.  ,   9.8 ,   7.52,   9.  ,   0.  ,  12.25,\n",
       "         8.23,   9.28,   9.  ,   0.  ,   9.1 ,   9.05,   9.62,  12.72,\n",
       "        11.82,  10.1 ,  10.05,  12.78,   0.  ,   8.4 ,   7.97,   7.1 ,\n",
       "         7.43,   0.  ,   9.98,  11.08,  13.4 ,  12.86,   0.  ,   9.37,\n",
       "         9.9 ,   9.5 ,   9.27,   7.98,   7.74,   8.04,   7.74,   0.  ,\n",
       "        10.24,   7.94,   8.35,   9.32,   0.  ,   8.  ,   8.65,   9.68,\n",
       "         7.1 ,   6.72,   6.42,   5.92,   6.44,   0.  ,   8.08,   6.55,\n",
       "         6.74,   7.36,   0.  ,   7.35,   7.27,   7.02,   6.22,   6.56,\n",
       "         5.78,   4.42,   6.  ,   6.9 ,   5.78,   5.12,   4.66,   6.53,\n",
       "         0.  ,   7.78,   9.12,   7.43,   5.15,   0.  ,   6.32,   6.92,\n",
       "         6.26,   4.98,   0.  ,   5.01,   4.51,   4.68,   5.98,   7.12,\n",
       "         6.  ,   5.86,   5.9 ,   0.  ,   6.15,   3.7 ,   3.44,   4.49,\n",
       "         0.  ,   4.19,   3.38,   3.95,   3.9 ,   4.72,   5.4 ,   3.5 ,\n",
       "         4.  ,   4.66,   5.1 ,   8.25,   8.38,   0.  ,   5.86,   0.  ,\n",
       "         3.05,   4.05,   4.53,   3.58,   0.  ,   5.66,   5.07,   3.55,\n",
       "         3.8 ,   6.12,   3.5 ,   3.08,   5.04,   4.6 ,   4.31,   5.24,\n",
       "         4.04,   3.42,   0.  ,   3.53,   3.82,   3.18,   2.95,   0.  ,\n",
       "         4.23,   4.03,   3.78,   3.96,   3.9 ,   6.24,   5.76,   3.42,\n",
       "         0.  ,   4.07,   3.2 ,   3.53,   3.56,   0.  ,   3.04,   3.1 ,\n",
       "         4.13,   3.66,   0.  ,   4.14,   3.84,   4.3 ,   4.88,   5.62,\n",
       "         6.62,   5.66,   5.92,   6.26,   4.65,   4.52,   4.4 ,   4.2 ,\n",
       "         0.  ,   3.06,   3.88,   3.87,   3.85,   0.  ,   3.63,   3.43,\n",
       "         3.32,   4.  ,   0.  ,   3.32,   4.37,   4.05,   4.3 ,   3.5 ,\n",
       "         2.42,   2.6 ,   4.6 ,   0.  ,   4.16,   3.46,   2.76,   2.88,\n",
       "         0.  ,   2.33,   2.35,   3.08,   3.62,   3.46,   3.01,   2.54,\n",
       "         0.  ])"
      ]
     },
     "execution_count": 56,
     "metadata": {},
     "output_type": "execute_result"
    }
   ],
   "source": [
    "curr_sensor_measurements_for_all_time_periods"
   ]
  },
  {
   "cell_type": "code",
   "execution_count": 57,
   "metadata": {},
   "outputs": [
    {
     "data": {
      "text/plain": [
       "1"
      ]
     },
     "execution_count": 57,
     "metadata": {},
     "output_type": "execute_result"
    }
   ],
   "source": [
    "len( out_array_w_generated_periodic_data_arrays )"
   ]
  },
  {
   "cell_type": "code",
   "execution_count": 58,
   "metadata": {},
   "outputs": [
    {
     "data": {
      "text/plain": [
       "[array([  3.43,   3.78,   0.  ,   3.45,   2.1 ,   1.45,   2.02,   0.  ,\n",
       "          1.78,   2.45,   2.58,   3.67,   2.3 ,   2.8 ,   2.74,   3.  ,\n",
       "          0.  ,   2.46,   3.2 ,   3.28,   2.14,   0.  ,   2.25,   2.5 ,\n",
       "          2.04,   2.11,   0.  ,   2.25,   2.16,   3.43,   3.92,   0.  ,\n",
       "          3.67,   3.43,   3.78,   3.47,   0.  ,   3.95,   3.7 ,   4.3 ,\n",
       "          3.68,   3.35,   3.54,   2.82,   2.78,   3.18,   3.8 ,   3.7 ,\n",
       "          3.17,   2.48,   0.  ,  24.2 ,  28.6 ,  36.15,  56.58,   0.  ,\n",
       "          9.7 ,  11.85,   7.  ,   6.12,   0.  ,   6.96,   3.76,   7.76,\n",
       "         28.13,  13.18,   4.42,   5.92,   6.25,   0.  , 455.  , 569.68,\n",
       "        128.9 ,  16.56,   0.  ,  11.36,  13.7 ,  23.78,  22.02,  14.3 ,\n",
       "          8.06,   2.62,   3.1 ,   4.08,   2.15,   2.06,   3.2 ,   3.8 ,\n",
       "          0.  ,   3.6 ,   3.65,   2.85,   2.37,   0.  ,   0.  , 157.77,\n",
       "        107.95,  77.23,  76.95,  33.72,  42.24,  18.16,   9.18,   0.  ,\n",
       "         14.96,  38.6 ,  96.7 ,  71.92,   0.  ,  31.08,   8.12,   6.35,\n",
       "          3.88,   0.  ,   3.04,   2.77,  39.67,  41.94,  32.36,  26.32,\n",
       "         28.72,  26.3 ,   0.  ,   7.3 ,   7.02,   7.98,  11.05,   0.  ,\n",
       "          2.4 ,   2.4 ,   2.14,   1.8 ,   1.6 ,   1.34,   1.56,   1.85,\n",
       "          1.58,   1.8 ,   1.65,   1.84,   1.97,   2.17,   1.95,   2.77,\n",
       "          2.18,   1.76,   2.4 ,   0.  ,   2.94,   3.84,   3.67,   2.5 ,\n",
       "          0.  ,   2.48,   2.35,   2.  ,   2.67,   3.15,   3.8 ,   3.04,\n",
       "          2.32,   0.  ,   3.85,   2.98,   3.94,   4.05,   0.  ,   4.31,\n",
       "          3.78,   4.03,   4.98,   0.  ,   6.04,   6.8 ,   8.86,   7.83,\n",
       "          5.43,   6.3 ,   6.98,   6.38,   0.  ,   7.65,   7.12,   7.22,\n",
       "          7.74,   0.  ,   6.02,   8.55,  10.76,  11.03,   0.  ,   7.88,\n",
       "          8.02,   8.9 ,   9.88,   0.  ,   9.38,   9.02,   9.75,  10.4 ,\n",
       "         12.32,  13.94,  11.4 ,  10.14,  11.58,  11.54,  10.88,  10.07,\n",
       "          9.32,   0.  ,   9.9 ,  10.65,   9.1 ,   9.35,   0.  ,   8.02,\n",
       "          6.4 ,   9.09,  11.5 ,   0.  ,   8.09,  11.17,  11.88,  10.25,\n",
       "          0.  ,  10.1 ,   8.38,   6.84,   9.78,   0.  ,   8.76,  12.02,\n",
       "         12.25,   9.96,   0.  ,   9.88,  10.75,   9.92,   9.48,   0.  ,\n",
       "          8.4 ,   8.64,  10.35,  11.46,   0.  ,   8.59,   6.48,   8.18,\n",
       "          9.35,   7.47,   6.62,  10.  ,  10.68,   0.  ,   7.59,   9.65,\n",
       "          7.68,   6.22,   0.  ,  10.12,   9.26,   9.05,   6.98,   7.38,\n",
       "          7.42,   9.91,   8.88,   0.  ,   9.44,   6.85,   8.34,  11.32,\n",
       "          0.  ,  11.65,   8.24,   9.05,   8.91,   0.  ,  10.88,   9.83,\n",
       "          9.22,   9.35,  10.  ,   9.8 ,   7.52,   9.  ,   0.  ,  12.25,\n",
       "          8.23,   9.28,   9.  ,   0.  ,   9.1 ,   9.05,   9.62,  12.72,\n",
       "         11.82,  10.1 ,  10.05,  12.78,   0.  ,   8.4 ,   7.97,   7.1 ,\n",
       "          7.43,   0.  ,   9.98,  11.08,  13.4 ,  12.86,   0.  ,   9.37,\n",
       "          9.9 ,   9.5 ,   9.27,   7.98,   7.74,   8.04,   7.74,   0.  ,\n",
       "         10.24,   7.94,   8.35,   9.32,   0.  ,   8.  ,   8.65,   9.68,\n",
       "          7.1 ,   6.72,   6.42,   5.92,   6.44,   0.  ,   8.08,   6.55,\n",
       "          6.74,   7.36,   0.  ,   7.35,   7.27,   7.02,   6.22,   6.56,\n",
       "          5.78,   4.42,   6.  ,   6.9 ,   5.78,   5.12,   4.66,   6.53,\n",
       "          0.  ,   7.78,   9.12,   7.43,   5.15,   0.  ,   6.32,   6.92,\n",
       "          6.26,   4.98,   0.  ,   5.01,   4.51,   4.68,   5.98,   7.12,\n",
       "          6.  ,   5.86,   5.9 ,   0.  ,   6.15,   3.7 ,   3.44,   4.49,\n",
       "          0.  ,   4.19,   3.38,   3.95,   3.9 ,   4.72,   5.4 ,   3.5 ,\n",
       "          4.  ,   4.66,   5.1 ,   8.25,   8.38,   0.  ,   5.86,   0.  ,\n",
       "          3.05,   4.05,   4.53,   3.58,   0.  ,   5.66,   5.07,   3.55,\n",
       "          3.8 ,   6.12,   3.5 ,   3.08,   5.04,   4.6 ,   4.31,   5.24,\n",
       "          4.04,   3.42,   0.  ,   3.53,   3.82,   3.18,   2.95,   0.  ,\n",
       "          4.23,   4.03,   3.78,   3.96,   3.9 ,   6.24,   5.76,   3.42,\n",
       "          0.  ,   4.07,   3.2 ,   3.53,   3.56,   0.  ,   3.04,   3.1 ,\n",
       "          4.13,   3.66,   0.  ,   4.14,   3.84,   4.3 ,   4.88,   5.62,\n",
       "          6.62,   5.66,   5.92,   6.26,   4.65,   4.52,   4.4 ,   4.2 ,\n",
       "          0.  ,   3.06,   3.88,   3.87,   3.85,   0.  ,   3.63,   3.43,\n",
       "          3.32,   4.  ,   0.  ,   3.32,   4.37,   4.05,   4.3 ,   3.5 ,\n",
       "          2.42,   2.6 ,   4.6 ,   0.  ,   4.16,   3.46,   2.76,   2.88,\n",
       "          0.  ,   2.33,   2.35,   3.08,   3.62,   3.46,   3.01,   2.54,\n",
       "          0.  ])]"
      ]
     },
     "execution_count": 58,
     "metadata": {},
     "output_type": "execute_result"
    }
   ],
   "source": [
    "out_array_w_generated_periodic_data_arrays"
   ]
  },
  {
   "cell_type": "code",
   "execution_count": null,
   "metadata": {},
   "outputs": [],
   "source": []
  },
  {
   "cell_type": "code",
   "execution_count": null,
   "metadata": {},
   "outputs": [],
   "source": []
  },
  {
   "cell_type": "code",
   "execution_count": null,
   "metadata": {},
   "outputs": [],
   "source": []
  }
 ],
 "metadata": {
  "kernelspec": {
   "display_name": "Python 3",
   "language": "python",
   "name": "python3"
  },
  "language_info": {
   "codemirror_mode": {
    "name": "ipython",
    "version": 3
   },
   "file_extension": ".py",
   "mimetype": "text/x-python",
   "name": "python",
   "nbconvert_exporter": "python",
   "pygments_lexer": "ipython3",
   "version": "3.6.6"
  }
 },
 "nbformat": 4,
 "nbformat_minor": 2
}
