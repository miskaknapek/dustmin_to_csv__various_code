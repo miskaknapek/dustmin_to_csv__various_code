{
 "cells": [
  {
   "cell_type": "markdown",
   "metadata": {},
   "source": [
    "# Luftdaten data : data cleaning, resampling\n",
    "## Code builds a continuous time tabular version of the luftdaen data, such that the same time period is present for each sensor in the data, regardless of whether each sensor has data for all the time slots. \n",
    "\n",
    "## The slot-filling is done to make it easier to use the data.\n",
    "\n",
    "## NOTE : This particular version uses epoch time comparisons rather than timestamp comparisons, as well as numpy arrays for the final loops, rather than pandas data structures"
   ]
  },
  {
   "cell_type": "code",
   "execution_count": 1,
   "metadata": {},
   "outputs": [],
   "source": [
    "import pandas as pd\n",
    "import numpy as np\n",
    "import time"
   ]
  },
  {
   "cell_type": "code",
   "execution_count": 2,
   "metadata": {},
   "outputs": [],
   "source": [
    "# parameters\n",
    "\n",
    "# start_time = \"2018-12-31 21:58:42\"\n",
    "end_time = \"2019-01-01 11:58:42\"\n",
    "# generate this please\n",
    "start_time = \"?????\"\n",
    "\n",
    "time_frequency_for_periods__for_basic_data = \"5T\"\n",
    "num_of_time_periods___for_basic_data = 24*20 # 24 hrs * 12 x 5 mins in each hour\n",
    "\n",
    "# when generating time periods \n",
    "sampling_frequency = \"3T\"\n",
    "\n",
    "\n",
    "\n",
    "# --- data urls \n",
    "\n",
    "curr_url = \"????\"\n",
    "nordic_midnight_24_hrs_data__url = \"/Users/miska/Documents/open_something/luftdaten/luftdaten_code/luftdaten__make_tabular_data__from_db_data/ld_NYE_midnight_24hrs_nordics_all_data_01.csv\"\n",
    "\n",
    "# set the current data source \n",
    "curr_url =nordic_midnight_24_hrs_data__url"
   ]
  },
  {
   "cell_type": "code",
   "execution_count": 3,
   "metadata": {},
   "outputs": [
    {
     "data": {
      "text/plain": [
       "(127109, 7)"
      ]
     },
     "execution_count": 3,
     "metadata": {},
     "output_type": "execute_result"
    }
   ],
   "source": [
    "# try convert the timestamp in the data, to epoch\n",
    "\n",
    "in_data = pd.read_csv( curr_url )\n",
    "in_data.shape"
   ]
  },
  {
   "cell_type": "code",
   "execution_count": 4,
   "metadata": {},
   "outputs": [
    {
     "data": {
      "text/plain": [
       "sensor_id         int64\n",
       "sensor_namee     object\n",
       "lat             float64\n",
       "lon             float64\n",
       "timestamp        object\n",
       "p1              float64\n",
       "p2              float64\n",
       "dtype: object"
      ]
     },
     "execution_count": 4,
     "metadata": {},
     "output_type": "execute_result"
    }
   ],
   "source": [
    "in_data.dtypes"
   ]
  },
  {
   "cell_type": "code",
   "execution_count": 5,
   "metadata": {},
   "outputs": [],
   "source": [
    "in_data['timestamp'] = pd.to_datetime( in_data['timestamp'] )"
   ]
  },
  {
   "cell_type": "code",
   "execution_count": 6,
   "metadata": {},
   "outputs": [
    {
     "data": {
      "text/html": [
       "<div>\n",
       "<style scoped>\n",
       "    .dataframe tbody tr th:only-of-type {\n",
       "        vertical-align: middle;\n",
       "    }\n",
       "\n",
       "    .dataframe tbody tr th {\n",
       "        vertical-align: top;\n",
       "    }\n",
       "\n",
       "    .dataframe thead th {\n",
       "        text-align: right;\n",
       "    }\n",
       "</style>\n",
       "<table border=\"1\" class=\"dataframe\">\n",
       "  <thead>\n",
       "    <tr style=\"text-align: right;\">\n",
       "      <th></th>\n",
       "      <th>sensor_id</th>\n",
       "      <th>sensor_namee</th>\n",
       "      <th>lat</th>\n",
       "      <th>lon</th>\n",
       "      <th>timestamp</th>\n",
       "      <th>p1</th>\n",
       "      <th>p2</th>\n",
       "    </tr>\n",
       "  </thead>\n",
       "  <tbody>\n",
       "    <tr>\n",
       "      <th>0</th>\n",
       "      <td>7273</td>\n",
       "      <td>SDS011</td>\n",
       "      <td>60.002</td>\n",
       "      <td>17.846</td>\n",
       "      <td>2018-12-31 11:57:22</td>\n",
       "      <td>3.43</td>\n",
       "      <td>1.56</td>\n",
       "    </tr>\n",
       "    <tr>\n",
       "      <th>1</th>\n",
       "      <td>7275</td>\n",
       "      <td>SDS011</td>\n",
       "      <td>57.720</td>\n",
       "      <td>11.888</td>\n",
       "      <td>2018-12-31 11:58:44</td>\n",
       "      <td>482.77</td>\n",
       "      <td>33.82</td>\n",
       "    </tr>\n",
       "    <tr>\n",
       "      <th>2</th>\n",
       "      <td>7277</td>\n",
       "      <td>SDS011</td>\n",
       "      <td>59.266</td>\n",
       "      <td>15.230</td>\n",
       "      <td>2018-12-31 11:58:47</td>\n",
       "      <td>5.48</td>\n",
       "      <td>2.47</td>\n",
       "    </tr>\n",
       "    <tr>\n",
       "      <th>3</th>\n",
       "      <td>7406</td>\n",
       "      <td>SDS011</td>\n",
       "      <td>56.964</td>\n",
       "      <td>24.128</td>\n",
       "      <td>2018-12-31 11:56:41</td>\n",
       "      <td>11.05</td>\n",
       "      <td>6.62</td>\n",
       "    </tr>\n",
       "    <tr>\n",
       "      <th>4</th>\n",
       "      <td>7428</td>\n",
       "      <td>SDS011</td>\n",
       "      <td>59.868</td>\n",
       "      <td>17.624</td>\n",
       "      <td>2018-12-31 11:57:42</td>\n",
       "      <td>1.78</td>\n",
       "      <td>1.02</td>\n",
       "    </tr>\n",
       "  </tbody>\n",
       "</table>\n",
       "</div>"
      ],
      "text/plain": [
       "   sensor_id sensor_namee     lat     lon           timestamp      p1     p2\n",
       "0       7273       SDS011  60.002  17.846 2018-12-31 11:57:22    3.43   1.56\n",
       "1       7275       SDS011  57.720  11.888 2018-12-31 11:58:44  482.77  33.82\n",
       "2       7277       SDS011  59.266  15.230 2018-12-31 11:58:47    5.48   2.47\n",
       "3       7406       SDS011  56.964  24.128 2018-12-31 11:56:41   11.05   6.62\n",
       "4       7428       SDS011  59.868  17.624 2018-12-31 11:57:42    1.78   1.02"
      ]
     },
     "execution_count": 6,
     "metadata": {},
     "output_type": "execute_result"
    }
   ],
   "source": [
    "in_data.head()"
   ]
  },
  {
   "cell_type": "code",
   "execution_count": 7,
   "metadata": {},
   "outputs": [
    {
     "data": {
      "text/html": [
       "<div>\n",
       "<style scoped>\n",
       "    .dataframe tbody tr th:only-of-type {\n",
       "        vertical-align: middle;\n",
       "    }\n",
       "\n",
       "    .dataframe tbody tr th {\n",
       "        vertical-align: top;\n",
       "    }\n",
       "\n",
       "    .dataframe thead th {\n",
       "        text-align: right;\n",
       "    }\n",
       "</style>\n",
       "<table border=\"1\" class=\"dataframe\">\n",
       "  <thead>\n",
       "    <tr style=\"text-align: right;\">\n",
       "      <th></th>\n",
       "      <th>sensor_id</th>\n",
       "      <th>sensor_namee</th>\n",
       "      <th>lat</th>\n",
       "      <th>lon</th>\n",
       "      <th>timestamp</th>\n",
       "      <th>p1</th>\n",
       "      <th>p2</th>\n",
       "    </tr>\n",
       "  </thead>\n",
       "  <tbody>\n",
       "    <tr>\n",
       "      <th>127104</th>\n",
       "      <td>16723</td>\n",
       "      <td>SDS011</td>\n",
       "      <td>57.736</td>\n",
       "      <td>11.894</td>\n",
       "      <td>2019-01-01 11:58:57</td>\n",
       "      <td>16.47</td>\n",
       "      <td>3.40</td>\n",
       "    </tr>\n",
       "    <tr>\n",
       "      <th>127105</th>\n",
       "      <td>16815</td>\n",
       "      <td>SDS011</td>\n",
       "      <td>59.462</td>\n",
       "      <td>18.040</td>\n",
       "      <td>2019-01-01 11:59:36</td>\n",
       "      <td>2.67</td>\n",
       "      <td>1.97</td>\n",
       "    </tr>\n",
       "    <tr>\n",
       "      <th>127106</th>\n",
       "      <td>17235</td>\n",
       "      <td>SDS011</td>\n",
       "      <td>59.272</td>\n",
       "      <td>17.780</td>\n",
       "      <td>2019-01-01 11:59:41</td>\n",
       "      <td>4.69</td>\n",
       "      <td>1.82</td>\n",
       "    </tr>\n",
       "    <tr>\n",
       "      <th>127107</th>\n",
       "      <td>10588</td>\n",
       "      <td>SDS011</td>\n",
       "      <td>55.676</td>\n",
       "      <td>13.346</td>\n",
       "      <td>2019-01-01 11:57:12</td>\n",
       "      <td>14.08</td>\n",
       "      <td>3.68</td>\n",
       "    </tr>\n",
       "    <tr>\n",
       "      <th>127108</th>\n",
       "      <td>10647</td>\n",
       "      <td>SDS011</td>\n",
       "      <td>55.608</td>\n",
       "      <td>13.036</td>\n",
       "      <td>2019-01-01 11:58:42</td>\n",
       "      <td>23.42</td>\n",
       "      <td>4.75</td>\n",
       "    </tr>\n",
       "  </tbody>\n",
       "</table>\n",
       "</div>"
      ],
      "text/plain": [
       "        sensor_id sensor_namee     lat     lon           timestamp     p1  \\\n",
       "127104      16723       SDS011  57.736  11.894 2019-01-01 11:58:57  16.47   \n",
       "127105      16815       SDS011  59.462  18.040 2019-01-01 11:59:36   2.67   \n",
       "127106      17235       SDS011  59.272  17.780 2019-01-01 11:59:41   4.69   \n",
       "127107      10588       SDS011  55.676  13.346 2019-01-01 11:57:12  14.08   \n",
       "127108      10647       SDS011  55.608  13.036 2019-01-01 11:58:42  23.42   \n",
       "\n",
       "          p2  \n",
       "127104  3.40  \n",
       "127105  1.97  \n",
       "127106  1.82  \n",
       "127107  3.68  \n",
       "127108  4.75  "
      ]
     },
     "execution_count": 7,
     "metadata": {},
     "output_type": "execute_result"
    }
   ],
   "source": [
    "in_data.tail()"
   ]
  },
  {
   "cell_type": "code",
   "execution_count": 8,
   "metadata": {},
   "outputs": [],
   "source": [
    "in_data__with_epoch_times = in_data.copy()"
   ]
  },
  {
   "cell_type": "code",
   "execution_count": 9,
   "metadata": {},
   "outputs": [],
   "source": [
    "in_data__with_epoch_times['timestamp'] = in_data['timestamp'].astype( 'int64' )"
   ]
  },
  {
   "cell_type": "code",
   "execution_count": 10,
   "metadata": {},
   "outputs": [
    {
     "data": {
      "text/html": [
       "<div>\n",
       "<style scoped>\n",
       "    .dataframe tbody tr th:only-of-type {\n",
       "        vertical-align: middle;\n",
       "    }\n",
       "\n",
       "    .dataframe tbody tr th {\n",
       "        vertical-align: top;\n",
       "    }\n",
       "\n",
       "    .dataframe thead th {\n",
       "        text-align: right;\n",
       "    }\n",
       "</style>\n",
       "<table border=\"1\" class=\"dataframe\">\n",
       "  <thead>\n",
       "    <tr style=\"text-align: right;\">\n",
       "      <th></th>\n",
       "      <th>sensor_id</th>\n",
       "      <th>sensor_namee</th>\n",
       "      <th>lat</th>\n",
       "      <th>lon</th>\n",
       "      <th>timestamp</th>\n",
       "      <th>p1</th>\n",
       "      <th>p2</th>\n",
       "    </tr>\n",
       "  </thead>\n",
       "  <tbody>\n",
       "    <tr>\n",
       "      <th>0</th>\n",
       "      <td>7273</td>\n",
       "      <td>SDS011</td>\n",
       "      <td>60.002</td>\n",
       "      <td>17.846</td>\n",
       "      <td>1546257442000000000</td>\n",
       "      <td>3.43</td>\n",
       "      <td>1.56</td>\n",
       "    </tr>\n",
       "    <tr>\n",
       "      <th>1</th>\n",
       "      <td>7275</td>\n",
       "      <td>SDS011</td>\n",
       "      <td>57.720</td>\n",
       "      <td>11.888</td>\n",
       "      <td>1546257524000000000</td>\n",
       "      <td>482.77</td>\n",
       "      <td>33.82</td>\n",
       "    </tr>\n",
       "    <tr>\n",
       "      <th>2</th>\n",
       "      <td>7277</td>\n",
       "      <td>SDS011</td>\n",
       "      <td>59.266</td>\n",
       "      <td>15.230</td>\n",
       "      <td>1546257527000000000</td>\n",
       "      <td>5.48</td>\n",
       "      <td>2.47</td>\n",
       "    </tr>\n",
       "    <tr>\n",
       "      <th>3</th>\n",
       "      <td>7406</td>\n",
       "      <td>SDS011</td>\n",
       "      <td>56.964</td>\n",
       "      <td>24.128</td>\n",
       "      <td>1546257401000000000</td>\n",
       "      <td>11.05</td>\n",
       "      <td>6.62</td>\n",
       "    </tr>\n",
       "    <tr>\n",
       "      <th>4</th>\n",
       "      <td>7428</td>\n",
       "      <td>SDS011</td>\n",
       "      <td>59.868</td>\n",
       "      <td>17.624</td>\n",
       "      <td>1546257462000000000</td>\n",
       "      <td>1.78</td>\n",
       "      <td>1.02</td>\n",
       "    </tr>\n",
       "  </tbody>\n",
       "</table>\n",
       "</div>"
      ],
      "text/plain": [
       "   sensor_id sensor_namee     lat     lon            timestamp      p1     p2\n",
       "0       7273       SDS011  60.002  17.846  1546257442000000000    3.43   1.56\n",
       "1       7275       SDS011  57.720  11.888  1546257524000000000  482.77  33.82\n",
       "2       7277       SDS011  59.266  15.230  1546257527000000000    5.48   2.47\n",
       "3       7406       SDS011  56.964  24.128  1546257401000000000   11.05   6.62\n",
       "4       7428       SDS011  59.868  17.624  1546257462000000000    1.78   1.02"
      ]
     },
     "execution_count": 10,
     "metadata": {},
     "output_type": "execute_result"
    }
   ],
   "source": [
    "in_data__with_epoch_times.head()"
   ]
  },
  {
   "cell_type": "code",
   "execution_count": 11,
   "metadata": {},
   "outputs": [
    {
     "data": {
      "text/html": [
       "<div>\n",
       "<style scoped>\n",
       "    .dataframe tbody tr th:only-of-type {\n",
       "        vertical-align: middle;\n",
       "    }\n",
       "\n",
       "    .dataframe tbody tr th {\n",
       "        vertical-align: top;\n",
       "    }\n",
       "\n",
       "    .dataframe thead th {\n",
       "        text-align: right;\n",
       "    }\n",
       "</style>\n",
       "<table border=\"1\" class=\"dataframe\">\n",
       "  <thead>\n",
       "    <tr style=\"text-align: right;\">\n",
       "      <th></th>\n",
       "      <th>sensor_id</th>\n",
       "      <th>sensor_namee</th>\n",
       "      <th>lat</th>\n",
       "      <th>lon</th>\n",
       "      <th>timestamp</th>\n",
       "      <th>p1</th>\n",
       "      <th>p2</th>\n",
       "    </tr>\n",
       "  </thead>\n",
       "  <tbody>\n",
       "    <tr>\n",
       "      <th>127104</th>\n",
       "      <td>16723</td>\n",
       "      <td>SDS011</td>\n",
       "      <td>57.736</td>\n",
       "      <td>11.894</td>\n",
       "      <td>1546343937000000000</td>\n",
       "      <td>16.47</td>\n",
       "      <td>3.40</td>\n",
       "    </tr>\n",
       "    <tr>\n",
       "      <th>127105</th>\n",
       "      <td>16815</td>\n",
       "      <td>SDS011</td>\n",
       "      <td>59.462</td>\n",
       "      <td>18.040</td>\n",
       "      <td>1546343976000000000</td>\n",
       "      <td>2.67</td>\n",
       "      <td>1.97</td>\n",
       "    </tr>\n",
       "    <tr>\n",
       "      <th>127106</th>\n",
       "      <td>17235</td>\n",
       "      <td>SDS011</td>\n",
       "      <td>59.272</td>\n",
       "      <td>17.780</td>\n",
       "      <td>1546343981000000000</td>\n",
       "      <td>4.69</td>\n",
       "      <td>1.82</td>\n",
       "    </tr>\n",
       "    <tr>\n",
       "      <th>127107</th>\n",
       "      <td>10588</td>\n",
       "      <td>SDS011</td>\n",
       "      <td>55.676</td>\n",
       "      <td>13.346</td>\n",
       "      <td>1546343832000000000</td>\n",
       "      <td>14.08</td>\n",
       "      <td>3.68</td>\n",
       "    </tr>\n",
       "    <tr>\n",
       "      <th>127108</th>\n",
       "      <td>10647</td>\n",
       "      <td>SDS011</td>\n",
       "      <td>55.608</td>\n",
       "      <td>13.036</td>\n",
       "      <td>1546343922000000000</td>\n",
       "      <td>23.42</td>\n",
       "      <td>4.75</td>\n",
       "    </tr>\n",
       "  </tbody>\n",
       "</table>\n",
       "</div>"
      ],
      "text/plain": [
       "        sensor_id sensor_namee     lat     lon            timestamp     p1  \\\n",
       "127104      16723       SDS011  57.736  11.894  1546343937000000000  16.47   \n",
       "127105      16815       SDS011  59.462  18.040  1546343976000000000   2.67   \n",
       "127106      17235       SDS011  59.272  17.780  1546343981000000000   4.69   \n",
       "127107      10588       SDS011  55.676  13.346  1546343832000000000  14.08   \n",
       "127108      10647       SDS011  55.608  13.036  1546343922000000000  23.42   \n",
       "\n",
       "          p2  \n",
       "127104  3.40  \n",
       "127105  1.97  \n",
       "127106  1.82  \n",
       "127107  3.68  \n",
       "127108  4.75  "
      ]
     },
     "execution_count": 11,
     "metadata": {},
     "output_type": "execute_result"
    }
   ],
   "source": [
    "in_data__with_epoch_times.tail()\n"
   ]
  },
  {
   "cell_type": "code",
   "execution_count": 12,
   "metadata": {},
   "outputs": [
    {
     "data": {
      "text/plain": [
       "(127109,)"
      ]
     },
     "execution_count": 12,
     "metadata": {},
     "output_type": "execute_result"
    }
   ],
   "source": [
    "# test access to timestamps \n",
    "in_data__with_epoch_times__ONLY_TIMESTAMPS = in_data__with_epoch_times['timestamp']\n",
    "in_data__with_epoch_times__ONLY_TIMESTAMPS.shape"
   ]
  },
  {
   "cell_type": "code",
   "execution_count": 13,
   "metadata": {},
   "outputs": [
    {
     "data": {
      "text/plain": [
       "pandas.core.series.Series"
      ]
     },
     "execution_count": 13,
     "metadata": {},
     "output_type": "execute_result"
    }
   ],
   "source": [
    "type( in_data__with_epoch_times__ONLY_TIMESTAMPS  )"
   ]
  },
  {
   "cell_type": "code",
   "execution_count": 14,
   "metadata": {},
   "outputs": [
    {
     "data": {
      "text/plain": [
       "1546257442000000000"
      ]
     },
     "execution_count": 14,
     "metadata": {},
     "output_type": "execute_result"
    }
   ],
   "source": [
    "# testing how to access and element. \n",
    "# - seems a regular [] acess is fine \n",
    "in_data__with_epoch_times__ONLY_TIMESTAMPS[0]"
   ]
  },
  {
   "cell_type": "code",
   "execution_count": 15,
   "metadata": {},
   "outputs": [],
   "source": [
    "### various time operations"
   ]
  },
  {
   "cell_type": "code",
   "execution_count": 16,
   "metadata": {},
   "outputs": [
    {
     "data": {
      "text/plain": [
       "'2019-01-01 11:58:42'"
      ]
     },
     "execution_count": 16,
     "metadata": {},
     "output_type": "execute_result"
    }
   ],
   "source": [
    "end_time"
   ]
  },
  {
   "cell_type": "code",
   "execution_count": 17,
   "metadata": {},
   "outputs": [],
   "source": [
    "# generate the time slots when the data is sampled\n",
    "\n",
    "data_sampling_windows__time_periods = pd.date_range( end_time, freq=sampling_frequency,  \n",
    "periods=num_of_time_periods___for_basic_data+1)"
   ]
  },
  {
   "cell_type": "code",
   "execution_count": 18,
   "metadata": {},
   "outputs": [
    {
     "data": {
      "text/plain": [
       "DatetimeIndex(['2019-01-01 11:58:42', '2019-01-01 12:01:42',\n",
       "               '2019-01-01 12:04:42', '2019-01-01 12:07:42',\n",
       "               '2019-01-01 12:10:42', '2019-01-01 12:13:42',\n",
       "               '2019-01-01 12:16:42', '2019-01-01 12:19:42',\n",
       "               '2019-01-01 12:22:42', '2019-01-01 12:25:42',\n",
       "               ...\n",
       "               '2019-01-02 11:31:42', '2019-01-02 11:34:42',\n",
       "               '2019-01-02 11:37:42', '2019-01-02 11:40:42',\n",
       "               '2019-01-02 11:43:42', '2019-01-02 11:46:42',\n",
       "               '2019-01-02 11:49:42', '2019-01-02 11:52:42',\n",
       "               '2019-01-02 11:55:42', '2019-01-02 11:58:42'],\n",
       "              dtype='datetime64[ns]', length=481, freq='3T')"
      ]
     },
     "execution_count": 18,
     "metadata": {},
     "output_type": "execute_result"
    }
   ],
   "source": [
    "# check generated times\n",
    "data_sampling_windows__time_periods"
   ]
  },
  {
   "cell_type": "code",
   "execution_count": 19,
   "metadata": {},
   "outputs": [],
   "source": [
    "# then to 'go back in time' from the end date\n",
    "\n",
    "# adding the '+1' to avoid the off by one errors  \n",
    "data_sampling_windows__time_periods = data_sampling_windows__time_periods - ( num_of_time_periods___for_basic_data\n",
    " + 1 ) "
   ]
  },
  {
   "cell_type": "code",
   "execution_count": 20,
   "metadata": {},
   "outputs": [
    {
     "data": {
      "text/plain": [
       "Timestamp('2018-12-31 11:55:42', freq='3T')"
      ]
     },
     "execution_count": 20,
     "metadata": {},
     "output_type": "execute_result"
    }
   ],
   "source": [
    "data_sampling_windows__time_periods[0]"
   ]
  },
  {
   "cell_type": "code",
   "execution_count": 21,
   "metadata": {},
   "outputs": [
    {
     "data": {
      "text/plain": [
       "DatetimeIndex(['2018-12-31 11:55:42', '2018-12-31 11:58:42',\n",
       "               '2018-12-31 12:01:42', '2018-12-31 12:04:42',\n",
       "               '2018-12-31 12:07:42', '2018-12-31 12:10:42',\n",
       "               '2018-12-31 12:13:42', '2018-12-31 12:16:42',\n",
       "               '2018-12-31 12:19:42', '2018-12-31 12:22:42',\n",
       "               ...\n",
       "               '2019-01-01 11:28:42', '2019-01-01 11:31:42',\n",
       "               '2019-01-01 11:34:42', '2019-01-01 11:37:42',\n",
       "               '2019-01-01 11:40:42', '2019-01-01 11:43:42',\n",
       "               '2019-01-01 11:46:42', '2019-01-01 11:49:42',\n",
       "               '2019-01-01 11:52:42', '2019-01-01 11:55:42'],\n",
       "              dtype='datetime64[ns]', length=481, freq='3T')"
      ]
     },
     "execution_count": 21,
     "metadata": {},
     "output_type": "execute_result"
    }
   ],
   "source": [
    "data_sampling_windows__time_periods"
   ]
  },
  {
   "cell_type": "code",
   "execution_count": 22,
   "metadata": {},
   "outputs": [
    {
     "data": {
      "text/plain": [
       "(481,)"
      ]
     },
     "execution_count": 22,
     "metadata": {},
     "output_type": "execute_result"
    }
   ],
   "source": [
    "data_sampling_windows__time_periods.shape"
   ]
  },
  {
   "cell_type": "code",
   "execution_count": 23,
   "metadata": {},
   "outputs": [],
   "source": [
    "### Convert the timestamp to epcoh times"
   ]
  },
  {
   "cell_type": "code",
   "execution_count": 24,
   "metadata": {},
   "outputs": [],
   "source": [
    "data_sampling_windows__time_periods__as_epoch_times = data_sampling_windows__time_periods.astype( 'int64' )"
   ]
  },
  {
   "cell_type": "code",
   "execution_count": 25,
   "metadata": {},
   "outputs": [
    {
     "data": {
      "text/plain": [
       "Int64Index([1546257342000000000, 1546257522000000000, 1546257702000000000,\n",
       "            1546257882000000000, 1546258062000000000, 1546258242000000000,\n",
       "            1546258422000000000, 1546258602000000000, 1546258782000000000,\n",
       "            1546258962000000000,\n",
       "            ...\n",
       "            1546342122000000000, 1546342302000000000, 1546342482000000000,\n",
       "            1546342662000000000, 1546342842000000000, 1546343022000000000,\n",
       "            1546343202000000000, 1546343382000000000, 1546343562000000000,\n",
       "            1546343742000000000],\n",
       "           dtype='int64', length=481)"
      ]
     },
     "execution_count": 25,
     "metadata": {},
     "output_type": "execute_result"
    }
   ],
   "source": [
    "data_sampling_windows__time_periods__as_epoch_times"
   ]
  },
  {
   "cell_type": "code",
   "execution_count": null,
   "metadata": {},
   "outputs": [],
   "source": []
  },
  {
   "cell_type": "code",
   "execution_count": 26,
   "metadata": {},
   "outputs": [
    {
     "data": {
      "text/plain": [
       "Timestamp('2019-01-01 11:58:42')"
      ]
     },
     "execution_count": 26,
     "metadata": {},
     "output_type": "execute_result"
    }
   ],
   "source": [
    "end_time = pd.to_datetime( end_time )\n",
    "end_time"
   ]
  },
  {
   "cell_type": "code",
   "execution_count": 27,
   "metadata": {},
   "outputs": [
    {
     "data": {
      "text/plain": [
       "Timestamp('2018-12-31 11:55:42', freq='3T')"
      ]
     },
     "execution_count": 27,
     "metadata": {},
     "output_type": "execute_result"
    }
   ],
   "source": [
    "start_time = data_sampling_windows__time_periods[0]\n",
    "start_time"
   ]
  },
  {
   "cell_type": "code",
   "execution_count": 28,
   "metadata": {},
   "outputs": [
    {
     "data": {
      "text/plain": [
       "((127109, 7), (84702, 7))"
      ]
     },
     "execution_count": 28,
     "metadata": {},
     "output_type": "execute_result"
    }
   ],
   "source": [
    "### Fetch relevant time period, of data from csv \n",
    "\n",
    "relev_time_period = in_data[ in_data['timestamp'] >= start_time ]\n",
    "relev_time_period = relev_time_period[ relev_time_period['timestamp'] < end_time ]\n",
    "\n",
    "\n",
    "in_data.shape, relev_time_period.shape\n"
   ]
  },
  {
   "cell_type": "code",
   "execution_count": 29,
   "metadata": {},
   "outputs": [],
   "source": [
    "relev_time_period__with_epoch_times = relev_time_period.copy()\n",
    "relev_time_period__with_epoch_times['timestamp'] = relev_time_period['timestamp'].astype( 'int64' )"
   ]
  },
  {
   "cell_type": "code",
   "execution_count": 30,
   "metadata": {
    "scrolled": true
   },
   "outputs": [
    {
     "data": {
      "text/html": [
       "<div>\n",
       "<style scoped>\n",
       "    .dataframe tbody tr th:only-of-type {\n",
       "        vertical-align: middle;\n",
       "    }\n",
       "\n",
       "    .dataframe tbody tr th {\n",
       "        vertical-align: top;\n",
       "    }\n",
       "\n",
       "    .dataframe thead th {\n",
       "        text-align: right;\n",
       "    }\n",
       "</style>\n",
       "<table border=\"1\" class=\"dataframe\">\n",
       "  <thead>\n",
       "    <tr style=\"text-align: right;\">\n",
       "      <th></th>\n",
       "      <th>sensor_id</th>\n",
       "      <th>sensor_namee</th>\n",
       "      <th>lat</th>\n",
       "      <th>lon</th>\n",
       "      <th>timestamp</th>\n",
       "      <th>p1</th>\n",
       "      <th>p2</th>\n",
       "    </tr>\n",
       "  </thead>\n",
       "  <tbody>\n",
       "    <tr>\n",
       "      <th>0</th>\n",
       "      <td>7273</td>\n",
       "      <td>SDS011</td>\n",
       "      <td>60.002</td>\n",
       "      <td>17.846</td>\n",
       "      <td>2018-12-31 11:57:22</td>\n",
       "      <td>3.43</td>\n",
       "      <td>1.56</td>\n",
       "    </tr>\n",
       "    <tr>\n",
       "      <th>1</th>\n",
       "      <td>7275</td>\n",
       "      <td>SDS011</td>\n",
       "      <td>57.720</td>\n",
       "      <td>11.888</td>\n",
       "      <td>2018-12-31 11:58:44</td>\n",
       "      <td>482.77</td>\n",
       "      <td>33.82</td>\n",
       "    </tr>\n",
       "    <tr>\n",
       "      <th>2</th>\n",
       "      <td>7277</td>\n",
       "      <td>SDS011</td>\n",
       "      <td>59.266</td>\n",
       "      <td>15.230</td>\n",
       "      <td>2018-12-31 11:58:47</td>\n",
       "      <td>5.48</td>\n",
       "      <td>2.47</td>\n",
       "    </tr>\n",
       "    <tr>\n",
       "      <th>3</th>\n",
       "      <td>7406</td>\n",
       "      <td>SDS011</td>\n",
       "      <td>56.964</td>\n",
       "      <td>24.128</td>\n",
       "      <td>2018-12-31 11:56:41</td>\n",
       "      <td>11.05</td>\n",
       "      <td>6.62</td>\n",
       "    </tr>\n",
       "    <tr>\n",
       "      <th>4</th>\n",
       "      <td>7428</td>\n",
       "      <td>SDS011</td>\n",
       "      <td>59.868</td>\n",
       "      <td>17.624</td>\n",
       "      <td>2018-12-31 11:57:42</td>\n",
       "      <td>1.78</td>\n",
       "      <td>1.02</td>\n",
       "    </tr>\n",
       "  </tbody>\n",
       "</table>\n",
       "</div>"
      ],
      "text/plain": [
       "   sensor_id sensor_namee     lat     lon           timestamp      p1     p2\n",
       "0       7273       SDS011  60.002  17.846 2018-12-31 11:57:22    3.43   1.56\n",
       "1       7275       SDS011  57.720  11.888 2018-12-31 11:58:44  482.77  33.82\n",
       "2       7277       SDS011  59.266  15.230 2018-12-31 11:58:47    5.48   2.47\n",
       "3       7406       SDS011  56.964  24.128 2018-12-31 11:56:41   11.05   6.62\n",
       "4       7428       SDS011  59.868  17.624 2018-12-31 11:57:42    1.78   1.02"
      ]
     },
     "execution_count": 30,
     "metadata": {},
     "output_type": "execute_result"
    }
   ],
   "source": [
    "relev_time_period.head()"
   ]
  },
  {
   "cell_type": "code",
   "execution_count": 31,
   "metadata": {},
   "outputs": [
    {
     "data": {
      "text/html": [
       "<div>\n",
       "<style scoped>\n",
       "    .dataframe tbody tr th:only-of-type {\n",
       "        vertical-align: middle;\n",
       "    }\n",
       "\n",
       "    .dataframe tbody tr th {\n",
       "        vertical-align: top;\n",
       "    }\n",
       "\n",
       "    .dataframe thead th {\n",
       "        text-align: right;\n",
       "    }\n",
       "</style>\n",
       "<table border=\"1\" class=\"dataframe\">\n",
       "  <thead>\n",
       "    <tr style=\"text-align: right;\">\n",
       "      <th></th>\n",
       "      <th>sensor_id</th>\n",
       "      <th>sensor_namee</th>\n",
       "      <th>lat</th>\n",
       "      <th>lon</th>\n",
       "      <th>timestamp</th>\n",
       "      <th>p1</th>\n",
       "      <th>p2</th>\n",
       "    </tr>\n",
       "  </thead>\n",
       "  <tbody>\n",
       "    <tr>\n",
       "      <th>127083</th>\n",
       "      <td>19301</td>\n",
       "      <td>SDS011</td>\n",
       "      <td>59.362</td>\n",
       "      <td>12.152</td>\n",
       "      <td>2019-01-01 11:56:50</td>\n",
       "      <td>0.02</td>\n",
       "      <td>0.00</td>\n",
       "    </tr>\n",
       "    <tr>\n",
       "      <th>127097</th>\n",
       "      <td>12990</td>\n",
       "      <td>SDS011</td>\n",
       "      <td>57.692</td>\n",
       "      <td>11.958</td>\n",
       "      <td>2019-01-01 11:58:00</td>\n",
       "      <td>16.63</td>\n",
       "      <td>3.60</td>\n",
       "    </tr>\n",
       "    <tr>\n",
       "      <th>127101</th>\n",
       "      <td>16153</td>\n",
       "      <td>SDS011</td>\n",
       "      <td>55.648</td>\n",
       "      <td>13.208</td>\n",
       "      <td>2019-01-01 11:57:19</td>\n",
       "      <td>20.00</td>\n",
       "      <td>3.90</td>\n",
       "    </tr>\n",
       "    <tr>\n",
       "      <th>127103</th>\n",
       "      <td>16533</td>\n",
       "      <td>SDS011</td>\n",
       "      <td>55.722</td>\n",
       "      <td>13.202</td>\n",
       "      <td>2019-01-01 11:56:55</td>\n",
       "      <td>18.05</td>\n",
       "      <td>4.33</td>\n",
       "    </tr>\n",
       "    <tr>\n",
       "      <th>127107</th>\n",
       "      <td>10588</td>\n",
       "      <td>SDS011</td>\n",
       "      <td>55.676</td>\n",
       "      <td>13.346</td>\n",
       "      <td>2019-01-01 11:57:12</td>\n",
       "      <td>14.08</td>\n",
       "      <td>3.68</td>\n",
       "    </tr>\n",
       "  </tbody>\n",
       "</table>\n",
       "</div>"
      ],
      "text/plain": [
       "        sensor_id sensor_namee     lat     lon           timestamp     p1  \\\n",
       "127083      19301       SDS011  59.362  12.152 2019-01-01 11:56:50   0.02   \n",
       "127097      12990       SDS011  57.692  11.958 2019-01-01 11:58:00  16.63   \n",
       "127101      16153       SDS011  55.648  13.208 2019-01-01 11:57:19  20.00   \n",
       "127103      16533       SDS011  55.722  13.202 2019-01-01 11:56:55  18.05   \n",
       "127107      10588       SDS011  55.676  13.346 2019-01-01 11:57:12  14.08   \n",
       "\n",
       "          p2  \n",
       "127083  0.00  \n",
       "127097  3.60  \n",
       "127101  3.90  \n",
       "127103  4.33  \n",
       "127107  3.68  "
      ]
     },
     "execution_count": 31,
     "metadata": {},
     "output_type": "execute_result"
    }
   ],
   "source": [
    "relev_time_period.tail()"
   ]
  },
  {
   "cell_type": "code",
   "execution_count": 32,
   "metadata": {},
   "outputs": [
    {
     "data": {
      "text/html": [
       "<div>\n",
       "<style scoped>\n",
       "    .dataframe tbody tr th:only-of-type {\n",
       "        vertical-align: middle;\n",
       "    }\n",
       "\n",
       "    .dataframe tbody tr th {\n",
       "        vertical-align: top;\n",
       "    }\n",
       "\n",
       "    .dataframe thead th {\n",
       "        text-align: right;\n",
       "    }\n",
       "</style>\n",
       "<table border=\"1\" class=\"dataframe\">\n",
       "  <thead>\n",
       "    <tr style=\"text-align: right;\">\n",
       "      <th></th>\n",
       "      <th>sensor_id</th>\n",
       "      <th>sensor_namee</th>\n",
       "      <th>lat</th>\n",
       "      <th>lon</th>\n",
       "      <th>timestamp</th>\n",
       "      <th>p1</th>\n",
       "      <th>p2</th>\n",
       "    </tr>\n",
       "  </thead>\n",
       "  <tbody>\n",
       "    <tr>\n",
       "      <th>0</th>\n",
       "      <td>7273</td>\n",
       "      <td>SDS011</td>\n",
       "      <td>60.002</td>\n",
       "      <td>17.846</td>\n",
       "      <td>1546257442000000000</td>\n",
       "      <td>3.43</td>\n",
       "      <td>1.56</td>\n",
       "    </tr>\n",
       "    <tr>\n",
       "      <th>1</th>\n",
       "      <td>7275</td>\n",
       "      <td>SDS011</td>\n",
       "      <td>57.720</td>\n",
       "      <td>11.888</td>\n",
       "      <td>1546257524000000000</td>\n",
       "      <td>482.77</td>\n",
       "      <td>33.82</td>\n",
       "    </tr>\n",
       "    <tr>\n",
       "      <th>2</th>\n",
       "      <td>7277</td>\n",
       "      <td>SDS011</td>\n",
       "      <td>59.266</td>\n",
       "      <td>15.230</td>\n",
       "      <td>1546257527000000000</td>\n",
       "      <td>5.48</td>\n",
       "      <td>2.47</td>\n",
       "    </tr>\n",
       "    <tr>\n",
       "      <th>3</th>\n",
       "      <td>7406</td>\n",
       "      <td>SDS011</td>\n",
       "      <td>56.964</td>\n",
       "      <td>24.128</td>\n",
       "      <td>1546257401000000000</td>\n",
       "      <td>11.05</td>\n",
       "      <td>6.62</td>\n",
       "    </tr>\n",
       "    <tr>\n",
       "      <th>4</th>\n",
       "      <td>7428</td>\n",
       "      <td>SDS011</td>\n",
       "      <td>59.868</td>\n",
       "      <td>17.624</td>\n",
       "      <td>1546257462000000000</td>\n",
       "      <td>1.78</td>\n",
       "      <td>1.02</td>\n",
       "    </tr>\n",
       "  </tbody>\n",
       "</table>\n",
       "</div>"
      ],
      "text/plain": [
       "   sensor_id sensor_namee     lat     lon            timestamp      p1     p2\n",
       "0       7273       SDS011  60.002  17.846  1546257442000000000    3.43   1.56\n",
       "1       7275       SDS011  57.720  11.888  1546257524000000000  482.77  33.82\n",
       "2       7277       SDS011  59.266  15.230  1546257527000000000    5.48   2.47\n",
       "3       7406       SDS011  56.964  24.128  1546257401000000000   11.05   6.62\n",
       "4       7428       SDS011  59.868  17.624  1546257462000000000    1.78   1.02"
      ]
     },
     "execution_count": 32,
     "metadata": {},
     "output_type": "execute_result"
    }
   ],
   "source": [
    "# and the epoch version\n",
    "relev_time_period__with_epoch_times.head()"
   ]
  },
  {
   "cell_type": "code",
   "execution_count": 33,
   "metadata": {},
   "outputs": [
    {
     "data": {
      "text/html": [
       "<div>\n",
       "<style scoped>\n",
       "    .dataframe tbody tr th:only-of-type {\n",
       "        vertical-align: middle;\n",
       "    }\n",
       "\n",
       "    .dataframe tbody tr th {\n",
       "        vertical-align: top;\n",
       "    }\n",
       "\n",
       "    .dataframe thead th {\n",
       "        text-align: right;\n",
       "    }\n",
       "</style>\n",
       "<table border=\"1\" class=\"dataframe\">\n",
       "  <thead>\n",
       "    <tr style=\"text-align: right;\">\n",
       "      <th></th>\n",
       "      <th>sensor_id</th>\n",
       "      <th>sensor_namee</th>\n",
       "      <th>lat</th>\n",
       "      <th>lon</th>\n",
       "      <th>timestamp</th>\n",
       "      <th>p1</th>\n",
       "      <th>p2</th>\n",
       "    </tr>\n",
       "  </thead>\n",
       "  <tbody>\n",
       "    <tr>\n",
       "      <th>127083</th>\n",
       "      <td>19301</td>\n",
       "      <td>SDS011</td>\n",
       "      <td>59.362</td>\n",
       "      <td>12.152</td>\n",
       "      <td>1546343810000000000</td>\n",
       "      <td>0.02</td>\n",
       "      <td>0.00</td>\n",
       "    </tr>\n",
       "    <tr>\n",
       "      <th>127097</th>\n",
       "      <td>12990</td>\n",
       "      <td>SDS011</td>\n",
       "      <td>57.692</td>\n",
       "      <td>11.958</td>\n",
       "      <td>1546343880000000000</td>\n",
       "      <td>16.63</td>\n",
       "      <td>3.60</td>\n",
       "    </tr>\n",
       "    <tr>\n",
       "      <th>127101</th>\n",
       "      <td>16153</td>\n",
       "      <td>SDS011</td>\n",
       "      <td>55.648</td>\n",
       "      <td>13.208</td>\n",
       "      <td>1546343839000000000</td>\n",
       "      <td>20.00</td>\n",
       "      <td>3.90</td>\n",
       "    </tr>\n",
       "    <tr>\n",
       "      <th>127103</th>\n",
       "      <td>16533</td>\n",
       "      <td>SDS011</td>\n",
       "      <td>55.722</td>\n",
       "      <td>13.202</td>\n",
       "      <td>1546343815000000000</td>\n",
       "      <td>18.05</td>\n",
       "      <td>4.33</td>\n",
       "    </tr>\n",
       "    <tr>\n",
       "      <th>127107</th>\n",
       "      <td>10588</td>\n",
       "      <td>SDS011</td>\n",
       "      <td>55.676</td>\n",
       "      <td>13.346</td>\n",
       "      <td>1546343832000000000</td>\n",
       "      <td>14.08</td>\n",
       "      <td>3.68</td>\n",
       "    </tr>\n",
       "  </tbody>\n",
       "</table>\n",
       "</div>"
      ],
      "text/plain": [
       "        sensor_id sensor_namee     lat     lon            timestamp     p1  \\\n",
       "127083      19301       SDS011  59.362  12.152  1546343810000000000   0.02   \n",
       "127097      12990       SDS011  57.692  11.958  1546343880000000000  16.63   \n",
       "127101      16153       SDS011  55.648  13.208  1546343839000000000  20.00   \n",
       "127103      16533       SDS011  55.722  13.202  1546343815000000000  18.05   \n",
       "127107      10588       SDS011  55.676  13.346  1546343832000000000  14.08   \n",
       "\n",
       "          p2  \n",
       "127083  0.00  \n",
       "127097  3.60  \n",
       "127101  3.90  \n",
       "127103  4.33  \n",
       "127107  3.68  "
      ]
     },
     "execution_count": 33,
     "metadata": {},
     "output_type": "execute_result"
    }
   ],
   "source": [
    "relev_time_period__with_epoch_times.tail()"
   ]
  },
  {
   "cell_type": "code",
   "execution_count": 34,
   "metadata": {},
   "outputs": [],
   "source": [
    "# --- now loop through the different sensor datas"
   ]
  },
  {
   "cell_type": "code",
   "execution_count": null,
   "metadata": {},
   "outputs": [],
   "source": []
  },
  {
   "cell_type": "code",
   "execution_count": 35,
   "metadata": {},
   "outputs": [
    {
     "data": {
      "text/plain": [
       "(200,)"
      ]
     },
     "execution_count": 35,
     "metadata": {},
     "output_type": "execute_result"
    }
   ],
   "source": [
    "unique_sensor_ids = relev_time_period['sensor_id'].unique()\n",
    "unique_sensor_ids.shape"
   ]
  },
  {
   "cell_type": "code",
   "execution_count": 36,
   "metadata": {},
   "outputs": [
    {
     "data": {
      "text/plain": [
       "(        sensor_id sensor_namee     lat     lon            timestamp      p1  \\\n",
       " 0            7273       SDS011  60.002  17.846  1546257442000000000    3.43   \n",
       " 1            7275       SDS011  57.720  11.888  1546257524000000000  482.77   \n",
       " 2            7277       SDS011  59.266  15.230  1546257527000000000    5.48   \n",
       " 3            7406       SDS011  56.964  24.128  1546257401000000000   11.05   \n",
       " 4            7428       SDS011  59.868  17.624  1546257462000000000    1.78   \n",
       " 5            7469       SDS011  56.944  24.142  1546257472000000000    8.40   \n",
       " 6            7597       SDS011  59.320  18.064  1546257531000000000    3.68   \n",
       " 7            8683       SDS011  59.744  18.206  1546257508000000000    3.01   \n",
       " 8            9411       SDS011  59.266  15.230  1546257438000000000    3.44   \n",
       " 9            9436       SDS011  59.334  18.034  1546257442000000000    2.12   \n",
       " 10           9743       SDS011  57.664  12.054  1546257435000000000  268.58   \n",
       " 11           9797       SDS011  57.492  12.652  1546257532000000000   10.13   \n",
       " 12          10216       SDS011  59.674  16.838  1546257448000000000    3.94   \n",
       " 13          10250       SDS011  58.692  12.478  1546257518000000000   11.55   \n",
       " 14          10281       SDS011  59.472  18.048  1546257522000000000    5.18   \n",
       " 15          10430       SDS011  59.958  17.726  1546257455000000000    2.42   \n",
       " 16          10647       SDS011  55.608  13.036  1546257508000000000   14.65   \n",
       " 17          10721       SDS011  59.450  18.124  1546257474000000000    2.28   \n",
       " 18          10723       SDS011  59.298  18.052  1546257405000000000    4.90   \n",
       " 19          10803       SDS011  57.690  11.954  1546257487000000000   31.01   \n",
       " 20          10823       SDS011  59.332  18.034  1546257457000000000    3.78   \n",
       " 21          10825       SDS011  55.898  14.094  1546257475000000000    9.50   \n",
       " 22          10827       SDS011  59.334  13.512  1546257400000000000   11.45   \n",
       " 23          10843       SDS011  59.354  18.364  1546257526000000000    5.44   \n",
       " 24          10914       SDS011  61.450  23.858  1546257528000000000    1.97   \n",
       " 25          10922       SDS011  59.494  17.976  1546257446000000000    5.75   \n",
       " 26          10924       SDS011  59.860  17.652  1546257404000000000    2.58   \n",
       " 27          10926       SDS011  59.472  18.304  1546257426000000000    3.26   \n",
       " 28          11002       SDS011  55.796  13.090  1546257517000000000    6.34   \n",
       " 29          11004       SDS011  59.622  16.556  1546257533000000000    4.40   \n",
       " ...           ...          ...     ...     ...                  ...     ...   \n",
       " 127079      18826       SDS011  63.404  13.016  1546343975000000000   11.82   \n",
       " 127080      18836       SDS011  63.404  13.030  1546343979000000000   12.26   \n",
       " 127081      19119       SDS011  56.972  24.132  1546343793000000000   10.84   \n",
       " 127082      19207       SDS011  59.466  18.036  1546343900000000000    5.74   \n",
       " 127083      19301       SDS011  59.362  12.152  1546343810000000000    0.02   \n",
       " 127084       7273       SDS011  60.002  17.846  1546343974000000000    2.63   \n",
       " 127085      11232       SDS011  55.596  13.022  1546343986000000000   16.80   \n",
       " 127086      11374       SDS011  59.258  18.008  1546343980000000000    6.35   \n",
       " 127087      11378       SDS011  59.392  16.748  1546343987000000000    1.25   \n",
       " 127088      11445       SDS011  64.178  15.432  1546343991000000000    0.45   \n",
       " 127089      11546       SDS011  59.456  17.802  1546343985000000000    1.42   \n",
       " 127090      11663       SDS011  59.380  18.040  1546343988000000000    1.77   \n",
       " 127091      11769       SDS011  59.238  18.226  1546343996000000000    2.49   \n",
       " 127092      12383       SDS011  63.808  20.336  1546343980000000000    2.13   \n",
       " 127093      12387       SDS011  58.560  15.306  1546343992000000000    1.10   \n",
       " 127094      12673       SDS011  59.364  18.022  1546343989000000000    2.63   \n",
       " 127095      12675       SDS011  59.450  17.892  1546343987000000000    3.30   \n",
       " 127096      12691       SDS011  57.636  18.304  1546343995000000000    5.25   \n",
       " 127097      12990       SDS011  57.692  11.958  1546343880000000000   16.63   \n",
       " 127098      13012       SDS011  57.662  12.006  1546343998000000000    8.18   \n",
       " 127099      13020       SDS011  57.722  11.948  1546343981000000000   20.64   \n",
       " 127100      16147       SDS011  59.364  18.018  1546343986000000000    3.28   \n",
       " 127101      16153       SDS011  55.648  13.208  1546343839000000000   20.00   \n",
       " 127102      16296       SDS011  56.144  13.394  1546343999000000000   23.86   \n",
       " 127103      16533       SDS011  55.722  13.202  1546343815000000000   18.05   \n",
       " 127104      16723       SDS011  57.736  11.894  1546343937000000000   16.47   \n",
       " 127105      16815       SDS011  59.462  18.040  1546343976000000000    2.67   \n",
       " 127106      17235       SDS011  59.272  17.780  1546343981000000000    4.69   \n",
       " 127107      10588       SDS011  55.676  13.346  1546343832000000000   14.08   \n",
       " 127108      10647       SDS011  55.608  13.036  1546343922000000000   23.42   \n",
       " \n",
       "            p2  \n",
       " 0        1.56  \n",
       " 1       33.82  \n",
       " 2        2.47  \n",
       " 3        6.62  \n",
       " 4        1.02  \n",
       " 5        5.54  \n",
       " 6        2.00  \n",
       " 7        2.80  \n",
       " 8        2.18  \n",
       " 9        1.90  \n",
       " 10      29.05  \n",
       " 11       7.05  \n",
       " 12       2.75  \n",
       " 13       5.88  \n",
       " 14       3.12  \n",
       " 15       1.58  \n",
       " 16       5.10  \n",
       " 17       1.45  \n",
       " 18       2.76  \n",
       " 19       6.02  \n",
       " 20       2.05  \n",
       " 21       7.00  \n",
       " 22       6.00  \n",
       " 23       2.13  \n",
       " 24       1.88  \n",
       " 25       3.05  \n",
       " 26       1.16  \n",
       " 27       2.35  \n",
       " 28       3.08  \n",
       " 29       1.95  \n",
       " ...       ...  \n",
       " 127079   1.67  \n",
       " 127080   1.97  \n",
       " 127081   3.66  \n",
       " 127082   2.40  \n",
       " 127083   0.00  \n",
       " 127084   1.30  \n",
       " 127085   4.07  \n",
       " 127086   4.08  \n",
       " 127087   0.64  \n",
       " 127088   0.26  \n",
       " 127089   0.86  \n",
       " 127090   1.10  \n",
       " 127091   1.35  \n",
       " 127092   0.65  \n",
       " 127093   0.65  \n",
       " 127094   1.50  \n",
       " 127095   1.52  \n",
       " 127096   1.94  \n",
       " 127097   3.60  \n",
       " 127098   2.25  \n",
       " 127099   3.67  \n",
       " 127100   1.80  \n",
       " 127101   3.90  \n",
       " 127102   7.45  \n",
       " 127103   4.33  \n",
       " 127104   3.40  \n",
       " 127105   1.97  \n",
       " 127106   1.82  \n",
       " 127107   3.68  \n",
       " 127108   4.75  \n",
       " \n",
       " [127109 rows x 7 columns],)"
      ]
     },
     "execution_count": 36,
     "metadata": {},
     "output_type": "execute_result"
    }
   ],
   "source": [
    "# just here for storage… \n",
    "in_data__with_epoch_times,\n",
    "#data_sampling_windows__time_periods__as_epoch_times"
   ]
  },
  {
   "cell_type": "code",
   "execution_count": 37,
   "metadata": {},
   "outputs": [
    {
     "data": {
      "text/plain": [
       "(481,)"
      ]
     },
     "execution_count": 37,
     "metadata": {},
     "output_type": "execute_result"
    }
   ],
   "source": [
    "data_sampling_windows__time_periods__as_epoch_times.shape"
   ]
  },
  {
   "cell_type": "code",
   "execution_count": 38,
   "metadata": {},
   "outputs": [
    {
     "data": {
      "text/plain": [
       "1546257342000000000"
      ]
     },
     "execution_count": 38,
     "metadata": {},
     "output_type": "execute_result"
    }
   ],
   "source": [
    "# try how one can access the data… seems the normal [i] way is fine… \n",
    "data_sampling_windows__time_periods__as_epoch_times[0]"
   ]
  },
  {
   "cell_type": "code",
   "execution_count": 39,
   "metadata": {},
   "outputs": [
    {
     "data": {
      "text/plain": [
       "numpy.int64"
      ]
     },
     "execution_count": 39,
     "metadata": {},
     "output_type": "execute_result"
    }
   ],
   "source": [
    "type( in_data__with_epoch_times.iloc[0]['timestamp'] )\n",
    "# in_data__with_epoch_times.iloc[0]['timestamp']\n"
   ]
  },
  {
   "cell_type": "code",
   "execution_count": 40,
   "metadata": {},
   "outputs": [
    {
     "data": {
      "text/plain": [
       "numpy.int64"
      ]
     },
     "execution_count": 40,
     "metadata": {},
     "output_type": "execute_result"
    }
   ],
   "source": [
    "type( data_sampling_windows__time_periods__as_epoch_times[0] )\n",
    "# data_sampling_windows__time_periods__as_epoch_times[0]"
   ]
  },
  {
   "cell_type": "code",
   "execution_count": 41,
   "metadata": {},
   "outputs": [
    {
     "data": {
      "text/plain": [
       "numpy.int64"
      ]
     },
     "execution_count": 41,
     "metadata": {},
     "output_type": "execute_result"
    }
   ],
   "source": [
    "# TEST AREA \n",
    "curr_sensor_id_measurements__only_timestamps = in_data__with_epoch_times['timestamp']\n",
    "type( curr_sensor_id_measurements__only_timestamps )\n",
    "type( curr_sensor_id_measurements__only_timestamps[0] )"
   ]
  },
  {
   "cell_type": "code",
   "execution_count": 42,
   "metadata": {},
   "outputs": [
    {
     "data": {
      "text/plain": [
       "'Mon Dec 31 12:55:42 2018'"
      ]
     },
     "execution_count": 42,
     "metadata": {},
     "output_type": "execute_result"
    }
   ],
   "source": [
    "# TEST AREA  - start time of data sampling periods\n",
    "time.ctime( data_sampling_windows__time_periods__as_epoch_times[0] / (10**9) )"
   ]
  },
  {
   "cell_type": "code",
   "execution_count": 43,
   "metadata": {},
   "outputs": [
    {
     "data": {
      "text/plain": [
       "'Tue Jan  1 12:55:42 2019'"
      ]
     },
     "execution_count": 43,
     "metadata": {},
     "output_type": "execute_result"
    }
   ],
   "source": [
    "# TEST AREA - end time of data sampling periods\n",
    "time.ctime( data_sampling_windows__time_periods__as_epoch_times[-1] / (10**9) )"
   ]
  },
  {
   "cell_type": "markdown",
   "metadata": {},
   "source": [
    "### REMAKE of big loop"
   ]
  },
  {
   "cell_type": "code",
   "execution_count": null,
   "metadata": {},
   "outputs": [],
   "source": []
  },
  {
   "cell_type": "code",
   "execution_count": null,
   "metadata": {},
   "outputs": [],
   "source": []
  },
  {
   "cell_type": "code",
   "execution_count": null,
   "metadata": {},
   "outputs": [],
   "source": []
  },
  {
   "cell_type": "code",
   "execution_count": 57,
   "metadata": {},
   "outputs": [
    {
     "name": "stdout",
     "output_type": "stream",
     "text": [
      "-- working on sensor id 7273 |  0/200\n",
      "- done after 2.25045108795166 seconds \n"
     ]
    }
   ],
   "source": [
    "# temporary storage location for out arrays \n",
    "out_array_w_generated_periodic_data_arrays = []\n",
    "\n",
    "# prepare the out array, beforhand\n",
    "## curr_sensor_measurements_for_all_time_periods = np.zeros( data_sampling_windows__time_periods.shape[0] )\n",
    "\n",
    "curr_sensor_id_i = 0\n",
    "\n",
    "starttime = time.time() \n",
    "\n",
    "# DECLARING HERE FOR TESTING \n",
    "curr_sensor_measurements_for_all_time_periods = []\n",
    "\n",
    "# Loop through the different sensor ( numbers )\n",
    "for sensor_id_ in unique_sensor_ids[:1]:\n",
    "    print(\"-- working on sensor id \"+str( sensor_id_ )+\" |  \"+str( curr_sensor_id_i )+\"/\"+str( unique_sensor_ids.shape[0] )  )\n",
    "    curr_sensor_id_i = curr_sensor_id_i + 1\n",
    "    \n",
    "    # fetch the measurements for this sensor id\n",
    "    curr_sensor_id_measurements = relev_time_period__with_epoch_times[ relev_time_period['sensor_id'] == sensor_id_  ]\n",
    "\n",
    "    # sort sensor data by time \n",
    "    curr_sensor_id_measurements = curr_sensor_id_measurements.sort_values( by=['timestamp'])\n",
    "    \n",
    "    # make separate arrays for different kinds of values\n",
    "    curr_sensor__timestamp_values__only = curr_sensor_id_measurements['timestamp']\n",
    "    curr_sensor__p1_values__only = curr_sensor_id_measurements['p1']\n",
    "    curr_sensor__p2_values__only = curr_sensor_id_measurements['p2']    \n",
    "    ### print( curr_sensor__timestamp_values__only )\n",
    "    ### print( curr_sensor__timestamp_values__only[0] )  \n",
    "    \n",
    "    # make an array with enough slots for all time periods\n",
    "    # SAVE DATA HERE\n",
    "    curr_sensor_measurements_for_all_time_periods = np.zeros( data_sampling_windows__time_periods__as_epoch_times.shape[0] )\n",
    "    \n",
    "    ### print( curr_sensor_measurements_for_all_time_periods )\n",
    "    \n",
    "    #\n",
    "    # LOOP \n",
    "    # - go through the sensor (time) values \n",
    "    # -- and later loop through the available \n",
    "    # -- time slots, and see if the currnet time value\n",
    "    # -- fits in the given slot.\n",
    "    # -- if it does, then 'save' it into the array\n",
    "    # -- of relevant measurements, in the relevant slot\n",
    "    \n",
    "    for curr_sensor_measurement_i in range( curr_sensor__timestamp_values__only.shape[0] ):\n",
    "        \n",
    "        ### print( \"\\n -- -- working on sensor measurment #\"+str( curr_sensor_measurement_i ) )\n",
    "        ### print( \" -- -- which is at time \"+str( curr_sensor__timestamp_values__only.iat[curr_sensor_measurement_i] ))\n",
    "\n",
    "        #\n",
    "        # LOOP\n",
    "        # - through available time slots\n",
    "        # - checking if the current measurement time \n",
    "        # - is within the relevant time slot(s)\n",
    "\n",
    "        # set a variable to keep track which time slot\n",
    "        # we checked last.\n",
    "        # thus we don't need to check earlier values\n",
    "        index_of_last_found_time_slot = 0\n",
    "\n",
    "        # looop then… \n",
    "        for curr_out_time_slot_i in range( index_of_last_found_time_slot, data_sampling_windows__time_periods__as_epoch_times.shape[0]-1 ):\n",
    "        \n",
    "            ### print(\"\\n -- -- -- checking if measurement at time \"+str( curr_sensor__timestamp_values__only.iat[curr_sensor_measurement_i] ) )\n",
    "            ### print(\" -- -- -- if in this time slot, of index #\"+str( curr_sensor_measurement_i ) )\n",
    "            ### print(\" -- -- -- btw times (\"+str(curr_out_time_slot_i)+\") \"+str( data_sampling_windows__time_periods__as_epoch_times[ curr_out_time_slot_i ] ) )\n",
    "            ### print(\" -- -- -- and \"+str( data_sampling_windows__time_periods__as_epoch_times[ curr_out_time_slot_i + 1 ] ) )\n",
    "\n",
    "            if curr_sensor__timestamp_values__only.iat[curr_sensor_measurement_i] > data_sampling_windows__time_periods__as_epoch_times[ curr_out_time_slot_i ] and curr_sensor__timestamp_values__only.iat[curr_sensor_measurement_i] < data_sampling_windows__time_periods__as_epoch_times[ curr_out_time_slot_i + 1]:\n",
    "                \n",
    "                ### print(\"\\n YAY! - found currnet measurement time ( i = \"+str(curr_sensor_measurement_i)+\", between the slots \"+str(curr_out_time_slot_i)+\"-\"+str(curr_out_time_slot_i+1) )\n",
    "                \n",
    "                curr_sensor_measurements_for_all_time_periods[ curr_out_time_slot_i ] = curr_sensor__p1_values__only.iat[ curr_sensor_measurement_i ]\n",
    "                \n",
    "                \n",
    "                \n",
    "    \n",
    "\"\"\"\n",
    "    # make an array with enough slots for all time periods\n",
    "    curr_sensor_measurements_for_all_time_periods = np.zeros( data_sampling_windows__time_periods__as_epoch_times.shape[0] )\n",
    "    ## print(\" --- curr_sensor_measurements_for_all_time_periods.shape = \"+str( curr_sensor_measurements_for_all_time_periods.shape ))\n",
    "    ## print( curr_sensor_measurements_for_all_time_periods )\n",
    "    \n",
    "    # loop through all values in the data \n",
    "    for curr_sensor_measurements_row_i in range( curr_sensor_id_measurements__only_timestamps.shape[0] ):\n",
    "    ### for curr_sensor_measurements_row_i in range( 20 ):\n",
    "    \n",
    "        print(\"\\n -- -- working on measurement #\"+str( curr_sensor_measurements_row_i )+\" (pm2.5/10  : \"+str(curr_sensor_id_measurements__only_p1_vals.iloc[ curr_sensor_measurements_row_i]) ) \n",
    "        # print(\"\\t\\t /\"+str(curr_sensor_id_measurements__only_p2_vals[ curr_sensor_measurements_row_i]) )\n",
    "        # print( \"\\t\\t ) - with timestamp \"+str( curr_sensor_id_measurements__only_timestamps.iloc[ curr_sensor_measurements_row_i ] ) )\n",
    "        \n",
    "        # loop through the available timestamps, and see whether the current time stamp\n",
    "        # is within these. \n",
    "        # - if it is, then insert it at the appropiate current index \n",
    "        # in the out array\n",
    "        \n",
    "        # optimisation variable to remember where the last \n",
    "        # value was found, in time\n",
    "        # - the idea is that we start the next search in time indicies, \n",
    "        #   only after the last found position, so we can skip checking the previous positions \n",
    "        last_found_time_index = 0 \n",
    "        \n",
    "        # note the optimisation above and below \n",
    "        for all_relev_timestamps_array__current_index in range( last_found_time_index, data_sampling_windows__time_periods__as_epoch_times.shape[0]-1 ):\n",
    "        ### unoptimised edition : \n",
    "        ### for all_relev_timestamps_array__current_index in range( data_sampling_windows__time_periods__as_epoch_times.shape[0]-1 ):\n",
    "        ### for all_relev_timestamps_array__current_index in range( 100 ):\n",
    "        \n",
    "            ### print(\"-- -- -- looping through available timestamps - loooking at index #\"+str( all_relev_timestamps_array__current_index )+\" : timestamp \"+str( data_sampling_windows__time_periods__as_epoch_times[ all_relev_timestamps_array__current_index ] ))\n",
    "        \n",
    "        #\n",
    "            if curr_sensor_id_measurements__only_timestamps[ curr_sensor_measurements_row_i ] > data_sampling_windows__time_periods__as_epoch_times[ all_relev_timestamps_array__current_index ] and curr_sensor_id_measurements__only_timestamps[ curr_sensor_measurements_row_i ] < data_sampling_windows__time_periods__as_epoch_times[ all_relev_timestamps_array__current_index +1 ] :\n",
    "                \n",
    "                print( \" -- -- -- -- YAY! the current timestamp ( \"+str(  curr_sensor_id_measurements__only_timestamps[ curr_sensor_measurements_row_i ]  ) )\n",
    "                print( \"\\t\\t\\t\\t is within the specified time ranges, at index \"+str( all_relev_timestamps_array__current_index ) )\n",
    "                print( \"\\t\\t\\t\\t amongst the possible time periods data. ie. btw \"+str( data_sampling_windows__time_periods__as_epoch_times[ all_relev_timestamps_array__current_index ]) )\n",
    "                print( \"\\t\\t\\t\\t and \"+str( data_sampling_windows__time_periods__as_epoch_times[ all_relev_timestamps_array__current_index +1 ] ) )\n",
    "        \n",
    "                # assign the current PM value as appropriate \n",
    "                curr_sensor_measurements_for_all_time_periods[ all_relev_timestamps_array__current_index ] = curr_sensor_id_measurements__only_p1_vals.iloc[ curr_sensor_measurements_row_i ]\n",
    "                \n",
    "                # set the variable suggesting which position \n",
    "                # the timestamp was found in, \n",
    "                # and which position the next search should start from \n",
    "                last_found_time_index = all_relev_timestamps_array__current_index\n",
    "                \n",
    "                #\n",
    "                # no need to continue finding possible time slots - just break\n",
    "                break\n",
    "                \n",
    "    # END OF DIFFERENT SENSOR LOOPING\n",
    "    # print the resulting values slotted array - ie array with slots \n",
    "    # for values, formatted according to time slots\n",
    "    ## print( \" <<< resulting periodic values array : \")\n",
    "    ## print( curr_sensor_measurements_for_all_time_periods )\n",
    "    out_array_w_generated_periodic_data_arrays.append( curr_sensor_measurements_for_all_time_periods )\n",
    "    \n",
    "\"\"\"\n",
    "                \n",
    "# ende\n",
    "print( \"- done after \"+str( time.time() - starttime )+\" seconds \" )\n",
    "\n",
    "\n"
   ]
  },
  {
   "cell_type": "code",
   "execution_count": 54,
   "metadata": {},
   "outputs": [
    {
     "data": {
      "text/plain": [
       "array([-1., -1.,  0., -1., -1., -1., -1.,  0., -1., -1., -1., -1., -1.,\n",
       "       -1., -1., -1.,  0., -1., -1., -1., -1.,  0., -1., -1., -1., -1.,\n",
       "        0., -1., -1., -1., -1.,  0., -1., -1., -1., -1.,  0., -1., -1.,\n",
       "       -1., -1., -1., -1., -1., -1., -1., -1., -1., -1., -1.,  0., -1.,\n",
       "       -1., -1., -1.,  0., -1., -1., -1., -1.,  0., -1., -1., -1., -1.,\n",
       "       -1., -1., -1., -1.,  0., -1., -1., -1., -1.,  0., -1., -1., -1.,\n",
       "       -1., -1., -1., -1., -1., -1., -1., -1., -1., -1.,  0., -1., -1.,\n",
       "       -1., -1.,  0.,  0., -1., -1., -1., -1., -1., -1., -1., -1.,  0.,\n",
       "       -1., -1., -1., -1.,  0., -1., -1., -1., -1.,  0., -1., -1., -1.,\n",
       "       -1., -1., -1., -1., -1.,  0., -1., -1., -1., -1.,  0., -1., -1.,\n",
       "       -1., -1., -1., -1., -1., -1., -1., -1., -1., -1., -1., -1., -1.,\n",
       "       -1., -1., -1., -1.,  0., -1., -1., -1., -1.,  0., -1., -1., -1.,\n",
       "       -1., -1., -1., -1., -1.,  0., -1., -1., -1., -1.,  0., -1., -1.,\n",
       "       -1., -1.,  0., -1., -1., -1., -1., -1., -1., -1., -1.,  0., -1.,\n",
       "       -1., -1., -1.,  0., -1., -1., -1., -1.,  0., -1., -1., -1., -1.,\n",
       "        0., -1., -1., -1., -1., -1., -1., -1., -1., -1., -1., -1., -1.,\n",
       "       -1.,  0., -1., -1., -1., -1.,  0., -1., -1., -1., -1.,  0., -1.,\n",
       "       -1., -1., -1.,  0., -1., -1., -1., -1.,  0., -1., -1., -1., -1.,\n",
       "        0., -1., -1., -1., -1.,  0., -1., -1., -1., -1.,  0., -1., -1.,\n",
       "       -1., -1., -1., -1., -1., -1.,  0., -1., -1., -1., -1.,  0., -1.,\n",
       "       -1., -1., -1., -1., -1., -1., -1.,  0., -1., -1., -1., -1.,  0.,\n",
       "       -1., -1., -1., -1.,  0., -1., -1., -1., -1., -1., -1., -1., -1.,\n",
       "        0., -1., -1., -1., -1.,  0., -1., -1., -1., -1., -1., -1., -1.,\n",
       "       -1.,  0., -1., -1., -1., -1.,  0., -1., -1., -1., -1.,  0., -1.,\n",
       "       -1., -1., -1., -1., -1., -1., -1.,  0., -1., -1., -1., -1.,  0.,\n",
       "       -1., -1., -1., -1., -1., -1., -1., -1.,  0., -1., -1., -1., -1.,\n",
       "        0., -1., -1., -1., -1., -1., -1., -1., -1., -1., -1., -1., -1.,\n",
       "       -1.,  0., -1., -1., -1., -1.,  0., -1., -1., -1., -1.,  0., -1.,\n",
       "       -1., -1., -1., -1., -1., -1., -1.,  0., -1., -1., -1., -1.,  0.,\n",
       "       -1., -1., -1., -1., -1., -1., -1., -1., -1., -1., -1., -1.,  0.,\n",
       "       -1.,  0., -1., -1., -1., -1.,  0., -1., -1., -1., -1., -1., -1.,\n",
       "       -1., -1., -1., -1., -1., -1., -1.,  0., -1., -1., -1., -1.,  0.,\n",
       "       -1., -1., -1., -1., -1., -1., -1., -1.,  0., -1., -1., -1., -1.,\n",
       "        0., -1., -1., -1., -1.,  0., -1., -1., -1., -1., -1., -1., -1.,\n",
       "       -1., -1., -1., -1., -1., -1.,  0., -1., -1., -1., -1.,  0., -1.,\n",
       "       -1., -1., -1.,  0., -1., -1., -1., -1., -1., -1., -1., -1.,  0.,\n",
       "       -1., -1., -1., -1.,  0., -1., -1., -1., -1., -1., -1., -1.,  0.])"
      ]
     },
     "execution_count": 54,
     "metadata": {},
     "output_type": "execute_result"
    }
   ],
   "source": [
    "curr_sensor_measurements_for_all_time_periods"
   ]
  },
  {
   "cell_type": "code",
   "execution_count": null,
   "metadata": {},
   "outputs": [],
   "source": []
  },
  {
   "cell_type": "code",
   "execution_count": null,
   "metadata": {},
   "outputs": [],
   "source": [
    "curr_sensor_measurements_for_all_time_periods"
   ]
  },
  {
   "cell_type": "code",
   "execution_count": null,
   "metadata": {},
   "outputs": [],
   "source": [
    "len( out_array_w_generated_periodic_data_arrays )"
   ]
  },
  {
   "cell_type": "code",
   "execution_count": null,
   "metadata": {},
   "outputs": [],
   "source": [
    "out_array_w_generated_periodic_data_arrays"
   ]
  },
  {
   "cell_type": "code",
   "execution_count": null,
   "metadata": {},
   "outputs": [],
   "source": []
  },
  {
   "cell_type": "code",
   "execution_count": null,
   "metadata": {},
   "outputs": [],
   "source": []
  },
  {
   "cell_type": "markdown",
   "metadata": {},
   "source": [
    "## trying a remake with numpy "
   ]
  },
  {
   "cell_type": "code",
   "execution_count": 64,
   "metadata": {},
   "outputs": [
    {
     "name": "stdout",
     "output_type": "stream",
     "text": [
      "-- working on sensor id 7273 |  0/200\n",
      "-- working on sensor id 7275 |  1/200\n",
      "-- working on sensor id 7277 |  2/200\n",
      "-- working on sensor id 7406 |  3/200\n",
      "-- working on sensor id 7428 |  4/200\n",
      "-- working on sensor id 7469 |  5/200\n",
      "-- working on sensor id 7597 |  6/200\n",
      "-- working on sensor id 8683 |  7/200\n",
      "-- working on sensor id 9411 |  8/200\n",
      "-- working on sensor id 9436 |  9/200\n",
      "- done after 3.023221015930176 seconds \n"
     ]
    }
   ],
   "source": [
    "# temporary storage location for out arrays \n",
    "out_array_w_generated_periodic_data_arrays = []\n",
    "\n",
    "# prepare the out array, beforhand\n",
    "## curr_sensor_measurements_for_all_time_periods = np.zeros( data_sampling_windows__time_periods.shape[0] )\n",
    "\n",
    "curr_sensor_id_i = 0\n",
    "\n",
    "starttime = time.time() \n",
    "\n",
    "# DECLARING HERE FOR TESTING \n",
    "curr_sensor_measurements_for_all_time_periods = []\n",
    "\n",
    "# Loop through the different sensor ( numbers )\n",
    "for sensor_id_ in unique_sensor_ids[:10]:\n",
    "    print(\"-- working on sensor id \"+str( sensor_id_ )+\" |  \"+str( curr_sensor_id_i )+\"/\"+str( unique_sensor_ids.shape[0] )  )\n",
    "    curr_sensor_id_i = curr_sensor_id_i + 1\n",
    "    \n",
    "    # fetch the measurements for this sensor id\n",
    "    curr_sensor_id_measurements = relev_time_period__with_epoch_times[ relev_time_period['sensor_id'] == sensor_id_  ]\n",
    "\n",
    "    # sort sensor data by time \n",
    "    curr_sensor_id_measurements = curr_sensor_id_measurements.sort_values( by=['timestamp'])\n",
    "    \n",
    "    # make separate arrays for different kinds of values\n",
    "    curr_sensor__timestamp_values__only = np.array( curr_sensor_id_measurements['timestamp'] )\n",
    "    curr_sensor__p1_values__only = np.array(  curr_sensor_id_measurements['p1'] )\n",
    "    curr_sensor__p2_values__only = np.array(  curr_sensor_id_measurements['p2'] ) \n",
    "    ### print( curr_sensor__timestamp_values__only )\n",
    "    ### print( curr_sensor__timestamp_values__only[0] )  \n",
    "    \n",
    "    # make an array with enough slots for all time periods\n",
    "    # SAVE DATA HERE\n",
    "    curr_sensor_measurements_for_all_time_periods = np.zeros( data_sampling_windows__time_periods__as_epoch_times.shape[0] )\n",
    "    \n",
    "    ### print( curr_sensor_measurements_for_all_time_periods )\n",
    "    \n",
    "    #\n",
    "    # LOOP \n",
    "    # - go through the sensor (time) values \n",
    "    # -- and later loop through the available \n",
    "    # -- time slots, and see if the currnet time value\n",
    "    # -- fits in the given slot.\n",
    "    # -- if it does, then 'save' it into the array\n",
    "    # -- of relevant measurements, in the relevant slot\n",
    "    \n",
    "    for curr_sensor_measurement_i in range( curr_sensor__timestamp_values__only.shape[0] ):\n",
    "        \n",
    "        ### print( \"\\n -- -- working on sensor measurment #\"+str( curr_sensor_measurement_i ) )\n",
    "        ### print( \" -- -- which is at time \"+str( curr_sensor__timestamp_values__only.iat[curr_sensor_measurement_i] ))\n",
    "\n",
    "        #\n",
    "        # LOOP\n",
    "        # - through available time slots\n",
    "        # - checking if the current measurement time \n",
    "        # - is within the relevant time slot(s)\n",
    "\n",
    "        # set a variable to keep track which time slot\n",
    "        # we checked last.\n",
    "        # thus we don't need to check earlier values\n",
    "        index_of_last_found_time_slot = 0\n",
    "\n",
    "        # looop then… \n",
    "        for curr_out_time_slot_i in range( index_of_last_found_time_slot, data_sampling_windows__time_periods__as_epoch_times.shape[0]-1 ):\n",
    "        \n",
    "            ### print(\"\\n -- -- -- checking if measurement at time \"+str( curr_sensor__timestamp_values__only.iat[curr_sensor_measurement_i] ) )\n",
    "            ### print(\" -- -- -- if in this time slot, of index #\"+str( curr_sensor_measurement_i ) )\n",
    "            ### print(\" -- -- -- btw times (\"+str(curr_out_time_slot_i)+\") \"+str( data_sampling_windows__time_periods__as_epoch_times[ curr_out_time_slot_i ] ) )\n",
    "            ### print(\" -- -- -- and \"+str( data_sampling_windows__time_periods__as_epoch_times[ curr_out_time_slot_i + 1 ] ) )\n",
    "\n",
    "            if curr_sensor__timestamp_values__only[curr_sensor_measurement_i] > data_sampling_windows__time_periods__as_epoch_times[ curr_out_time_slot_i ] and curr_sensor__timestamp_values__only[curr_sensor_measurement_i] < data_sampling_windows__time_periods__as_epoch_times[ curr_out_time_slot_i + 1]:\n",
    "                \n",
    "                ### print(\"\\n YAY! - found currnet measurement time ( i = \"+str(curr_sensor_measurement_i)+\", between the slots \"+str(curr_out_time_slot_i)+\"-\"+str(curr_out_time_slot_i+1) )\n",
    "                \n",
    "                curr_sensor_measurements_for_all_time_periods[ curr_out_time_slot_i ] = curr_sensor__p1_values__only[ curr_sensor_measurement_i ]\n",
    "                \n",
    "                \n",
    "# ende\n",
    "print( \"- done after \"+str( time.time() - starttime )+\" seconds \" )\n",
    "\n",
    "\n"
   ]
  },
  {
   "cell_type": "code",
   "execution_count": 61,
   "metadata": {},
   "outputs": [
    {
     "data": {
      "text/plain": [
       "array([  3.43,   3.78,   0.  ,   3.45,   2.1 ,   1.45,   2.02,   0.  ,\n",
       "         2.  ,   2.45,   2.58,   3.67,   2.3 ,   2.8 ,   2.74,   3.  ,\n",
       "         0.  ,   2.46,   3.2 ,   3.28,   2.14,   0.  ,   2.25,   2.5 ,\n",
       "         2.04,   2.11,   0.  ,   2.22,   2.16,   3.43,   3.92,   0.  ,\n",
       "         3.67,   3.43,   3.78,   3.47,   0.  ,   3.95,   3.7 ,   4.3 ,\n",
       "         3.68,   3.35,   3.54,   2.82,   2.78,   3.18,   3.8 ,   3.7 ,\n",
       "         3.17,   2.48,   0.  ,  24.2 ,  28.6 ,  36.15,  56.58,   0.  ,\n",
       "         9.7 ,  11.85,   7.  ,   6.12,   0.  ,   6.96,   3.76,   7.76,\n",
       "        28.13,  13.18,   4.42,   5.92,   6.25,   0.  , 455.  , 569.68,\n",
       "       128.9 ,  16.56,   0.  ,  11.36,  13.7 ,  23.78,  22.02,  14.3 ,\n",
       "         8.06,   2.62,   3.1 ,   4.08,   2.15,   2.06,   3.2 ,   3.8 ,\n",
       "         0.  ,   3.6 ,   3.65,   2.85,   2.37,   0.  ,   0.  , 157.77,\n",
       "       107.95,  77.23,  76.95,  33.72,  42.24,  18.16,   9.18,   0.  ,\n",
       "        13.89,  38.6 ,  96.7 ,  71.92,   0.  ,  31.08,   8.12,   6.35,\n",
       "         3.88,   0.  ,   3.04,   2.77,  39.67,  41.94,  32.36,  26.32,\n",
       "        28.72,  26.3 ,   0.  ,   7.3 ,   7.02,   7.98,  11.05,   0.  ,\n",
       "         2.4 ,   2.4 ,   2.14,   1.8 ,   1.6 ,   1.34,   1.56,   1.85,\n",
       "         1.58,   1.8 ,   1.65,   1.84,   1.97,   2.17,   1.95,   2.77,\n",
       "         2.18,   1.76,   2.4 ,   0.  ,   2.94,   3.84,   3.67,   2.5 ,\n",
       "         0.  ,   2.48,   2.35,   2.  ,   2.67,   3.15,   3.8 ,   3.04,\n",
       "         2.32,   0.  ,   3.85,   2.98,   3.94,   4.05,   0.  ,   4.31,\n",
       "         3.78,   4.03,   4.98,   0.  ,   6.04,   6.8 ,   8.86,   7.83,\n",
       "         5.43,   6.3 ,   6.98,   6.38,   0.  ,   7.65,   7.12,   7.22,\n",
       "         7.74,   0.  ,   6.02,   8.55,  10.76,  11.03,   0.  ,   7.88,\n",
       "         8.02,   8.9 ,   9.88,   0.  ,   9.38,   9.02,   9.75,  10.4 ,\n",
       "        12.32,  13.94,  11.4 ,  10.14,  11.58,  11.54,  10.88,  10.07,\n",
       "         9.32,   0.  ,   9.9 ,  10.65,   9.1 ,   9.35,   0.  ,   8.02,\n",
       "         6.4 ,   9.09,  11.5 ,   0.  ,   8.09,  11.17,  11.88,  10.25,\n",
       "         0.  ,  10.1 ,   8.38,   6.84,   9.78,   0.  ,   8.76,  12.02,\n",
       "        12.25,   9.96,   0.  ,   9.88,  10.75,   9.92,   9.48,   0.  ,\n",
       "         8.4 ,   8.64,  10.35,  11.46,   0.  ,   8.59,   6.48,   8.18,\n",
       "         9.35,   7.47,   6.62,  10.  ,  10.68,   0.  ,   8.78,   9.65,\n",
       "         7.68,   6.22,   0.  ,   8.6 ,   9.26,   9.05,   6.98,   7.38,\n",
       "         7.42,   9.91,   8.88,   0.  ,   9.44,   6.85,   8.34,  11.32,\n",
       "         0.  ,  11.65,   8.24,   9.05,   8.91,   0.  ,  10.88,   9.83,\n",
       "         9.22,   9.35,  10.  ,   9.8 ,   7.52,   9.  ,   0.  ,   9.25,\n",
       "         8.23,   9.28,   9.  ,   0.  ,   9.1 ,   9.05,   9.62,  12.72,\n",
       "        11.82,  10.1 ,  10.05,  12.78,   0.  ,   8.4 ,   7.97,   7.1 ,\n",
       "         7.43,   0.  ,   9.98,  11.08,  13.4 ,  12.86,   0.  ,   9.37,\n",
       "         9.9 ,   9.5 ,   9.27,   7.98,   7.74,   8.04,   7.74,   0.  ,\n",
       "        10.24,   7.94,   8.35,   9.32,   0.  ,   8.  ,   8.65,   9.68,\n",
       "         7.1 ,   6.72,   6.42,   5.92,   6.44,   0.  ,   8.08,   6.55,\n",
       "         6.74,   7.36,   0.  ,   7.35,   7.27,   7.02,   6.22,   6.56,\n",
       "         5.78,   4.42,   6.  ,   6.9 ,   5.78,   5.12,   4.66,   6.53,\n",
       "         0.  ,   7.78,   9.12,   7.43,   5.15,   0.  ,   6.32,   6.92,\n",
       "         6.26,   4.98,   0.  ,   5.01,   4.51,   4.68,   5.98,   7.12,\n",
       "         6.  ,   5.86,   5.9 ,   0.  ,   6.15,   3.7 ,   3.44,   4.49,\n",
       "         0.  ,   4.19,   3.38,   3.95,   3.9 ,   4.72,   5.4 ,   3.5 ,\n",
       "         4.  ,   4.66,   5.1 ,   8.25,   8.38,   0.  ,   5.86,   0.  ,\n",
       "         3.05,   4.05,   4.53,   3.58,   0.  ,   5.66,   5.07,   3.55,\n",
       "         3.8 ,   6.12,   3.5 ,   3.08,   5.04,   4.6 ,   4.31,   5.24,\n",
       "         4.04,   3.42,   0.  ,   3.53,   3.82,   3.18,   2.95,   0.  ,\n",
       "         4.23,   4.03,   3.78,   3.96,   3.9 ,   6.24,   5.76,   3.42,\n",
       "         0.  ,   4.07,   3.2 ,   3.53,   3.56,   0.  ,   3.04,   3.1 ,\n",
       "         4.13,   3.66,   0.  ,   4.14,   3.84,   4.3 ,   4.88,   5.62,\n",
       "         6.62,   5.66,   5.92,   6.26,   4.65,   4.52,   4.4 ,   4.2 ,\n",
       "         0.  ,   3.06,   3.88,   3.87,   3.85,   0.  ,   3.63,   3.43,\n",
       "         3.32,   4.  ,   0.  ,   3.32,   4.37,   4.05,   4.3 ,   3.5 ,\n",
       "         2.42,   2.6 ,   4.6 ,   0.  ,   3.6 ,   3.46,   2.76,   2.88,\n",
       "         0.  ,   2.33,   2.35,   3.08,   3.62,   3.46,   3.01,   2.54,\n",
       "         0.  ])"
      ]
     },
     "execution_count": 61,
     "metadata": {},
     "output_type": "execute_result"
    }
   ],
   "source": [
    "curr_sensor_measurements_for_all_time_periods"
   ]
  },
  {
   "cell_type": "code",
   "execution_count": null,
   "metadata": {},
   "outputs": [],
   "source": []
  }
 ],
 "metadata": {
  "kernelspec": {
   "display_name": "Python 3",
   "language": "python",
   "name": "python3"
  },
  "language_info": {
   "codemirror_mode": {
    "name": "ipython",
    "version": 3
   },
   "file_extension": ".py",
   "mimetype": "text/x-python",
   "name": "python",
   "nbconvert_exporter": "python",
   "pygments_lexer": "ipython3",
   "version": "3.6.6"
  }
 },
 "nbformat": 4,
 "nbformat_minor": 2
}
