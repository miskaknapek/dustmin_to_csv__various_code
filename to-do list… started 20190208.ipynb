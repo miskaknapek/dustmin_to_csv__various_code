{
 "cells": [
  {
   "cell_type": "markdown",
   "metadata": {},
   "source": [
    "# to do list! "
   ]
  },
  {
   "cell_type": "markdown",
   "metadata": {},
   "source": [
    "### 2019 02 08\n",
    "- round / truncate the numbers to three significant digits\n",
    "- make it work dynamically, such tha it queries a database and fetches the latest 24 hours of data.\n",
    "\n",
    "###### next steps… \n",
    "- what can be done without a database? \n",
    "- - (absolutely nothing…) \n",
    "- - we could generate the output data, from the data we have… \n",
    "- - we CAN'T automatically get data… that we could then re-format and export. \n",
    "- - we can't quite do disk operations based on the data… \n",
    "- so… \n",
    "- - we'll need to sort out the data basckend at some point \n",
    "- - - but it will take some time ( so do it during a quiet moment ; ) \n",
    "- - - ( do the clever things during a more awake moment ) \n",
    "- - we COULD work on specifying the data output more . "
   ]
  },
  {
   "cell_type": "code",
   "execution_count": null,
   "metadata": {},
   "outputs": [],
   "source": []
  },
  {
   "cell_type": "code",
   "execution_count": null,
   "metadata": {},
   "outputs": [],
   "source": []
  },
  {
   "cell_type": "code",
   "execution_count": null,
   "metadata": {},
   "outputs": [],
   "source": []
  },
  {
   "cell_type": "markdown",
   "metadata": {},
   "source": [
    "# ideas for the future! "
   ]
  },
  {
   "cell_type": "markdown",
   "metadata": {},
   "source": [
    "#### ideas : in terms of data storage : \n",
    "- make one 24 hour file every day. \n",
    "- make a file that is updated every eg 3-5 mins, that contains the data since midnight. \n",
    "- - when \n",
    "\n",
    "\n",
    "#### ideas : long into the future \n",
    "- make different resolution versions of the data. eg.\n",
    "- - 1 hour, 30 min, 15 min, versinos? \n",
    "- - with mean, max, min values "
   ]
  },
  {
   "cell_type": "code",
   "execution_count": null,
   "metadata": {},
   "outputs": [],
   "source": []
  },
  {
   "cell_type": "code",
   "execution_count": null,
   "metadata": {},
   "outputs": [],
   "source": []
  },
  {
   "cell_type": "code",
   "execution_count": null,
   "metadata": {},
   "outputs": [],
   "source": []
  },
  {
   "cell_type": "markdown",
   "metadata": {},
   "source": [
    "# sketchpad"
   ]
  },
  {
   "cell_type": "markdown",
   "metadata": {},
   "source": [
    "#### where are we now ? \n",
    "- - got code to take ( and possibly select ) a time-period, set the relevant time frame for data, and resample values there to the relevant time interval. \n",
    "- - thus we get a same size tabular data structure of the given sensor data \n",
    "\n",
    "#### where do we need to go? \n",
    "- - output : \n",
    "- - - tabular sensor data\n",
    "- - - sensor ids\n",
    "- - - sensor lat lon \n",
    "\n",
    "- - input : \n",
    "- - - get data from database, via psycopg2 ; \n",
    "- - - - query specific time \n",
    "\n",
    "- - setup… \n",
    "- - - postgresql that stores data, that's continually being fetched\n",
    "- - - python script that fetches the data and stores it in the appropriate format\n",
    "- - - python script that, at midnight, saves a midnight file of all the data. \n",
    "- - - ( python script that, once a month, fetched the relevant monthly file, and generates the monthly file of all this. )"
   ]
  },
  {
   "cell_type": "code",
   "execution_count": null,
   "metadata": {},
   "outputs": [],
   "source": []
  }
 ],
 "metadata": {
  "kernelspec": {
   "display_name": "Python 3",
   "language": "python",
   "name": "python3"
  },
  "language_info": {
   "codemirror_mode": {
    "name": "ipython",
    "version": 3
   },
   "file_extension": ".py",
   "mimetype": "text/x-python",
   "name": "python",
   "nbconvert_exporter": "python",
   "pygments_lexer": "ipython3",
   "version": "3.6.6"
  }
 },
 "nbformat": 4,
 "nbformat_minor": 2
}
