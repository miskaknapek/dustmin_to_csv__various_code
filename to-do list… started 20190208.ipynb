{
 "cells": [
  {
   "cell_type": "markdown",
   "metadata": {},
   "source": [
    "# to do list! "
   ]
  },
  {
   "cell_type": "markdown",
   "metadata": {},
   "source": [
    "### 2019 02 08\n",
    "- round / truncate the numbers to three significant digits\n",
    "- make it work dynamically, such tha it queries a database and fetches the latest 24 hours of data.\n",
    "\n",
    "###### next steps… \n",
    "- what can be done without a database? \n",
    "- - (absolutely nothing…) \n",
    "- - we could generate the output data, from the data we have… \n",
    "- - we CAN'T automatically get data… that we could then re-format and export. \n",
    "- - we can't quite do disk operations based on the data… \n",
    "- so… \n",
    "- - we'll need to sort out the data basckend at some point \n",
    "- - - but it will take some time ( so do it during a quiet moment ; ) \n",
    "- - - ( do the clever things during a more awake moment ) \n",
    "- - we COULD work on specifying the data output more . "
   ]
  },
  {
   "cell_type": "code",
   "execution_count": null,
   "metadata": {},
   "outputs": [],
   "source": []
  },
  {
   "cell_type": "code",
   "execution_count": null,
   "metadata": {},
   "outputs": [],
   "source": []
  },
  {
   "cell_type": "code",
   "execution_count": null,
   "metadata": {},
   "outputs": [],
   "source": []
  },
  {
   "cell_type": "markdown",
   "metadata": {},
   "source": [
    "# ideas for the future! "
   ]
  },
  {
   "cell_type": "markdown",
   "metadata": {},
   "source": [
    "#### ideas : in terms of data storage : \n",
    "- make one 24 hour file every day. \n",
    "- make a file that is updated every eg 3-5 mins, that contains the data since midnight. \n",
    "- - when \n",
    "\n",
    "\n",
    "#### ideas : long into the future \n",
    "- make different resolution versions of the data. eg.\n",
    "- - 1 hour, 30 min, 15 min, versinos? \n",
    "- - with mean, max, min values "
   ]
  },
  {
   "cell_type": "code",
   "execution_count": null,
   "metadata": {},
   "outputs": [],
   "source": []
  },
  {
   "cell_type": "code",
   "execution_count": null,
   "metadata": {},
   "outputs": [],
   "source": []
  },
  {
   "cell_type": "code",
   "execution_count": null,
   "metadata": {},
   "outputs": [],
   "source": []
  },
  {
   "cell_type": "markdown",
   "metadata": {},
   "source": [
    "# sketchpad"
   ]
  },
  {
   "cell_type": "markdown",
   "metadata": {},
   "source": [
    "#### where are we now ? \n",
    "- - got code to take ( and possibly select ) a time-period, set the relevant time frame for data, and resample values there to the relevant time interval. \n",
    "- - thus we get a same size tabular data structure of the given sensor data \n",
    "\n",
    "#### where do we need to go? \n",
    "- - output : \n",
    "- - - tabular sensor data\n",
    "- - - sensor ids\n",
    "- - - sensor lat lon \n",
    "\n",
    "- - input : \n",
    "- - - get data from database, via psycopg2 ; \n",
    "- - - - query specific time \n",
    "\n",
    "- - setup… \n",
    "- - - postgresql that stores data, that's continually being fetched\n",
    "- - - python script that fetches the data and stores it in the appropriate format\n",
    "- - - python script that, at midnight, saves a midnight file of all the data. \n",
    "- - - ( python script that, once a month, fetched the relevant monthly file, and generates the monthly file of all this. )"
   ]
  },
  {
   "cell_type": "code",
   "execution_count": null,
   "metadata": {},
   "outputs": [],
   "source": []
  },
  {
   "cell_type": "code",
   "execution_count": null,
   "metadata": {},
   "outputs": [],
   "source": []
  },
  {
   "cell_type": "markdown",
   "metadata": {},
   "source": [
    "## how to do the daily tabular data creation ? \n",
    "### pseudocode and ideas"
   ]
  },
  {
   "cell_type": "markdown",
   "metadata": {},
   "source": [
    "#### - make basic variables "
   ]
  },
  {
   "cell_type": "markdown",
   "metadata": {},
   "source": [
    "- length of time being sampled, in seconds…\n",
    "- make variable for the number of data_samples that can fit into the given time period"
   ]
  },
  {
   "cell_type": "markdown",
   "metadata": {},
   "source": [
    "#### - make item variables for start and end time "
   ]
  },
  {
   "cell_type": "markdown",
   "metadata": {},
   "source": [
    "( make this modular, eg a function, such that one could choose which kind of time generation stype one would prefer. IE does one fetch :\n",
    "- since-last-midnight time ( save as current data . json ) \n",
    "- whole 24 hours period ( save as year_month_day . json ) "
   ]
  },
  {
   "cell_type": "markdown",
   "metadata": {},
   "source": [
    "- calculate the number of sample time-segments that fit into the time being made data about ( eg is it the day since midnight, or the whole day? )"
   ]
  },
  {
   "cell_type": "markdown",
   "metadata": {},
   "source": [
    "#### - fetch data "
   ]
  },
  {
   "cell_type": "markdown",
   "metadata": {},
   "source": [
    "- through psql - use the generated times to make the (p)sql query"
   ]
  },
  {
   "cell_type": "markdown",
   "metadata": {},
   "source": [
    "#### - prepare data for use "
   ]
  },
  {
   "cell_type": "markdown",
   "metadata": {},
   "source": [
    "- make the timestamp column a timestamp column ( pd.to_datetime ) "
   ]
  },
  {
   "cell_type": "markdown",
   "metadata": {},
   "source": [
    "- make blank start/end rows\n"
   ]
  },
  {
   "cell_type": "markdown",
   "metadata": {},
   "source": [
    "#### - produce unique list of sensors ids "
   ]
  },
  {
   "cell_type": "code",
   "execution_count": null,
   "metadata": {},
   "outputs": [],
   "source": []
  },
  {
   "cell_type": "markdown",
   "metadata": {},
   "source": [
    "#### - make proper variables for saving the data \n",
    "( eg appropriately sized nump arrays for storing the outputted data )"
   ]
  },
  {
   "cell_type": "markdown",
   "metadata": {},
   "source": [
    "eg a numpy array of size - num_of_unique_sensors.shape[0] X n-sample-length-minutes-in-current-time-span"
   ]
  },
  {
   "cell_type": "markdown",
   "metadata": {},
   "source": [
    "#### - loop : go sensor id by sensor id "
   ]
  },
  {
   "cell_type": "markdown",
   "metadata": {},
   "source": [
    "- - fetch all the sensor rows for current id"
   ]
  },
  {
   "cell_type": "markdown",
   "metadata": {},
   "source": [
    "- - insert blank start time row in front of current data "
   ]
  },
  {
   "cell_type": "markdown",
   "metadata": {},
   "source": [
    "- - insert blank end time row after the current data"
   ]
  },
  {
   "cell_type": "markdown",
   "metadata": {},
   "source": [
    "- - resample \n",
    "- - save, appropriately, into out numpy_array"
   ]
  },
  {
   "cell_type": "markdown",
   "metadata": {},
   "source": []
  },
  {
   "cell_type": "markdown",
   "metadata": {},
   "source": [
    "#### post loop : structure data for saving? "
   ]
  },
  {
   "cell_type": "markdown",
   "metadata": {},
   "source": []
  },
  {
   "cell_type": "markdown",
   "metadata": {},
   "source": [
    "- generate filename\n",
    "- - with different settings : \n",
    "- - - 1. for since-midnight ( call it current_since_midnight_data.json )\n",
    "- - - 2. for a whole day ( call it whole_day_YEAR_MONTH_DAY.json )"
   ]
  },
  {
   "cell_type": "markdown",
   "metadata": {},
   "source": [
    "- generate output : \n",
    "- - start / end time of data ( good for the recipient to generate time-stamps with ) \n",
    "- - sample_time_length\n",
    "- - list of sensors \n",
    "- - list of lat lon, in the same order as sensors\n",
    "- - data : \n",
    "- - - p1 array : comma separated values \n",
    "- - - p2 array : comma separated values "
   ]
  },
  {
   "cell_type": "code",
   "execution_count": null,
   "metadata": {},
   "outputs": [],
   "source": []
  },
  {
   "cell_type": "code",
   "execution_count": null,
   "metadata": {},
   "outputs": [],
   "source": []
  },
  {
   "cell_type": "markdown",
   "metadata": {},
   "source": [
    "## to try : \n",
    "- generate and save numpy arrays … "
   ]
  },
  {
   "cell_type": "code",
   "execution_count": null,
   "metadata": {},
   "outputs": [],
   "source": []
  }
 ],
 "metadata": {
  "kernelspec": {
   "display_name": "Python 3",
   "language": "python",
   "name": "python3"
  },
  "language_info": {
   "codemirror_mode": {
    "name": "ipython",
    "version": 3
   },
   "file_extension": ".py",
   "mimetype": "text/x-python",
   "name": "python",
   "nbconvert_exporter": "python",
   "pygments_lexer": "ipython3",
   "version": "3.6.7"
  }
 },
 "nbformat": 4,
 "nbformat_minor": 2
}
